{
 "cells": [
  {
   "cell_type": "code",
   "execution_count": 1,
   "id": "19c7e8a6-2657-4546-bad8-c8ae13132ed6",
   "metadata": {
    "tags": []
   },
   "outputs": [],
   "source": [
    "import pandas as pd\n",
    "from sklearn.metrics.pairwise import cosine_similarity"
   ]
  },
  {
   "cell_type": "markdown",
   "metadata": {},
   "source": [
    "Some tests of the item-based collaboration filtering algorithm to help debugging and optimising."
   ]
  },
  {
   "cell_type": "code",
   "execution_count": 2,
   "id": "7ad31b58-4885-4ddb-9ddc-6f265d6e1431",
   "metadata": {
    "tags": []
   },
   "outputs": [],
   "source": [
    "metadata = pd.read_json(r'F:\\DS_Dataset\\genome_2021\\movie_dataset_public_final\\raw\\metadata.json', lines=True)"
   ]
  },
  {
   "cell_type": "code",
   "execution_count": 3,
   "id": "7f838cf9-c160-4f99-ab65-554c134352eb",
   "metadata": {
    "tags": []
   },
   "outputs": [
    {
     "data": {
      "text/html": [
       "<div>\n",
       "<style scoped>\n",
       "    .dataframe tbody tr th:only-of-type {\n",
       "        vertical-align: middle;\n",
       "    }\n",
       "\n",
       "    .dataframe tbody tr th {\n",
       "        vertical-align: top;\n",
       "    }\n",
       "\n",
       "    .dataframe thead th {\n",
       "        text-align: right;\n",
       "    }\n",
       "</style>\n",
       "<table border=\"1\" class=\"dataframe\">\n",
       "  <thead>\n",
       "    <tr style=\"text-align: right;\">\n",
       "      <th></th>\n",
       "      <th>item_id</th>\n",
       "      <th>user_id</th>\n",
       "      <th>rating</th>\n",
       "    </tr>\n",
       "  </thead>\n",
       "  <tbody>\n",
       "    <tr>\n",
       "      <th>0</th>\n",
       "      <td>1</td>\n",
       "      <td>0</td>\n",
       "      <td>3.5</td>\n",
       "    </tr>\n",
       "    <tr>\n",
       "      <th>1</th>\n",
       "      <td>1</td>\n",
       "      <td>19</td>\n",
       "      <td>5.0</td>\n",
       "    </tr>\n",
       "    <tr>\n",
       "      <th>2</th>\n",
       "      <td>1</td>\n",
       "      <td>24</td>\n",
       "      <td>3.0</td>\n",
       "    </tr>\n",
       "    <tr>\n",
       "      <th>3</th>\n",
       "      <td>1</td>\n",
       "      <td>25</td>\n",
       "      <td>3.0</td>\n",
       "    </tr>\n",
       "    <tr>\n",
       "      <th>4</th>\n",
       "      <td>1</td>\n",
       "      <td>42</td>\n",
       "      <td>5.0</td>\n",
       "    </tr>\n",
       "    <tr>\n",
       "      <th>...</th>\n",
       "      <td>...</td>\n",
       "      <td>...</td>\n",
       "      <td>...</td>\n",
       "    </tr>\n",
       "    <tr>\n",
       "      <th>28249186</th>\n",
       "      <td>237107</td>\n",
       "      <td>672530</td>\n",
       "      <td>4.5</td>\n",
       "    </tr>\n",
       "    <tr>\n",
       "      <th>28249187</th>\n",
       "      <td>237127</td>\n",
       "      <td>619061</td>\n",
       "      <td>3.0</td>\n",
       "    </tr>\n",
       "    <tr>\n",
       "      <th>28249188</th>\n",
       "      <td>237129</td>\n",
       "      <td>594170</td>\n",
       "      <td>4.0</td>\n",
       "    </tr>\n",
       "    <tr>\n",
       "      <th>28249189</th>\n",
       "      <td>237131</td>\n",
       "      <td>395134</td>\n",
       "      <td>2.5</td>\n",
       "    </tr>\n",
       "    <tr>\n",
       "      <th>28249190</th>\n",
       "      <td>237187</td>\n",
       "      <td>868974</td>\n",
       "      <td>2.5</td>\n",
       "    </tr>\n",
       "  </tbody>\n",
       "</table>\n",
       "<p>28249191 rows × 3 columns</p>\n",
       "</div>"
      ],
      "text/plain": [
       "          item_id  user_id  rating\n",
       "0               1        0     3.5\n",
       "1               1       19     5.0\n",
       "2               1       24     3.0\n",
       "3               1       25     3.0\n",
       "4               1       42     5.0\n",
       "...           ...      ...     ...\n",
       "28249186   237107   672530     4.5\n",
       "28249187   237127   619061     3.0\n",
       "28249188   237129   594170     4.0\n",
       "28249189   237131   395134     2.5\n",
       "28249190   237187   868974     2.5\n",
       "\n",
       "[28249191 rows x 3 columns]"
      ]
     },
     "execution_count": 3,
     "metadata": {},
     "output_type": "execute_result"
    }
   ],
   "source": [
    "ratings = pd.read_csv(r'F:\\DS_Dataset\\final\\user-based\\ratings.csv')\n",
    "ratings"
   ]
  },
  {
   "cell_type": "code",
   "execution_count": 4,
   "id": "cb6a7b73-07db-45f8-81e8-53c6c22329b8",
   "metadata": {
    "tags": []
   },
   "outputs": [
    {
     "data": {
      "text/html": [
       "<div>\n",
       "<style scoped>\n",
       "    .dataframe tbody tr th:only-of-type {\n",
       "        vertical-align: middle;\n",
       "    }\n",
       "\n",
       "    .dataframe tbody tr th {\n",
       "        vertical-align: top;\n",
       "    }\n",
       "\n",
       "    .dataframe thead th {\n",
       "        text-align: right;\n",
       "    }\n",
       "</style>\n",
       "<table border=\"1\" class=\"dataframe\">\n",
       "  <thead>\n",
       "    <tr style=\"text-align: right;\">\n",
       "      <th></th>\n",
       "      <th>user_id</th>\n",
       "      <th>rating</th>\n",
       "    </tr>\n",
       "  </thead>\n",
       "  <tbody>\n",
       "    <tr>\n",
       "      <th>0</th>\n",
       "      <td>0</td>\n",
       "      <td>3.738636</td>\n",
       "    </tr>\n",
       "    <tr>\n",
       "      <th>1</th>\n",
       "      <td>7</td>\n",
       "      <td>3.066667</td>\n",
       "    </tr>\n",
       "    <tr>\n",
       "      <th>2</th>\n",
       "      <td>11</td>\n",
       "      <td>4.200000</td>\n",
       "    </tr>\n",
       "    <tr>\n",
       "      <th>3</th>\n",
       "      <td>19</td>\n",
       "      <td>3.592727</td>\n",
       "    </tr>\n",
       "    <tr>\n",
       "      <th>4</th>\n",
       "      <td>24</td>\n",
       "      <td>3.397177</td>\n",
       "    </tr>\n",
       "    <tr>\n",
       "      <th>...</th>\n",
       "      <td>...</td>\n",
       "      <td>...</td>\n",
       "    </tr>\n",
       "    <tr>\n",
       "      <th>247378</th>\n",
       "      <td>999984</td>\n",
       "      <td>2.250000</td>\n",
       "    </tr>\n",
       "    <tr>\n",
       "      <th>247379</th>\n",
       "      <td>999985</td>\n",
       "      <td>3.519685</td>\n",
       "    </tr>\n",
       "    <tr>\n",
       "      <th>247380</th>\n",
       "      <td>999991</td>\n",
       "      <td>2.946078</td>\n",
       "    </tr>\n",
       "    <tr>\n",
       "      <th>247381</th>\n",
       "      <td>999994</td>\n",
       "      <td>3.166667</td>\n",
       "    </tr>\n",
       "    <tr>\n",
       "      <th>247382</th>\n",
       "      <td>999999</td>\n",
       "      <td>3.857895</td>\n",
       "    </tr>\n",
       "  </tbody>\n",
       "</table>\n",
       "<p>247383 rows × 2 columns</p>\n",
       "</div>"
      ],
      "text/plain": [
       "        user_id    rating\n",
       "0             0  3.738636\n",
       "1             7  3.066667\n",
       "2            11  4.200000\n",
       "3            19  3.592727\n",
       "4            24  3.397177\n",
       "...         ...       ...\n",
       "247378   999984  2.250000\n",
       "247379   999985  3.519685\n",
       "247380   999991  2.946078\n",
       "247381   999994  3.166667\n",
       "247382   999999  3.857895\n",
       "\n",
       "[247383 rows x 2 columns]"
      ]
     },
     "execution_count": 4,
     "metadata": {},
     "output_type": "execute_result"
    }
   ],
   "source": [
    "user_avg_rating = pd.read_csv(r'F:\\DS_Dataset\\final\\user-based\\user_avg_rating.csv')\n",
    "user_avg_rating"
   ]
  },
  {
   "cell_type": "code",
   "execution_count": 5,
   "id": "42ca2b55-4529-494f-b38b-3c7aa8754970",
   "metadata": {
    "tags": []
   },
   "outputs": [],
   "source": [
    "def recommend_movies(input_df, ratings_df, user_avg_rating, n=20):\n",
    "    \"\"\"\n",
    "    Recommend movies to a user by combining nearest neighbor finding, rating prediction, \n",
    "    and sorting by predicted ratings, with a limit of top 10 movies per neighbor.\n",
    "\n",
    "    Parameters:\n",
    "    input_df (DataFrame): Ratings of movies by the user.\n",
    "    ratings_df (DataFrame): DataFrame containing movie ratings in the database.\n",
    "    top10_movies_by_user (DataFrame): DataFrame containing top 10 rating movies by users.\n",
    "    user_avg_rating (DataFrame): DataFrame containing average rating of each user.\n",
    "    n (int): Number of top nearest neighbours to consider.\n",
    "\n",
    "    Returns:\n",
    "    DataFrame: Movies recommended to the user, sorted by predicted ratings.\n",
    "    \"\"\"\n",
    "    \n",
    "    # Find Nearest Neighbours\n",
    "    watched_movies = input_df['item_id'].unique()\n",
    "    relevant_ratings = ratings_df[ratings_df['item_id'].isin(watched_movies)]\n",
    "    user_item_matrix = relevant_ratings.pivot_table(index='user_id', columns='item_id', values='rating').fillna(0)\n",
    "    user_profile = input_df.set_index('item_id').reindex(user_item_matrix.columns).fillna(0).T\n",
    "    similarity = cosine_similarity(user_profile, user_item_matrix)\n",
    "    similarity_df = pd.DataFrame(similarity.T, index=user_item_matrix.index, columns=['cos_sim'])\n",
    "    top_neighbours = similarity_df.sort_values(by='cos_sim', ascending=False).head(n).reset_index()\n",
    "\n",
    "    # Limit to Top N Movies for Each Neighbor\n",
    "    top_movies_by_neighbour = {}\n",
    "    for neighbor_id in top_neighbours['user_id']:\n",
    "        top_movies = ratings_df[ratings_df['user_id'] == neighbor_id].sort_values(by='rating', ascending=False).head(10)['item_id'].tolist()\n",
    "        top_movies_by_neighbour[neighbor_id] = top_movies\n",
    "\n",
    "    # Aggregate Movies to Predict\n",
    "    movies_to_predict = set()\n",
    "    for movies in top_movies_by_neighbour.values():\n",
    "        movies_to_predict.update(movies)\n",
    "    movies_to_predict -= set(input_df['item_id'])\n",
    "\n",
    "    # Directly Predict Ratings\n",
    "    user_avg_ratings_dict = user_avg_rating.set_index('user_id')['rating'].to_dict()\n",
    "    \n",
    "    predictions = []\n",
    "    user_avg_rating = input_df['rating'].mean()  \n",
    "    for movie_id in movies_to_predict:\n",
    "        numerator, denominator = 0, 0\n",
    "        for _, row in top_neighbours.iterrows():\n",
    "            neighbor_id = row['user_id']\n",
    "            if movie_id in top_movies_by_neighbour[neighbor_id]:\n",
    "                cos_sim = row['cos_sim']\n",
    "                neighbor_ratings = ratings_df.loc[(ratings_df['user_id'] == neighbor_id) & (ratings_df['item_id'] == movie_id), 'rating']\n",
    "                if not neighbor_ratings.empty:\n",
    "                    neighbor_rating = neighbor_ratings.iloc[0]\n",
    "                    neighbor_avg_rating = user_avg_ratings_dict.get(neighbor_id, 0) \n",
    "                    numerator += cos_sim * (neighbor_rating - neighbor_avg_rating)\n",
    "                    denominator += abs(cos_sim)\n",
    "\n",
    "        # Calculate Predicted Rating\n",
    "        pred_rating = user_avg_rating if denominator == 0 else user_avg_rating + (numerator / denominator)\n",
    "        predictions.append((movie_id, pred_rating))\n",
    "\n",
    "    # Sort and Return Recommendations\n",
    "    recommendations_df = pd.DataFrame(predictions, columns=['item_id', 'pred_rating'])\n",
    "    return recommendations_df.sort_values(by='pred_rating', ascending=False)"
   ]
  },
  {
   "cell_type": "markdown",
   "id": "fd40d635-bbf4-4ead-975b-db182ef34d33",
   "metadata": {},
   "source": [
    "## Example one: super hero fan"
   ]
  },
  {
   "cell_type": "code",
   "execution_count": 6,
   "id": "b25cf3d9-a9f7-44fb-849d-8f4523eee1d2",
   "metadata": {
    "tags": []
   },
   "outputs": [
    {
     "data": {
      "text/html": [
       "<div>\n",
       "<style scoped>\n",
       "    .dataframe tbody tr th:only-of-type {\n",
       "        vertical-align: middle;\n",
       "    }\n",
       "\n",
       "    .dataframe tbody tr th {\n",
       "        vertical-align: top;\n",
       "    }\n",
       "\n",
       "    .dataframe thead th {\n",
       "        text-align: right;\n",
       "    }\n",
       "</style>\n",
       "<table border=\"1\" class=\"dataframe\">\n",
       "  <thead>\n",
       "    <tr style=\"text-align: right;\">\n",
       "      <th></th>\n",
       "      <th>title</th>\n",
       "      <th>directedBy</th>\n",
       "      <th>starring</th>\n",
       "      <th>dateAdded</th>\n",
       "      <th>avgRating</th>\n",
       "      <th>imdbId</th>\n",
       "      <th>item_id</th>\n",
       "    </tr>\n",
       "  </thead>\n",
       "  <tbody>\n",
       "    <tr>\n",
       "      <th>12563</th>\n",
       "      <td>Dark Knight, The (2008)</td>\n",
       "      <td>Christopher Nolan</td>\n",
       "      <td>Christian Bale, Aaron Eckhart, Heath Ledger, M...</td>\n",
       "      <td>2008-07-03T21:01:22</td>\n",
       "      <td>4.18379</td>\n",
       "      <td>468569</td>\n",
       "      <td>58559</td>\n",
       "    </tr>\n",
       "  </tbody>\n",
       "</table>\n",
       "</div>"
      ],
      "text/plain": [
       "                         title         directedBy  \\\n",
       "12563  Dark Knight, The (2008)  Christopher Nolan   \n",
       "\n",
       "                                                starring            dateAdded  \\\n",
       "12563  Christian Bale, Aaron Eckhart, Heath Ledger, M...  2008-07-03T21:01:22   \n",
       "\n",
       "       avgRating  imdbId  item_id  \n",
       "12563    4.18379  468569    58559  "
      ]
     },
     "execution_count": 6,
     "metadata": {},
     "output_type": "execute_result"
    }
   ],
   "source": [
    "metadata[metadata['item_id']==58559]"
   ]
  },
  {
   "cell_type": "code",
   "execution_count": 7,
   "id": "b07fad58-50f0-4978-afa4-4040114f4423",
   "metadata": {
    "tags": []
   },
   "outputs": [
    {
     "data": {
      "text/html": [
       "<div>\n",
       "<style scoped>\n",
       "    .dataframe tbody tr th:only-of-type {\n",
       "        vertical-align: middle;\n",
       "    }\n",
       "\n",
       "    .dataframe tbody tr th {\n",
       "        vertical-align: top;\n",
       "    }\n",
       "\n",
       "    .dataframe thead th {\n",
       "        text-align: right;\n",
       "    }\n",
       "</style>\n",
       "<table border=\"1\" class=\"dataframe\">\n",
       "  <thead>\n",
       "    <tr style=\"text-align: right;\">\n",
       "      <th></th>\n",
       "      <th>title</th>\n",
       "      <th>directedBy</th>\n",
       "      <th>starring</th>\n",
       "      <th>dateAdded</th>\n",
       "      <th>avgRating</th>\n",
       "      <th>imdbId</th>\n",
       "      <th>item_id</th>\n",
       "    </tr>\n",
       "  </thead>\n",
       "  <tbody>\n",
       "    <tr>\n",
       "      <th>5253</th>\n",
       "      <td>Spider-Man (2002)</td>\n",
       "      <td>Sam Raimi</td>\n",
       "      <td>Tobey Maguire, Kirsten Dunst, James Franco, Wi...</td>\n",
       "      <td>None</td>\n",
       "      <td>3.47373</td>\n",
       "      <td>145487</td>\n",
       "      <td>5349</td>\n",
       "    </tr>\n",
       "  </tbody>\n",
       "</table>\n",
       "</div>"
      ],
      "text/plain": [
       "                  title directedBy  \\\n",
       "5253  Spider-Man (2002)  Sam Raimi   \n",
       "\n",
       "                                               starring dateAdded  avgRating  \\\n",
       "5253  Tobey Maguire, Kirsten Dunst, James Franco, Wi...      None    3.47373   \n",
       "\n",
       "      imdbId  item_id  \n",
       "5253  145487     5349  "
      ]
     },
     "execution_count": 7,
     "metadata": {},
     "output_type": "execute_result"
    }
   ],
   "source": [
    "metadata[metadata['item_id']==5349]"
   ]
  },
  {
   "cell_type": "code",
   "execution_count": 8,
   "id": "13ea1cd5-5fc1-4017-8112-2ffc84837137",
   "metadata": {
    "tags": []
   },
   "outputs": [
    {
     "data": {
      "text/html": [
       "<div>\n",
       "<style scoped>\n",
       "    .dataframe tbody tr th:only-of-type {\n",
       "        vertical-align: middle;\n",
       "    }\n",
       "\n",
       "    .dataframe tbody tr th {\n",
       "        vertical-align: top;\n",
       "    }\n",
       "\n",
       "    .dataframe thead th {\n",
       "        text-align: right;\n",
       "    }\n",
       "</style>\n",
       "<table border=\"1\" class=\"dataframe\">\n",
       "  <thead>\n",
       "    <tr style=\"text-align: right;\">\n",
       "      <th></th>\n",
       "      <th>title</th>\n",
       "      <th>directedBy</th>\n",
       "      <th>starring</th>\n",
       "      <th>dateAdded</th>\n",
       "      <th>avgRating</th>\n",
       "      <th>imdbId</th>\n",
       "      <th>item_id</th>\n",
       "    </tr>\n",
       "  </thead>\n",
       "  <tbody>\n",
       "    <tr>\n",
       "      <th>11139</th>\n",
       "      <td>Superman Returns (2006)</td>\n",
       "      <td>Bryan Singer</td>\n",
       "      <td>Brandon Routh, Kate Bosworth, Kevin Spacey, Ja...</td>\n",
       "      <td>2006-06-27T07:09:05</td>\n",
       "      <td>2.89454</td>\n",
       "      <td>348150</td>\n",
       "      <td>46530</td>\n",
       "    </tr>\n",
       "  </tbody>\n",
       "</table>\n",
       "</div>"
      ],
      "text/plain": [
       "                         title    directedBy  \\\n",
       "11139  Superman Returns (2006)  Bryan Singer   \n",
       "\n",
       "                                                starring            dateAdded  \\\n",
       "11139  Brandon Routh, Kate Bosworth, Kevin Spacey, Ja...  2006-06-27T07:09:05   \n",
       "\n",
       "       avgRating  imdbId  item_id  \n",
       "11139    2.89454  348150    46530  "
      ]
     },
     "execution_count": 8,
     "metadata": {},
     "output_type": "execute_result"
    }
   ],
   "source": [
    "metadata[metadata['item_id']==46530]"
   ]
  },
  {
   "cell_type": "code",
   "execution_count": 9,
   "id": "cc0c295e-f684-4860-9f0e-5b9e09f55f72",
   "metadata": {
    "tags": []
   },
   "outputs": [
    {
     "data": {
      "text/html": [
       "<div>\n",
       "<style scoped>\n",
       "    .dataframe tbody tr th:only-of-type {\n",
       "        vertical-align: middle;\n",
       "    }\n",
       "\n",
       "    .dataframe tbody tr th {\n",
       "        vertical-align: top;\n",
       "    }\n",
       "\n",
       "    .dataframe thead th {\n",
       "        text-align: right;\n",
       "    }\n",
       "</style>\n",
       "<table border=\"1\" class=\"dataframe\">\n",
       "  <thead>\n",
       "    <tr style=\"text-align: right;\">\n",
       "      <th></th>\n",
       "      <th>title</th>\n",
       "      <th>directedBy</th>\n",
       "      <th>starring</th>\n",
       "      <th>dateAdded</th>\n",
       "      <th>avgRating</th>\n",
       "      <th>imdbId</th>\n",
       "      <th>item_id</th>\n",
       "    </tr>\n",
       "  </thead>\n",
       "  <tbody>\n",
       "    <tr>\n",
       "      <th>12671</th>\n",
       "      <td>Iron Man (2008)</td>\n",
       "      <td>Jon Favreau</td>\n",
       "      <td>Robert Downey Jr., Terrence Howard, Jeff Bridg...</td>\n",
       "      <td>2008-05-02T13:39:43</td>\n",
       "      <td>3.83428</td>\n",
       "      <td>371746</td>\n",
       "      <td>59315</td>\n",
       "    </tr>\n",
       "  </tbody>\n",
       "</table>\n",
       "</div>"
      ],
      "text/plain": [
       "                 title   directedBy  \\\n",
       "12671  Iron Man (2008)  Jon Favreau   \n",
       "\n",
       "                                                starring            dateAdded  \\\n",
       "12671  Robert Downey Jr., Terrence Howard, Jeff Bridg...  2008-05-02T13:39:43   \n",
       "\n",
       "       avgRating  imdbId  item_id  \n",
       "12671    3.83428  371746    59315  "
      ]
     },
     "execution_count": 9,
     "metadata": {},
     "output_type": "execute_result"
    }
   ],
   "source": [
    "metadata[metadata['item_id']==59315]"
   ]
  },
  {
   "cell_type": "code",
   "execution_count": 10,
   "id": "bb1855ae-d4a0-4614-95f1-97468f76cfad",
   "metadata": {
    "tags": []
   },
   "outputs": [
    {
     "data": {
      "text/html": [
       "<div>\n",
       "<style scoped>\n",
       "    .dataframe tbody tr th:only-of-type {\n",
       "        vertical-align: middle;\n",
       "    }\n",
       "\n",
       "    .dataframe tbody tr th {\n",
       "        vertical-align: top;\n",
       "    }\n",
       "\n",
       "    .dataframe thead th {\n",
       "        text-align: right;\n",
       "    }\n",
       "</style>\n",
       "<table border=\"1\" class=\"dataframe\">\n",
       "  <thead>\n",
       "    <tr style=\"text-align: right;\">\n",
       "      <th></th>\n",
       "      <th>title</th>\n",
       "      <th>directedBy</th>\n",
       "      <th>starring</th>\n",
       "      <th>dateAdded</th>\n",
       "      <th>avgRating</th>\n",
       "      <th>imdbId</th>\n",
       "      <th>item_id</th>\n",
       "    </tr>\n",
       "  </thead>\n",
       "  <tbody>\n",
       "    <tr>\n",
       "      <th>27907</th>\n",
       "      <td>Avengers: Infinity War - Part I (2018)</td>\n",
       "      <td></td>\n",
       "      <td>Robert Downey Jr.,Chris Evans,Josh Brolin,Samu...</td>\n",
       "      <td>2015-01-13T09:40:37</td>\n",
       "      <td>3.93974</td>\n",
       "      <td>4154756</td>\n",
       "      <td>122912</td>\n",
       "    </tr>\n",
       "  </tbody>\n",
       "</table>\n",
       "</div>"
      ],
      "text/plain": [
       "                                        title directedBy  \\\n",
       "27907  Avengers: Infinity War - Part I (2018)              \n",
       "\n",
       "                                                starring            dateAdded  \\\n",
       "27907  Robert Downey Jr.,Chris Evans,Josh Brolin,Samu...  2015-01-13T09:40:37   \n",
       "\n",
       "       avgRating   imdbId  item_id  \n",
       "27907    3.93974  4154756   122912  "
      ]
     },
     "execution_count": 10,
     "metadata": {},
     "output_type": "execute_result"
    }
   ],
   "source": [
    "metadata[metadata['item_id']==122912]"
   ]
  },
  {
   "cell_type": "code",
   "execution_count": 11,
   "id": "00620374-baa6-4284-a1e9-3e639faa7c23",
   "metadata": {
    "tags": []
   },
   "outputs": [
    {
     "data": {
      "text/html": [
       "<div>\n",
       "<style scoped>\n",
       "    .dataframe tbody tr th:only-of-type {\n",
       "        vertical-align: middle;\n",
       "    }\n",
       "\n",
       "    .dataframe tbody tr th {\n",
       "        vertical-align: top;\n",
       "    }\n",
       "\n",
       "    .dataframe thead th {\n",
       "        text-align: right;\n",
       "    }\n",
       "</style>\n",
       "<table border=\"1\" class=\"dataframe\">\n",
       "  <thead>\n",
       "    <tr style=\"text-align: right;\">\n",
       "      <th></th>\n",
       "      <th>item_id</th>\n",
       "      <th>rating</th>\n",
       "    </tr>\n",
       "  </thead>\n",
       "  <tbody>\n",
       "    <tr>\n",
       "      <th>0</th>\n",
       "      <td>58559</td>\n",
       "      <td>4</td>\n",
       "    </tr>\n",
       "    <tr>\n",
       "      <th>1</th>\n",
       "      <td>122912</td>\n",
       "      <td>5</td>\n",
       "    </tr>\n",
       "    <tr>\n",
       "      <th>2</th>\n",
       "      <td>5349</td>\n",
       "      <td>5</td>\n",
       "    </tr>\n",
       "    <tr>\n",
       "      <th>3</th>\n",
       "      <td>46530</td>\n",
       "      <td>3</td>\n",
       "    </tr>\n",
       "    <tr>\n",
       "      <th>4</th>\n",
       "      <td>59315</td>\n",
       "      <td>5</td>\n",
       "    </tr>\n",
       "  </tbody>\n",
       "</table>\n",
       "</div>"
      ],
      "text/plain": [
       "   item_id  rating\n",
       "0    58559       4\n",
       "1   122912       5\n",
       "2     5349       5\n",
       "3    46530       3\n",
       "4    59315       5"
      ]
     },
     "execution_count": 11,
     "metadata": {},
     "output_type": "execute_result"
    }
   ],
   "source": [
    "data = [\n",
    "  {'item_id': 58559, 'rating': 4},\n",
    "  {'item_id': 122912, 'rating': 5},\n",
    "  {'item_id': 5349, 'rating': 5},\n",
    "  {'item_id': 46530, 'rating': 3},\n",
    "  {'item_id': 59315, 'rating': 5}\n",
    "]\n",
    "input_example = pd.DataFrame(data)\n",
    "input_example"
   ]
  },
  {
   "cell_type": "code",
   "execution_count": 12,
   "id": "bd2d48f3-a27e-42c2-ab08-39d6b0030059",
   "metadata": {
    "tags": []
   },
   "outputs": [],
   "source": [
    "import time"
   ]
  },
  {
   "cell_type": "code",
   "execution_count": 13,
   "id": "498e25c1-97b9-4cd1-87d4-bd10384ab22c",
   "metadata": {
    "tags": []
   },
   "outputs": [
    {
     "data": {
      "text/plain": [
       "9.894152641296387"
      ]
     },
     "execution_count": 13,
     "metadata": {},
     "output_type": "execute_result"
    }
   ],
   "source": [
    "start_time = time.time()\n",
    "movie_recommended_example1 = recommend_movies(input_example, ratings, user_avg_rating, n=20)\n",
    "end_time = time.time()\n",
    "end_time - start_time"
   ]
  },
  {
   "cell_type": "code",
   "execution_count": 14,
   "id": "26e83dbd-28b5-4088-9a20-0f7cf69a605d",
   "metadata": {
    "tags": []
   },
   "outputs": [
    {
     "data": {
      "text/html": [
       "<div>\n",
       "<style scoped>\n",
       "    .dataframe tbody tr th:only-of-type {\n",
       "        vertical-align: middle;\n",
       "    }\n",
       "\n",
       "    .dataframe tbody tr th {\n",
       "        vertical-align: top;\n",
       "    }\n",
       "\n",
       "    .dataframe thead th {\n",
       "        text-align: right;\n",
       "    }\n",
       "</style>\n",
       "<table border=\"1\" class=\"dataframe\">\n",
       "  <thead>\n",
       "    <tr style=\"text-align: right;\">\n",
       "      <th></th>\n",
       "      <th>item_id</th>\n",
       "      <th>pred_rating</th>\n",
       "      <th>title</th>\n",
       "    </tr>\n",
       "  </thead>\n",
       "  <tbody>\n",
       "    <tr>\n",
       "      <th>0</th>\n",
       "      <td>1278</td>\n",
       "      <td>6.769853</td>\n",
       "      <td>Young Frankenstein (1974)</td>\n",
       "    </tr>\n",
       "    <tr>\n",
       "      <th>1</th>\n",
       "      <td>33493</td>\n",
       "      <td>6.769853</td>\n",
       "      <td>Star Wars: Episode III - Revenge of the Sith (...</td>\n",
       "    </tr>\n",
       "    <tr>\n",
       "      <th>2</th>\n",
       "      <td>143347</td>\n",
       "      <td>6.769853</td>\n",
       "      <td>Aquaman (2018)</td>\n",
       "    </tr>\n",
       "    <tr>\n",
       "      <th>3</th>\n",
       "      <td>106918</td>\n",
       "      <td>6.769853</td>\n",
       "      <td>Secret Life of Walter Mitty, The (2013)</td>\n",
       "    </tr>\n",
       "    <tr>\n",
       "      <th>4</th>\n",
       "      <td>6377</td>\n",
       "      <td>6.769853</td>\n",
       "      <td>Finding Nemo (2003)</td>\n",
       "    </tr>\n",
       "    <tr>\n",
       "      <th>...</th>\n",
       "      <td>...</td>\n",
       "      <td>...</td>\n",
       "      <td>...</td>\n",
       "    </tr>\n",
       "    <tr>\n",
       "      <th>175</th>\n",
       "      <td>54503</td>\n",
       "      <td>5.455118</td>\n",
       "      <td>Superbad (2007)</td>\n",
       "    </tr>\n",
       "    <tr>\n",
       "      <th>176</th>\n",
       "      <td>53996</td>\n",
       "      <td>5.455118</td>\n",
       "      <td>Transformers (2007)</td>\n",
       "    </tr>\n",
       "    <tr>\n",
       "      <th>177</th>\n",
       "      <td>69526</td>\n",
       "      <td>5.455118</td>\n",
       "      <td>Transformers: Revenge of the Fallen (2009)</td>\n",
       "    </tr>\n",
       "    <tr>\n",
       "      <th>178</th>\n",
       "      <td>72998</td>\n",
       "      <td>5.455118</td>\n",
       "      <td>Avatar (2009)</td>\n",
       "    </tr>\n",
       "    <tr>\n",
       "      <th>179</th>\n",
       "      <td>48516</td>\n",
       "      <td>5.455118</td>\n",
       "      <td>Departed, The (2006)</td>\n",
       "    </tr>\n",
       "  </tbody>\n",
       "</table>\n",
       "<p>180 rows × 3 columns</p>\n",
       "</div>"
      ],
      "text/plain": [
       "     item_id  pred_rating                                              title\n",
       "0       1278     6.769853                          Young Frankenstein (1974)\n",
       "1      33493     6.769853  Star Wars: Episode III - Revenge of the Sith (...\n",
       "2     143347     6.769853                                     Aquaman (2018)\n",
       "3     106918     6.769853            Secret Life of Walter Mitty, The (2013)\n",
       "4       6377     6.769853                                Finding Nemo (2003)\n",
       "..       ...          ...                                                ...\n",
       "175    54503     5.455118                                    Superbad (2007)\n",
       "176    53996     5.455118                                Transformers (2007)\n",
       "177    69526     5.455118         Transformers: Revenge of the Fallen (2009)\n",
       "178    72998     5.455118                                      Avatar (2009)\n",
       "179    48516     5.455118                               Departed, The (2006)\n",
       "\n",
       "[180 rows x 3 columns]"
      ]
     },
     "execution_count": 14,
     "metadata": {},
     "output_type": "execute_result"
    }
   ],
   "source": [
    "movie_recommended_example1 = movie_recommended_example1.merge(metadata[['item_id', 'title']], on='item_id', how='left')\n",
    "movie_recommended_example1"
   ]
  }
 ],
 "metadata": {
  "kernelspec": {
   "display_name": "Python 3 (ipykernel)",
   "language": "python",
   "name": "python3"
  },
  "language_info": {
   "codemirror_mode": {
    "name": "ipython",
    "version": 3
   },
   "file_extension": ".py",
   "mimetype": "text/x-python",
   "name": "python",
   "nbconvert_exporter": "python",
   "pygments_lexer": "ipython3",
   "version": "3.11.5"
  }
 },
 "nbformat": 4,
 "nbformat_minor": 5
}
