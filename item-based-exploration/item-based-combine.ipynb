{
 "cells": [
  {
   "cell_type": "markdown",
   "id": "be90f79b-9a06-4e61-aead-ea3e8fbceef9",
   "metadata": {},
   "source": [
    "<h1>Collaborative Filtering Movie Recommendation - Item Based</h1>"
   ]
  },
  {
   "cell_type": "markdown",
   "id": "98d73f15-34a6-4046-9835-8f461f76df84",
   "metadata": {},
   "source": [
    "The user-based collaborative filtering system, information of movies of director, acotors and tags have been preprocessed and stored in \"similar_movies_director.csv\", \"similar_movie_actors.csv\" and \"similar_movies_tags.csv\" separately. Combined similarity between movies will be calculated from these three files. After getting the combined similarity, the generation of the prediction will follow the fomula below:"
   ]
  },
  {
   "cell_type": "markdown",
   "id": "2d68f71b-9e57-4b12-b5d4-0c2e20e704ad",
   "metadata": {},
   "source": [
    "Given a user u, generate a prediction for an item i by using a weighted sum of the user u’s ratings for items that are most similar to i.\n",
    "\n",
    "\n",
    "$$\n",
    "\\text{pred}(u, i) =\\frac{\\sum_{j \\in \\text{ratedItems}(u)} \\text{sim}(i, j) \\cdot r_{uj}}{\\sum_{j \\in \\text{ratedItems}(u)} \\text{sim}(i, j)}\n",
    "$$"
   ]
  },
  {
   "cell_type": "markdown",
   "id": "6c463d04-6f1c-46cd-ba47-4d5f28354760",
   "metadata": {
    "tags": []
   },
   "source": [
    "<h3>import data</h3>"
   ]
  },
  {
   "cell_type": "code",
   "execution_count": 1,
   "id": "87841bea-8948-4474-9560-b0bf910f3eed",
   "metadata": {
    "tags": []
   },
   "outputs": [],
   "source": [
    "import pandas as pd\n",
    "import numpy as np"
   ]
  },
  {
   "cell_type": "code",
   "execution_count": 2,
   "id": "8f62a7f9-c3d3-4378-b029-999db54b749d",
   "metadata": {
    "tags": []
   },
   "outputs": [
    {
     "data": {
      "text/html": [
       "<div>\n",
       "<style scoped>\n",
       "    .dataframe tbody tr th:only-of-type {\n",
       "        vertical-align: middle;\n",
       "    }\n",
       "\n",
       "    .dataframe tbody tr th {\n",
       "        vertical-align: top;\n",
       "    }\n",
       "\n",
       "    .dataframe thead th {\n",
       "        text-align: right;\n",
       "    }\n",
       "</style>\n",
       "<table border=\"1\" class=\"dataframe\">\n",
       "  <thead>\n",
       "    <tr style=\"text-align: right;\">\n",
       "      <th></th>\n",
       "      <th>movie_id</th>\n",
       "      <th>director</th>\n",
       "      <th>other_movies</th>\n",
       "    </tr>\n",
       "  </thead>\n",
       "  <tbody>\n",
       "    <tr>\n",
       "      <th>0</th>\n",
       "      <td>1</td>\n",
       "      <td>John Lasseter</td>\n",
       "      <td>[2355, 42191, 45517, 95446, 95628, 95856, 2139...</td>\n",
       "    </tr>\n",
       "    <tr>\n",
       "      <th>1</th>\n",
       "      <td>2</td>\n",
       "      <td>Joe Johnston</td>\n",
       "      <td>[2054, 2094, 2501, 4638, 7324, 74452, 88140, 1...</td>\n",
       "    </tr>\n",
       "    <tr>\n",
       "      <th>2</th>\n",
       "      <td>3</td>\n",
       "      <td>Howard Deutch</td>\n",
       "      <td>[460, 1290, 1837, 2145, 3861, 4509, 6841, 7381...</td>\n",
       "    </tr>\n",
       "    <tr>\n",
       "      <th>3</th>\n",
       "      <td>4</td>\n",
       "      <td>Forest Whitaker</td>\n",
       "      <td>[1888, 8869, 88761]</td>\n",
       "    </tr>\n",
       "    <tr>\n",
       "      <th>4</th>\n",
       "      <td>5</td>\n",
       "      <td>Charles Shyer</td>\n",
       "      <td>[360, 4080, 4959, 6944, 8948, 26514]</td>\n",
       "    </tr>\n",
       "    <tr>\n",
       "      <th>...</th>\n",
       "      <td>...</td>\n",
       "      <td>...</td>\n",
       "      <td>...</td>\n",
       "    </tr>\n",
       "    <tr>\n",
       "      <th>84656</th>\n",
       "      <td>239306</td>\n",
       "      <td>Charles S. Dubin</td>\n",
       "      <td>[111573, 179605, 180797, 238546]</td>\n",
       "    </tr>\n",
       "    <tr>\n",
       "      <th>84657</th>\n",
       "      <td>239308</td>\n",
       "      <td>William Hale</td>\n",
       "      <td>[139743, 168190]</td>\n",
       "    </tr>\n",
       "    <tr>\n",
       "      <th>84658</th>\n",
       "      <td>239310</td>\n",
       "      <td>Phontharis Chotkijsadarsopon</td>\n",
       "      <td>[207654, 239312]</td>\n",
       "    </tr>\n",
       "    <tr>\n",
       "      <th>84659</th>\n",
       "      <td>239312</td>\n",
       "      <td>Phontharis Chotkijsadarsopon</td>\n",
       "      <td>[207654, 239310]</td>\n",
       "    </tr>\n",
       "    <tr>\n",
       "      <th>84660</th>\n",
       "      <td>239314</td>\n",
       "      <td>NaN</td>\n",
       "      <td>[3799, 3878, 32930, 35386, 43926, 66092, 68482...</td>\n",
       "    </tr>\n",
       "  </tbody>\n",
       "</table>\n",
       "<p>84661 rows × 3 columns</p>\n",
       "</div>"
      ],
      "text/plain": [
       "       movie_id                      director  \\\n",
       "0             1                 John Lasseter   \n",
       "1             2                  Joe Johnston   \n",
       "2             3                 Howard Deutch   \n",
       "3             4               Forest Whitaker   \n",
       "4             5                 Charles Shyer   \n",
       "...         ...                           ...   \n",
       "84656    239306              Charles S. Dubin   \n",
       "84657    239308                  William Hale   \n",
       "84658    239310  Phontharis Chotkijsadarsopon   \n",
       "84659    239312  Phontharis Chotkijsadarsopon   \n",
       "84660    239314                           NaN   \n",
       "\n",
       "                                            other_movies  \n",
       "0      [2355, 42191, 45517, 95446, 95628, 95856, 2139...  \n",
       "1      [2054, 2094, 2501, 4638, 7324, 74452, 88140, 1...  \n",
       "2      [460, 1290, 1837, 2145, 3861, 4509, 6841, 7381...  \n",
       "3                                    [1888, 8869, 88761]  \n",
       "4                   [360, 4080, 4959, 6944, 8948, 26514]  \n",
       "...                                                  ...  \n",
       "84656                   [111573, 179605, 180797, 238546]  \n",
       "84657                                   [139743, 168190]  \n",
       "84658                                   [207654, 239312]  \n",
       "84659                                   [207654, 239310]  \n",
       "84660  [3799, 3878, 32930, 35386, 43926, 66092, 68482...  \n",
       "\n",
       "[84661 rows x 3 columns]"
      ]
     },
     "execution_count": 2,
     "metadata": {},
     "output_type": "execute_result"
    }
   ],
   "source": [
    "# Information about director similarity of movies.\n",
    "similar_movies_director = pd.read_csv(r'F:\\DS_Dataset\\final\\item-based\\similar_movies_director.csv')\n",
    "similar_movies_director"
   ]
  },
  {
   "cell_type": "markdown",
   "id": "fb8fbe2a-ed67-46a0-89cf-2f447897554f",
   "metadata": {},
   "source": [
    "For director missing movies, it makes sense to combine these Microcinem into one catagory in terms of director."
   ]
  },
  {
   "cell_type": "code",
   "execution_count": 3,
   "id": "d649eaa6-5310-4325-be99-91fd6fcbd8ef",
   "metadata": {
    "tags": []
   },
   "outputs": [],
   "source": [
    "# convert similar_movies_director to a dictionary to help optimising algorithm performance.\n",
    "import ast\n",
    "\n",
    "def convert_to_int_list(string_list):\n",
    "    try:\n",
    "        return [int(item) for item in ast.literal_eval(string_list)]\n",
    "    except:\n",
    "        return []\n",
    "\n",
    "similarity_data_director = pd.Series(\n",
    "    similar_movies_director.other_movies.apply(convert_to_int_list).values, \n",
    "    index=similar_movies_director.movie_id\n",
    ").to_dict()"
   ]
  },
  {
   "cell_type": "code",
   "execution_count": 4,
   "id": "019d179f-934a-4721-a7d4-b7a89ff45764",
   "metadata": {
    "tags": []
   },
   "outputs": [
    {
     "data": {
      "text/html": [
       "<div>\n",
       "<style scoped>\n",
       "    .dataframe tbody tr th:only-of-type {\n",
       "        vertical-align: middle;\n",
       "    }\n",
       "\n",
       "    .dataframe tbody tr th {\n",
       "        vertical-align: top;\n",
       "    }\n",
       "\n",
       "    .dataframe thead th {\n",
       "        text-align: right;\n",
       "    }\n",
       "</style>\n",
       "<table border=\"1\" class=\"dataframe\">\n",
       "  <thead>\n",
       "    <tr style=\"text-align: right;\">\n",
       "      <th></th>\n",
       "      <th>item_id</th>\n",
       "      <th>similar_movie</th>\n",
       "      <th>cos_sim</th>\n",
       "    </tr>\n",
       "  </thead>\n",
       "  <tbody>\n",
       "    <tr>\n",
       "      <th>0</th>\n",
       "      <td>1</td>\n",
       "      <td>5218</td>\n",
       "      <td>0.630900</td>\n",
       "    </tr>\n",
       "    <tr>\n",
       "      <th>1</th>\n",
       "      <td>1</td>\n",
       "      <td>4886</td>\n",
       "      <td>0.575396</td>\n",
       "    </tr>\n",
       "    <tr>\n",
       "      <th>2</th>\n",
       "      <td>1</td>\n",
       "      <td>6377</td>\n",
       "      <td>0.557504</td>\n",
       "    </tr>\n",
       "    <tr>\n",
       "      <th>3</th>\n",
       "      <td>1</td>\n",
       "      <td>3114</td>\n",
       "      <td>0.526077</td>\n",
       "    </tr>\n",
       "    <tr>\n",
       "      <th>4</th>\n",
       "      <td>1</td>\n",
       "      <td>4306</td>\n",
       "      <td>0.487821</td>\n",
       "    </tr>\n",
       "    <tr>\n",
       "      <th>...</th>\n",
       "      <td>...</td>\n",
       "      <td>...</td>\n",
       "      <td>...</td>\n",
       "    </tr>\n",
       "    <tr>\n",
       "      <th>1410891</th>\n",
       "      <td>238060</td>\n",
       "      <td>91450</td>\n",
       "      <td>0.353553</td>\n",
       "    </tr>\n",
       "    <tr>\n",
       "      <th>1410892</th>\n",
       "      <td>238060</td>\n",
       "      <td>104337</td>\n",
       "      <td>0.353553</td>\n",
       "    </tr>\n",
       "    <tr>\n",
       "      <th>1410893</th>\n",
       "      <td>238060</td>\n",
       "      <td>167064</td>\n",
       "      <td>0.353553</td>\n",
       "    </tr>\n",
       "    <tr>\n",
       "      <th>1410894</th>\n",
       "      <td>238060</td>\n",
       "      <td>194074</td>\n",
       "      <td>0.353553</td>\n",
       "    </tr>\n",
       "    <tr>\n",
       "      <th>1410895</th>\n",
       "      <td>238060</td>\n",
       "      <td>208469</td>\n",
       "      <td>0.353553</td>\n",
       "    </tr>\n",
       "  </tbody>\n",
       "</table>\n",
       "<p>1410896 rows × 3 columns</p>\n",
       "</div>"
      ],
      "text/plain": [
       "         item_id  similar_movie   cos_sim\n",
       "0              1           5218  0.630900\n",
       "1              1           4886  0.575396\n",
       "2              1           6377  0.557504\n",
       "3              1           3114  0.526077\n",
       "4              1           4306  0.487821\n",
       "...          ...            ...       ...\n",
       "1410891   238060          91450  0.353553\n",
       "1410892   238060         104337  0.353553\n",
       "1410893   238060         167064  0.353553\n",
       "1410894   238060         194074  0.353553\n",
       "1410895   238060         208469  0.353553\n",
       "\n",
       "[1410896 rows x 3 columns]"
      ]
     },
     "execution_count": 4,
     "metadata": {},
     "output_type": "execute_result"
    }
   ],
   "source": [
    "# Information about director similarity of tags.\n",
    "similar_movies_tags = pd.read_csv(r'F:\\DS_Dataset\\final\\item-based\\similar_movies_tags.csv')\n",
    "similar_movies_tags"
   ]
  },
  {
   "cell_type": "code",
   "execution_count": 5,
   "id": "4b27be3c-13cb-40d4-ad74-a0d8209f3493",
   "metadata": {
    "tags": []
   },
   "outputs": [],
   "source": [
    "# convert similar_movies_tags to a dictionary to help optimising algorithm performance.\n",
    "similarity_data_tags = {}\n",
    "for _, row in similar_movies_tags.iterrows():\n",
    "    item_id = row['item_id']\n",
    "    similar_movie = row['similar_movie']\n",
    "    cos_sim = row['cos_sim']\n",
    "\n",
    "    if item_id not in similarity_data_tags:\n",
    "        similarity_data_tags[item_id] = {}\n",
    "\n",
    "    similarity_data_tags[item_id][similar_movie] = cos_sim"
   ]
  },
  {
   "cell_type": "code",
   "execution_count": 6,
   "id": "9800839b-5338-4890-8f87-c00ece5da71a",
   "metadata": {
    "tags": []
   },
   "outputs": [
    {
     "data": {
      "text/html": [
       "<div>\n",
       "<style scoped>\n",
       "    .dataframe tbody tr th:only-of-type {\n",
       "        vertical-align: middle;\n",
       "    }\n",
       "\n",
       "    .dataframe tbody tr th {\n",
       "        vertical-align: top;\n",
       "    }\n",
       "\n",
       "    .dataframe thead th {\n",
       "        text-align: right;\n",
       "    }\n",
       "</style>\n",
       "<table border=\"1\" class=\"dataframe\">\n",
       "  <thead>\n",
       "    <tr style=\"text-align: right;\">\n",
       "      <th></th>\n",
       "      <th>movie_id</th>\n",
       "      <th>similar_movie</th>\n",
       "      <th>jac_sim</th>\n",
       "    </tr>\n",
       "  </thead>\n",
       "  <tbody>\n",
       "    <tr>\n",
       "      <th>0</th>\n",
       "      <td>1</td>\n",
       "      <td>3114</td>\n",
       "      <td>0.476190</td>\n",
       "    </tr>\n",
       "    <tr>\n",
       "      <th>1</th>\n",
       "      <td>1</td>\n",
       "      <td>78499</td>\n",
       "      <td>0.216216</td>\n",
       "    </tr>\n",
       "    <tr>\n",
       "      <th>2</th>\n",
       "      <td>1</td>\n",
       "      <td>106022</td>\n",
       "      <td>0.200000</td>\n",
       "    </tr>\n",
       "    <tr>\n",
       "      <th>3</th>\n",
       "      <td>1</td>\n",
       "      <td>8961</td>\n",
       "      <td>0.105263</td>\n",
       "    </tr>\n",
       "    <tr>\n",
       "      <th>4</th>\n",
       "      <td>1</td>\n",
       "      <td>73469</td>\n",
       "      <td>0.100000</td>\n",
       "    </tr>\n",
       "    <tr>\n",
       "      <th>...</th>\n",
       "      <td>...</td>\n",
       "      <td>...</td>\n",
       "      <td>...</td>\n",
       "    </tr>\n",
       "    <tr>\n",
       "      <th>1862134</th>\n",
       "      <td>239250</td>\n",
       "      <td>26416</td>\n",
       "      <td>1.000000</td>\n",
       "    </tr>\n",
       "    <tr>\n",
       "      <th>1862135</th>\n",
       "      <td>239250</td>\n",
       "      <td>26448</td>\n",
       "      <td>1.000000</td>\n",
       "    </tr>\n",
       "    <tr>\n",
       "      <th>1862136</th>\n",
       "      <td>239250</td>\n",
       "      <td>26553</td>\n",
       "      <td>1.000000</td>\n",
       "    </tr>\n",
       "    <tr>\n",
       "      <th>1862137</th>\n",
       "      <td>239250</td>\n",
       "      <td>26602</td>\n",
       "      <td>1.000000</td>\n",
       "    </tr>\n",
       "    <tr>\n",
       "      <th>1862138</th>\n",
       "      <td>239250</td>\n",
       "      <td>26826</td>\n",
       "      <td>1.000000</td>\n",
       "    </tr>\n",
       "  </tbody>\n",
       "</table>\n",
       "<p>1862139 rows × 3 columns</p>\n",
       "</div>"
      ],
      "text/plain": [
       "         movie_id  similar_movie   jac_sim\n",
       "0               1           3114  0.476190\n",
       "1               1          78499  0.216216\n",
       "2               1         106022  0.200000\n",
       "3               1           8961  0.105263\n",
       "4               1          73469  0.100000\n",
       "...           ...            ...       ...\n",
       "1862134    239250          26416  1.000000\n",
       "1862135    239250          26448  1.000000\n",
       "1862136    239250          26553  1.000000\n",
       "1862137    239250          26602  1.000000\n",
       "1862138    239250          26826  1.000000\n",
       "\n",
       "[1862139 rows x 3 columns]"
      ]
     },
     "execution_count": 6,
     "metadata": {},
     "output_type": "execute_result"
    }
   ],
   "source": [
    "# Information about director similarity of actors.\n",
    "similar_movies_actors = pd.read_csv(r'F:\\DS_Dataset\\final\\item-based\\similar_movies_actors.csv')\n",
    "similar_movies_actors"
   ]
  },
  {
   "cell_type": "code",
   "execution_count": 7,
   "id": "25cd17ac-e949-4c82-80aa-aabc439250cb",
   "metadata": {
    "tags": []
   },
   "outputs": [],
   "source": [
    "# convert similar_movies_actors to a dictionary to help optimising algorithm performance.\n",
    "similarity_data_actors = {}\n",
    "for _, row in similar_movies_actors.iterrows():\n",
    "    item_id = row['movie_id']\n",
    "    similar_movie = row['similar_movie']\n",
    "    jac_sim = row['jac_sim']\n",
    "\n",
    "    if item_id not in similarity_data_actors:\n",
    "        similarity_data_actors[item_id] = {}\n",
    "\n",
    "    similarity_data_actors[item_id][similar_movie] = jac_sim"
   ]
  },
  {
   "cell_type": "code",
   "execution_count": 8,
   "id": "099fc9d4-8b91-490c-bcd1-72a7062b123a",
   "metadata": {},
   "outputs": [
    {
     "data": {
      "text/html": [
       "<div>\n",
       "<style scoped>\n",
       "    .dataframe tbody tr th:only-of-type {\n",
       "        vertical-align: middle;\n",
       "    }\n",
       "\n",
       "    .dataframe tbody tr th {\n",
       "        vertical-align: top;\n",
       "    }\n",
       "\n",
       "    .dataframe thead th {\n",
       "        text-align: right;\n",
       "    }\n",
       "</style>\n",
       "<table border=\"1\" class=\"dataframe\">\n",
       "  <thead>\n",
       "    <tr style=\"text-align: right;\">\n",
       "      <th></th>\n",
       "      <th>item_id</th>\n",
       "      <th>user_id</th>\n",
       "      <th>rating</th>\n",
       "    </tr>\n",
       "  </thead>\n",
       "  <tbody>\n",
       "    <tr>\n",
       "      <th>0</th>\n",
       "      <td>1</td>\n",
       "      <td>0</td>\n",
       "      <td>3.5</td>\n",
       "    </tr>\n",
       "    <tr>\n",
       "      <th>1</th>\n",
       "      <td>1</td>\n",
       "      <td>19</td>\n",
       "      <td>5.0</td>\n",
       "    </tr>\n",
       "    <tr>\n",
       "      <th>2</th>\n",
       "      <td>1</td>\n",
       "      <td>24</td>\n",
       "      <td>3.0</td>\n",
       "    </tr>\n",
       "    <tr>\n",
       "      <th>3</th>\n",
       "      <td>1</td>\n",
       "      <td>25</td>\n",
       "      <td>3.0</td>\n",
       "    </tr>\n",
       "    <tr>\n",
       "      <th>4</th>\n",
       "      <td>1</td>\n",
       "      <td>42</td>\n",
       "      <td>5.0</td>\n",
       "    </tr>\n",
       "    <tr>\n",
       "      <th>...</th>\n",
       "      <td>...</td>\n",
       "      <td>...</td>\n",
       "      <td>...</td>\n",
       "    </tr>\n",
       "    <tr>\n",
       "      <th>28249186</th>\n",
       "      <td>237107</td>\n",
       "      <td>672530</td>\n",
       "      <td>4.5</td>\n",
       "    </tr>\n",
       "    <tr>\n",
       "      <th>28249187</th>\n",
       "      <td>237127</td>\n",
       "      <td>619061</td>\n",
       "      <td>3.0</td>\n",
       "    </tr>\n",
       "    <tr>\n",
       "      <th>28249188</th>\n",
       "      <td>237129</td>\n",
       "      <td>594170</td>\n",
       "      <td>4.0</td>\n",
       "    </tr>\n",
       "    <tr>\n",
       "      <th>28249189</th>\n",
       "      <td>237131</td>\n",
       "      <td>395134</td>\n",
       "      <td>2.5</td>\n",
       "    </tr>\n",
       "    <tr>\n",
       "      <th>28249190</th>\n",
       "      <td>237187</td>\n",
       "      <td>868974</td>\n",
       "      <td>2.5</td>\n",
       "    </tr>\n",
       "  </tbody>\n",
       "</table>\n",
       "<p>28249191 rows × 3 columns</p>\n",
       "</div>"
      ],
      "text/plain": [
       "          item_id  user_id  rating\n",
       "0               1        0     3.5\n",
       "1               1       19     5.0\n",
       "2               1       24     3.0\n",
       "3               1       25     3.0\n",
       "4               1       42     5.0\n",
       "...           ...      ...     ...\n",
       "28249186   237107   672530     4.5\n",
       "28249187   237127   619061     3.0\n",
       "28249188   237129   594170     4.0\n",
       "28249189   237131   395134     2.5\n",
       "28249190   237187   868974     2.5\n",
       "\n",
       "[28249191 rows x 3 columns]"
      ]
     },
     "execution_count": 8,
     "metadata": {},
     "output_type": "execute_result"
    }
   ],
   "source": [
    "ratings = pd.read_csv(r'F:\\DS_Dataset\\final\\item-based\\ratings.csv')\n",
    "ratings"
   ]
  },
  {
   "cell_type": "markdown",
   "id": "81ee5b00-395d-4566-910a-7d024853f7cb",
   "metadata": {
    "tags": []
   },
   "source": [
    "<h3>masking ratings to determine weights of the three attributes (example for one user)</h3>"
   ]
  },
  {
   "cell_type": "markdown",
   "id": "3d46ed8d-7c12-464e-a757-e07bcdddebbb",
   "metadata": {},
   "source": [
    "Select user 19 as an example."
   ]
  },
  {
   "cell_type": "code",
   "execution_count": 9,
   "id": "885df313-aa73-43d7-958f-f82b9b3becc7",
   "metadata": {
    "tags": []
   },
   "outputs": [
    {
     "data": {
      "text/html": [
       "<div>\n",
       "<style scoped>\n",
       "    .dataframe tbody tr th:only-of-type {\n",
       "        vertical-align: middle;\n",
       "    }\n",
       "\n",
       "    .dataframe tbody tr th {\n",
       "        vertical-align: top;\n",
       "    }\n",
       "\n",
       "    .dataframe thead th {\n",
       "        text-align: right;\n",
       "    }\n",
       "</style>\n",
       "<table border=\"1\" class=\"dataframe\">\n",
       "  <thead>\n",
       "    <tr style=\"text-align: right;\">\n",
       "      <th></th>\n",
       "      <th>item_id</th>\n",
       "      <th>user_id</th>\n",
       "      <th>rating</th>\n",
       "    </tr>\n",
       "  </thead>\n",
       "  <tbody>\n",
       "    <tr>\n",
       "      <th>1</th>\n",
       "      <td>1</td>\n",
       "      <td>19</td>\n",
       "      <td>5.0</td>\n",
       "    </tr>\n",
       "    <tr>\n",
       "      <th>127498</th>\n",
       "      <td>6</td>\n",
       "      <td>19</td>\n",
       "      <td>3.0</td>\n",
       "    </tr>\n",
       "    <tr>\n",
       "      <th>177256</th>\n",
       "      <td>10</td>\n",
       "      <td>19</td>\n",
       "      <td>3.0</td>\n",
       "    </tr>\n",
       "    <tr>\n",
       "      <th>245912</th>\n",
       "      <td>16</td>\n",
       "      <td>19</td>\n",
       "      <td>3.0</td>\n",
       "    </tr>\n",
       "    <tr>\n",
       "      <th>267080</th>\n",
       "      <td>17</td>\n",
       "      <td>19</td>\n",
       "      <td>3.0</td>\n",
       "    </tr>\n",
       "    <tr>\n",
       "      <th>...</th>\n",
       "      <td>...</td>\n",
       "      <td>...</td>\n",
       "      <td>...</td>\n",
       "    </tr>\n",
       "    <tr>\n",
       "      <th>9619052</th>\n",
       "      <td>1552</td>\n",
       "      <td>19</td>\n",
       "      <td>3.0</td>\n",
       "    </tr>\n",
       "    <tr>\n",
       "      <th>9678395</th>\n",
       "      <td>1573</td>\n",
       "      <td>19</td>\n",
       "      <td>4.0</td>\n",
       "    </tr>\n",
       "    <tr>\n",
       "      <th>9746291</th>\n",
       "      <td>1584</td>\n",
       "      <td>19</td>\n",
       "      <td>3.0</td>\n",
       "    </tr>\n",
       "    <tr>\n",
       "      <th>9985405</th>\n",
       "      <td>1639</td>\n",
       "      <td>19</td>\n",
       "      <td>5.0</td>\n",
       "    </tr>\n",
       "    <tr>\n",
       "      <th>11337581</th>\n",
       "      <td>2019</td>\n",
       "      <td>19</td>\n",
       "      <td>5.0</td>\n",
       "    </tr>\n",
       "  </tbody>\n",
       "</table>\n",
       "<p>275 rows × 3 columns</p>\n",
       "</div>"
      ],
      "text/plain": [
       "          item_id  user_id  rating\n",
       "1               1       19     5.0\n",
       "127498          6       19     3.0\n",
       "177256         10       19     3.0\n",
       "245912         16       19     3.0\n",
       "267080         17       19     3.0\n",
       "...           ...      ...     ...\n",
       "9619052      1552       19     3.0\n",
       "9678395      1573       19     4.0\n",
       "9746291      1584       19     3.0\n",
       "9985405      1639       19     5.0\n",
       "11337581     2019       19     5.0\n",
       "\n",
       "[275 rows x 3 columns]"
      ]
     },
     "execution_count": 9,
     "metadata": {},
     "output_type": "execute_result"
    }
   ],
   "source": [
    "user_example = ratings[ratings[\"user_id\"]==19]\n",
    "user_example"
   ]
  },
  {
   "cell_type": "markdown",
   "id": "811c7005-18ec-40b3-82ec-bd10b7a7783e",
   "metadata": {},
   "source": [
    "Split user 19's rating into 60% baseline set, 20% optimization set and 20% test set. \n",
    "\n",
    "Baseline set: Used for generating similarity scores, serving as the basis for subsequent recommendation calculations.\n",
    "\n",
    "Optimization set : Used for adjusting the weights or parameters of the model. This dataset is used for fine-tuning the model to optimize the performance of the recommendation system.\n",
    "\n",
    "Test set: Used for the final evaluation of the model's performance."
   ]
  },
  {
   "cell_type": "code",
   "execution_count": 10,
   "id": "dfe6cad1-644c-4baa-abb0-3d177805b55d",
   "metadata": {
    "tags": []
   },
   "outputs": [],
   "source": [
    "from sklearn.model_selection import train_test_split"
   ]
  },
  {
   "cell_type": "code",
   "execution_count": 11,
   "id": "22dc8ec5-8db6-4d05-9377-f4bd093b1215",
   "metadata": {
    "tags": []
   },
   "outputs": [
    {
     "name": "stdout",
     "output_type": "stream",
     "text": [
      "Baseline set:\n",
      " (165, 3)\n",
      "\n",
      "Optimization set:\n",
      " (55, 3)\n",
      "\n",
      "Test set:\n",
      " (55, 3)\n"
     ]
    }
   ],
   "source": [
    "# Split the baseline, optimization and test set.\n",
    "baseline_set, temp_set = train_test_split(user_example, test_size=0.4, random_state=42)\n",
    "optimization_set, test_set = train_test_split(temp_set, test_size=0.5, random_state=42)\n",
    "print(\"Baseline set:\\n\", baseline_set.shape)\n",
    "print(\"\\nOptimization set:\\n\", optimization_set.shape)\n",
    "print(\"\\nTest set:\\n\", test_set.shape)"
   ]
  },
  {
   "cell_type": "code",
   "execution_count": 12,
   "id": "33d618bb-2ee6-4dc8-ba4f-9741cd2ea2ce",
   "metadata": {
    "tags": []
   },
   "outputs": [],
   "source": [
    "# Function to calculate the predicted rating for a movie based on other similar movies\n",
    "def predicted_rating(movie_id, baseline, weights):\n",
    "    total_similarity = 0\n",
    "    weighted_ratings_sum = 0\n",
    "\n",
    "    # iterate each movie in the baseline set\n",
    "    for _, row in baseline.iterrows():\n",
    "        baseline_movie_id = row['item_id']\n",
    "        user_rating = row['rating']\n",
    "        \n",
    "        # get the sim_tags\n",
    "        sim_tags = similarity_data_tags.get(baseline_movie_id, {}).get(movie_id , 0)\n",
    "        # get the sim_actors\n",
    "        sim_actors = similarity_data_actors.get(baseline_movie_id, {}).get(movie_id, 0)\n",
    "        # get the sim_director\n",
    "        if baseline_movie_id in similarity_data_director.get(movie_id, []):\n",
    "            sim_director = 1\n",
    "        else:\n",
    "            sim_director = 0\n",
    "\n",
    "        # Linear combination of three simlarities by weights\n",
    "        sim_combine = (weights[0] * sim_tags + weights[1] * sim_actors + weights[2] * sim_director)\n",
    "\n",
    "        weighted_ratings_sum += sim_combine * user_rating\n",
    "        total_similarity += sim_combine\n",
    "\n",
    "    if total_similarity == 0:\n",
    "        return 0\n",
    "\n",
    "    return weighted_ratings_sum / total_similarity"
   ]
  },
  {
   "cell_type": "code",
   "execution_count": 13,
   "id": "9a1ef6d3-d78c-49d2-8821-2b7929458f5e",
   "metadata": {
    "tags": []
   },
   "outputs": [],
   "source": [
    "# Objective function to minimize the mean square error of predictted rating on the optimization set.\n",
    "def objective_function(weights, baseline_set, optimization_set):\n",
    "    pred_errors = [np.square(optimization_set.iloc[i]['rating'] - \n",
    "                             predicted_rating(optimization_set.iloc[i]['item_id'], baseline_set, weights))\n",
    "                   for i in range(len(optimization_set))]\n",
    "    return np.mean(pred_errors)"
   ]
  },
  {
   "cell_type": "code",
   "execution_count": 14,
   "id": "d903de1d-2693-4517-84a2-29b71f3c4108",
   "metadata": {
    "tags": []
   },
   "outputs": [],
   "source": [
    "# Initial weights\n",
    "initial_weights = [1, 1, 1]"
   ]
  },
  {
   "cell_type": "code",
   "execution_count": 15,
   "id": "23f13822-43e5-437a-899c-3594e469a026",
   "metadata": {
    "tags": []
   },
   "outputs": [],
   "source": [
    "from scipy.optimize import minimize"
   ]
  },
  {
   "cell_type": "code",
   "execution_count": 16,
   "id": "7781b3f6-3482-4ba8-bcb1-2e558859372d",
   "metadata": {
    "tags": []
   },
   "outputs": [
    {
     "name": "stdout",
     "output_type": "stream",
     "text": [
      "Optimization terminated successfully.\n",
      "         Current function value: 2.036753\n",
      "         Iterations: 9\n",
      "         Function evaluations: 96\n",
      "         Gradient evaluations: 24\n"
     ]
    },
    {
     "data": {
      "text/plain": [
       "array([0.0333777 , 0.67484034, 2.29110479])"
      ]
     },
     "execution_count": 16,
     "metadata": {},
     "output_type": "execute_result"
    }
   ],
   "source": [
    "# Optimization using scipy's minimize function.\n",
    "result = minimize(objective_function, initial_weights, args=(baseline_set, optimization_set), \n",
    "                  method='BFGS', options={'disp': True})\n",
    "optimized_weights = result.x\n",
    "optimized_weights"
   ]
  },
  {
   "cell_type": "markdown",
   "id": "3d11b40c-662a-49a8-a9dd-54af06bcec7a",
   "metadata": {},
   "source": [
    "For the example user 19, the best weight for tags, actors and director is [0.0333777 , 0.67484034, 2.29110479]."
   ]
  },
  {
   "cell_type": "code",
   "execution_count": 17,
   "id": "6415ff2d-aba1-4605-a769-637def7bb191",
   "metadata": {
    "tags": []
   },
   "outputs": [
    {
     "data": {
      "text/plain": [
       "2.0367525950280734"
      ]
     },
     "execution_count": 17,
     "metadata": {},
     "output_type": "execute_result"
    }
   ],
   "source": [
    "# MSE on the optimization set.\n",
    "objective_function(optimized_weights, baseline_set, optimization_set)"
   ]
  },
  {
   "cell_type": "code",
   "execution_count": 18,
   "id": "59d1227a-f388-4a78-996a-402e2a3ab7ee",
   "metadata": {
    "tags": []
   },
   "outputs": [
    {
     "data": {
      "text/plain": [
       "1.6477586814310479"
      ]
     },
     "execution_count": 18,
     "metadata": {},
     "output_type": "execute_result"
    }
   ],
   "source": [
    "# MSE on the test set.\n",
    "objective_function(optimized_weights, baseline_set, test_set)"
   ]
  },
  {
   "cell_type": "markdown",
   "id": "0c9162d9-c17b-473a-9636-668ff1395f66",
   "metadata": {},
   "source": [
    "The mean square error in the test set is relatively low, suggesting that weights [0.0333777 , 0.67484034, 2.29110479] is suitable for user 19."
   ]
  },
  {
   "cell_type": "markdown",
   "id": "985aa4d2-7b67-4d93-afce-adcb84fdf11d",
   "metadata": {
    "tags": []
   },
   "source": [
    "<h3>masking ratings to determine weights of the three attributes (statistic analysis)</h3>"
   ]
  },
  {
   "cell_type": "markdown",
   "id": "f2066f18-34bc-40fd-a651-c8c7739c1b20",
   "metadata": {},
   "source": [
    "We will randomly select 500 users and repeat the procedure we did for user 19, recording their optimized weights and the mean square error in the test sets."
   ]
  },
  {
   "cell_type": "code",
   "execution_count": 19,
   "id": "621b5f44-0b82-4e4b-9126-3988eb075c54",
   "metadata": {
    "tags": []
   },
   "outputs": [],
   "source": [
    "import random"
   ]
  },
  {
   "cell_type": "code",
   "execution_count": 20,
   "id": "a32d894e-b64e-437a-b994-8671d444473b",
   "metadata": {
    "tags": []
   },
   "outputs": [],
   "source": [
    "# randomly select 500 users\n",
    "random_seed = 42\n",
    "random.seed(random_seed)\n",
    "\n",
    "user_ids = ratings['user_id'].unique()\n",
    "random_selected_users = random.sample(list(user_ids), 500)"
   ]
  },
  {
   "cell_type": "code",
   "execution_count": 21,
   "id": "3f373f65-436e-4751-b21b-2c163ace549d",
   "metadata": {
    "tags": []
   },
   "outputs": [
    {
     "name": "stdout",
     "output_type": "stream",
     "text": [
      "Skipping user 939122 due to insufficient data.\n",
      "Skipping user 343541 due to insufficient data.\n",
      "Skipping user 943397 due to insufficient data.\n",
      "Skipping user 307846 due to insufficient data.\n",
      "Skipping user 352401 due to insufficient data.\n",
      "Skipping user 646390 due to insufficient data.\n",
      "Skipping user 754069 due to insufficient data.\n",
      "Skipping user 237002 due to insufficient data.\n",
      "Skipping user 714264 due to insufficient data.\n",
      "Skipping user 709605 due to insufficient data.\n",
      "Skipping user 899680 due to insufficient data.\n",
      "Skipping user 660584 due to insufficient data.\n",
      "Skipping user 853301 due to insufficient data.\n",
      "Skipping user 474634 due to insufficient data.\n",
      "Skipping user 389883 due to insufficient data.\n",
      "Skipping user 587321 due to insufficient data.\n",
      "Skipping user 285562 due to insufficient data.\n",
      "Skipping user 923137 due to insufficient data.\n",
      "Skipping user 278282 due to insufficient data.\n",
      "Skipping user 485867 due to insufficient data.\n",
      "Skipping user 924319 due to insufficient data.\n",
      "Skipping user 282186 due to insufficient data.\n",
      "Skipping user 873750 due to insufficient data.\n",
      "Skipping user 808024 due to insufficient data.\n",
      "Skipping user 219241 due to insufficient data.\n",
      "Skipping user 662686 due to insufficient data.\n",
      "Skipping user 708793 due to insufficient data.\n",
      "Skipping user 725637 due to insufficient data.\n",
      "Skipping user 51070 due to insufficient data.\n",
      "Skipping user 856526 due to insufficient data.\n",
      "Skipping user 688327 due to insufficient data.\n",
      "Skipping user 562652 due to insufficient data.\n",
      "Skipping user 587234 due to insufficient data.\n",
      "Skipping user 390630 due to insufficient data.\n",
      "Skipping user 212952 due to insufficient data.\n",
      "Skipping user 830416 due to insufficient data.\n",
      "Skipping user 666189 due to insufficient data.\n",
      "Skipping user 805175 due to insufficient data.\n",
      "Skipping user 538360 due to insufficient data.\n",
      "Skipping user 485776 due to insufficient data.\n",
      "Skipping user 270145 due to insufficient data.\n",
      "Skipping user 98486 due to insufficient data.\n",
      "Skipping user 728310 due to insufficient data.\n",
      "Skipping user 997912 due to insufficient data.\n",
      "Skipping user 338211 due to insufficient data.\n",
      "Skipping user 520302 due to insufficient data.\n",
      "Skipping user 471560 due to insufficient data.\n",
      "Skipping user 524719 due to insufficient data.\n",
      "Skipping user 913295 due to insufficient data.\n",
      "Skipping user 890045 due to insufficient data.\n",
      "Skipping user 962883 due to insufficient data.\n",
      "Skipping user 43237 due to insufficient data.\n",
      "Skipping user 309799 due to insufficient data.\n",
      "Skipping user 505423 due to insufficient data.\n",
      "Skipping user 897170 due to insufficient data.\n",
      "Skipping user 462174 due to insufficient data.\n"
     ]
    },
    {
     "data": {
      "text/html": [
       "<div>\n",
       "<style scoped>\n",
       "    .dataframe tbody tr th:only-of-type {\n",
       "        vertical-align: middle;\n",
       "    }\n",
       "\n",
       "    .dataframe tbody tr th {\n",
       "        vertical-align: top;\n",
       "    }\n",
       "\n",
       "    .dataframe thead th {\n",
       "        text-align: right;\n",
       "    }\n",
       "</style>\n",
       "<table border=\"1\" class=\"dataframe\">\n",
       "  <thead>\n",
       "    <tr style=\"text-align: right;\">\n",
       "      <th></th>\n",
       "      <th>user_id</th>\n",
       "      <th>weight_tag</th>\n",
       "      <th>weight_actor</th>\n",
       "      <th>weight_director</th>\n",
       "      <th>MSE_testset</th>\n",
       "      <th>num_ratings</th>\n",
       "    </tr>\n",
       "  </thead>\n",
       "  <tbody>\n",
       "    <tr>\n",
       "      <th>0</th>\n",
       "      <td>854937</td>\n",
       "      <td>0.186555</td>\n",
       "      <td>1.803129</td>\n",
       "      <td>1.000000e+00</td>\n",
       "      <td>3.536994</td>\n",
       "      <td>63</td>\n",
       "    </tr>\n",
       "    <tr>\n",
       "      <th>1</th>\n",
       "      <td>440422</td>\n",
       "      <td>0.741529</td>\n",
       "      <td>1.030073</td>\n",
       "      <td>1.224605e+00</td>\n",
       "      <td>1.432668</td>\n",
       "      <td>610</td>\n",
       "    </tr>\n",
       "    <tr>\n",
       "      <th>2</th>\n",
       "      <td>97794</td>\n",
       "      <td>1.009243</td>\n",
       "      <td>2.110078</td>\n",
       "      <td>-1.212663e-01</td>\n",
       "      <td>1.088749</td>\n",
       "      <td>358</td>\n",
       "    </tr>\n",
       "    <tr>\n",
       "      <th>3</th>\n",
       "      <td>756929</td>\n",
       "      <td>1.000000</td>\n",
       "      <td>1.000000</td>\n",
       "      <td>1.000000e+00</td>\n",
       "      <td>0.127238</td>\n",
       "      <td>16</td>\n",
       "    </tr>\n",
       "    <tr>\n",
       "      <th>4</th>\n",
       "      <td>603025</td>\n",
       "      <td>0.450318</td>\n",
       "      <td>2.960164</td>\n",
       "      <td>-4.244185e-01</td>\n",
       "      <td>4.011973</td>\n",
       "      <td>107</td>\n",
       "    </tr>\n",
       "    <tr>\n",
       "      <th>...</th>\n",
       "      <td>...</td>\n",
       "      <td>...</td>\n",
       "      <td>...</td>\n",
       "      <td>...</td>\n",
       "      <td>...</td>\n",
       "      <td>...</td>\n",
       "    </tr>\n",
       "    <tr>\n",
       "      <th>439</th>\n",
       "      <td>270872</td>\n",
       "      <td>0.309085</td>\n",
       "      <td>3.283153</td>\n",
       "      <td>-1.112691e-01</td>\n",
       "      <td>2.369712</td>\n",
       "      <td>47</td>\n",
       "    </tr>\n",
       "    <tr>\n",
       "      <th>440</th>\n",
       "      <td>962013</td>\n",
       "      <td>-0.443926</td>\n",
       "      <td>2.443732</td>\n",
       "      <td>1.000000e+00</td>\n",
       "      <td>17.200000</td>\n",
       "      <td>23</td>\n",
       "    </tr>\n",
       "    <tr>\n",
       "      <th>441</th>\n",
       "      <td>507374</td>\n",
       "      <td>0.651888</td>\n",
       "      <td>3.018986</td>\n",
       "      <td>-6.708856e-01</td>\n",
       "      <td>8.849889</td>\n",
       "      <td>54</td>\n",
       "    </tr>\n",
       "    <tr>\n",
       "      <th>442</th>\n",
       "      <td>886396</td>\n",
       "      <td>1.649499</td>\n",
       "      <td>-0.210209</td>\n",
       "      <td>1.519809e+00</td>\n",
       "      <td>1.071894</td>\n",
       "      <td>599</td>\n",
       "    </tr>\n",
       "    <tr>\n",
       "      <th>443</th>\n",
       "      <td>623558</td>\n",
       "      <td>1.000000</td>\n",
       "      <td>2.000163</td>\n",
       "      <td>-1.953420e-08</td>\n",
       "      <td>3.484576</td>\n",
       "      <td>26</td>\n",
       "    </tr>\n",
       "  </tbody>\n",
       "</table>\n",
       "<p>444 rows × 6 columns</p>\n",
       "</div>"
      ],
      "text/plain": [
       "     user_id  weight_tag  weight_actor  weight_director  MSE_testset  \\\n",
       "0     854937    0.186555      1.803129     1.000000e+00     3.536994   \n",
       "1     440422    0.741529      1.030073     1.224605e+00     1.432668   \n",
       "2      97794    1.009243      2.110078    -1.212663e-01     1.088749   \n",
       "3     756929    1.000000      1.000000     1.000000e+00     0.127238   \n",
       "4     603025    0.450318      2.960164    -4.244185e-01     4.011973   \n",
       "..       ...         ...           ...              ...          ...   \n",
       "439   270872    0.309085      3.283153    -1.112691e-01     2.369712   \n",
       "440   962013   -0.443926      2.443732     1.000000e+00    17.200000   \n",
       "441   507374    0.651888      3.018986    -6.708856e-01     8.849889   \n",
       "442   886396    1.649499     -0.210209     1.519809e+00     1.071894   \n",
       "443   623558    1.000000      2.000163    -1.953420e-08     3.484576   \n",
       "\n",
       "     num_ratings  \n",
       "0             63  \n",
       "1            610  \n",
       "2            358  \n",
       "3             16  \n",
       "4            107  \n",
       "..           ...  \n",
       "439           47  \n",
       "440           23  \n",
       "441           54  \n",
       "442          599  \n",
       "443           26  \n",
       "\n",
       "[444 rows x 6 columns]"
      ]
     },
     "execution_count": 21,
     "metadata": {},
     "output_type": "execute_result"
    }
   ],
   "source": [
    "initial_weights = [1, 1, 1] \n",
    "\n",
    "min_ratings = 10\n",
    "\n",
    "results = []\n",
    "\n",
    "for user_id in random_selected_users:\n",
    "    # Get ratings for the current user\n",
    "    user_ratings = ratings[ratings[\"user_id\"] == user_id]\n",
    "\n",
    "    # Check if the user has at least the minimum number of ratings\n",
    "    if len(user_ratings) >= min_ratings:\n",
    "        # Split the data for the current user\n",
    "        baseline_set, temp_set = train_test_split(user_ratings, test_size=0.4, random_state=42)\n",
    "        optimization_set, test_set = train_test_split(temp_set, test_size=0.5, random_state=42)\n",
    "\n",
    "        # Optimize weights using the minimize function\n",
    "        result = minimize(objective_function, initial_weights, args=(baseline_set, optimization_set), \n",
    "                          method='BFGS')\n",
    "        optimized_weights = result.x\n",
    "\n",
    "        # Calculate MSE on the test set\n",
    "        mse_test = objective_function(optimized_weights, baseline_set, test_set)\n",
    "\n",
    "        results.append([\n",
    "            user_id, \n",
    "            optimized_weights[0],  \n",
    "            optimized_weights[1],  \n",
    "            optimized_weights[2],  \n",
    "            mse_test,              \n",
    "            len(user_ratings)      \n",
    "        ])\n",
    "    else:\n",
    "        print(f\"Skipping user {user_id} due to insufficient data.\")\n",
    "\n",
    "results_df = pd.DataFrame(results, columns=['user_id', 'weight_tag', 'weight_actor', 'weight_director', 'MSE_testset', 'num_ratings'])\n",
    "results_df"
   ]
  },
  {
   "cell_type": "code",
   "execution_count": 23,
   "id": "f55830b2-8146-4819-9824-13118426183a",
   "metadata": {
    "tags": []
   },
   "outputs": [],
   "source": [
    "results_df.to_csv('weights_analysis.csv',index=False)"
   ]
  },
  {
   "cell_type": "markdown",
   "id": "cb72aa56-87b5-4e2a-bef6-dfa1d7d2be68",
   "metadata": {},
   "source": [
    "To establish a foundational framework for our recommendation system, we take into account two key standards:\n",
    "1. A lower Mean Squared Error (MSE) indicates a higher accuracy in predictions.\n",
    "2. Users who provide a greater number of ratings are generally considered more reliable."
   ]
  },
  {
   "cell_type": "code",
   "execution_count": 24,
   "id": "6fe8f44e-5ff3-4452-8e54-861ad08761c6",
   "metadata": {
    "tags": []
   },
   "outputs": [],
   "source": [
    "import matplotlib.pyplot as plt"
   ]
  },
  {
   "cell_type": "code",
   "execution_count": 25,
   "id": "3a1f3c07-d733-4b15-93c2-02d036d35eac",
   "metadata": {
    "tags": []
   },
   "outputs": [
    {
     "data": {
      "text/plain": [
       "Text(0.5, 1.0, 'Distribution of MSE in Test Set')"
      ]
     },
     "execution_count": 25,
     "metadata": {},
     "output_type": "execute_result"
    },
    {
     "data": {
      "image/png": "[encoded data removed]",
      "text/plain": [
       "<Figure size 640x480 with 1 Axes>"
      ]
     },
     "metadata": {},
     "output_type": "display_data"
    }
   ],
   "source": [
    "# Distribution of MSE\n",
    "plt.hist(results_df[\"MSE_testset\"], bins = 100)\n",
    "plt.xlabel('Mean Squared Error (MSE)')  \n",
    "plt.ylabel('Frequency')               \n",
    "plt.title('Distribution of MSE in Test Set')  "
   ]
  },
  {
   "cell_type": "markdown",
   "id": "0d9270c2-53bb-46a3-8ba5-70b17990abdf",
   "metadata": {},
   "source": [
    "The distribution of MSE values in the dataset is highly skewed towards the lower end, indicating that the majority of the data points have a lower Mean Squared Error. "
   ]
  },
  {
   "cell_type": "code",
   "execution_count": 26,
   "id": "cce028f3-04e7-42c1-8774-ff570175ca61",
   "metadata": {
    "tags": []
   },
   "outputs": [
    {
     "data": {
      "text/plain": [
       "Text(0.5, 1.0, 'Distribution of num_ratings in Test Set')"
      ]
     },
     "execution_count": 26,
     "metadata": {},
     "output_type": "execute_result"
    },
    {
     "data": {
      "image/png": "[encoded data removed]",
      "text/plain": [
       "<Figure size 640x480 with 1 Axes>"
      ]
     },
     "metadata": {},
     "output_type": "display_data"
    }
   ],
   "source": [
    "# Distribution of num_ratings\n",
    "plt.hist(results_df[\"num_ratings\"], bins = 100)\n",
    "plt.xlabel('Number of Ratings')  \n",
    "plt.ylabel('Frequency')               \n",
    "plt.title('Distribution of num_ratings in Test Set')  "
   ]
  },
  {
   "cell_type": "markdown",
   "id": "fdd0652d-5074-4598-acb3-7b76863ecc82",
   "metadata": {},
   "source": [
    "The distribution of num_ratings values in the dataset is also skewed towards the lower end, indicating that the majority of the data points have a lower num_ratings."
   ]
  },
  {
   "cell_type": "markdown",
   "id": "0730be86-5652-4e27-b48d-5bfde0c08ee8",
   "metadata": {},
   "source": [
    "We will filter out users with enough number of ratings and also with relatively low MSE. For MSE, we will filter out users with number of ratings lower than 75% quantile. For num_ratings, we will filter out users with num_ratings higher than 25% quantile."
   ]
  },
  {
   "cell_type": "code",
   "execution_count": 27,
   "id": "9e8334ea-7fd6-42d2-b403-5ecf6756f701",
   "metadata": {
    "tags": []
   },
   "outputs": [
    {
     "data": {
      "text/html": [
       "<div>\n",
       "<style scoped>\n",
       "    .dataframe tbody tr th:only-of-type {\n",
       "        vertical-align: middle;\n",
       "    }\n",
       "\n",
       "    .dataframe tbody tr th {\n",
       "        vertical-align: top;\n",
       "    }\n",
       "\n",
       "    .dataframe thead th {\n",
       "        text-align: right;\n",
       "    }\n",
       "</style>\n",
       "<table border=\"1\" class=\"dataframe\">\n",
       "  <thead>\n",
       "    <tr style=\"text-align: right;\">\n",
       "      <th></th>\n",
       "      <th>user_id</th>\n",
       "      <th>weight_tag</th>\n",
       "      <th>weight_actor</th>\n",
       "      <th>weight_director</th>\n",
       "      <th>MSE_testset</th>\n",
       "      <th>num_ratings</th>\n",
       "    </tr>\n",
       "  </thead>\n",
       "  <tbody>\n",
       "    <tr>\n",
       "      <th>0</th>\n",
       "      <td>854937</td>\n",
       "      <td>0.186555</td>\n",
       "      <td>1.803129</td>\n",
       "      <td>1.000000e+00</td>\n",
       "      <td>3.536994</td>\n",
       "      <td>63</td>\n",
       "    </tr>\n",
       "    <tr>\n",
       "      <th>1</th>\n",
       "      <td>440422</td>\n",
       "      <td>0.741529</td>\n",
       "      <td>1.030073</td>\n",
       "      <td>1.224605e+00</td>\n",
       "      <td>1.432668</td>\n",
       "      <td>610</td>\n",
       "    </tr>\n",
       "    <tr>\n",
       "      <th>2</th>\n",
       "      <td>97794</td>\n",
       "      <td>1.009243</td>\n",
       "      <td>2.110078</td>\n",
       "      <td>-1.212663e-01</td>\n",
       "      <td>1.088749</td>\n",
       "      <td>358</td>\n",
       "    </tr>\n",
       "    <tr>\n",
       "      <th>4</th>\n",
       "      <td>603025</td>\n",
       "      <td>0.450318</td>\n",
       "      <td>2.960164</td>\n",
       "      <td>-4.244185e-01</td>\n",
       "      <td>4.011973</td>\n",
       "      <td>107</td>\n",
       "    </tr>\n",
       "    <tr>\n",
       "      <th>5</th>\n",
       "      <td>964494</td>\n",
       "      <td>1.091777</td>\n",
       "      <td>1.499974</td>\n",
       "      <td>3.927511e-01</td>\n",
       "      <td>1.819399</td>\n",
       "      <td>319</td>\n",
       "    </tr>\n",
       "    <tr>\n",
       "      <th>...</th>\n",
       "      <td>...</td>\n",
       "      <td>...</td>\n",
       "      <td>...</td>\n",
       "      <td>...</td>\n",
       "      <td>...</td>\n",
       "      <td>...</td>\n",
       "    </tr>\n",
       "    <tr>\n",
       "      <th>437</th>\n",
       "      <td>524093</td>\n",
       "      <td>1.271877</td>\n",
       "      <td>1.829859</td>\n",
       "      <td>-1.060980e-01</td>\n",
       "      <td>0.941394</td>\n",
       "      <td>424</td>\n",
       "    </tr>\n",
       "    <tr>\n",
       "      <th>438</th>\n",
       "      <td>293819</td>\n",
       "      <td>0.514190</td>\n",
       "      <td>1.464702</td>\n",
       "      <td>9.942265e-01</td>\n",
       "      <td>2.589329</td>\n",
       "      <td>308</td>\n",
       "    </tr>\n",
       "    <tr>\n",
       "      <th>439</th>\n",
       "      <td>270872</td>\n",
       "      <td>0.309085</td>\n",
       "      <td>3.283153</td>\n",
       "      <td>-1.112691e-01</td>\n",
       "      <td>2.369712</td>\n",
       "      <td>47</td>\n",
       "    </tr>\n",
       "    <tr>\n",
       "      <th>442</th>\n",
       "      <td>886396</td>\n",
       "      <td>1.649499</td>\n",
       "      <td>-0.210209</td>\n",
       "      <td>1.519809e+00</td>\n",
       "      <td>1.071894</td>\n",
       "      <td>599</td>\n",
       "    </tr>\n",
       "    <tr>\n",
       "      <th>443</th>\n",
       "      <td>623558</td>\n",
       "      <td>1.000000</td>\n",
       "      <td>2.000163</td>\n",
       "      <td>-1.953420e-08</td>\n",
       "      <td>3.484576</td>\n",
       "      <td>26</td>\n",
       "    </tr>\n",
       "  </tbody>\n",
       "</table>\n",
       "<p>281 rows × 6 columns</p>\n",
       "</div>"
      ],
      "text/plain": [
       "     user_id  weight_tag  weight_actor  weight_director  MSE_testset  \\\n",
       "0     854937    0.186555      1.803129     1.000000e+00     3.536994   \n",
       "1     440422    0.741529      1.030073     1.224605e+00     1.432668   \n",
       "2      97794    1.009243      2.110078    -1.212663e-01     1.088749   \n",
       "4     603025    0.450318      2.960164    -4.244185e-01     4.011973   \n",
       "5     964494    1.091777      1.499974     3.927511e-01     1.819399   \n",
       "..       ...         ...           ...              ...          ...   \n",
       "437   524093    1.271877      1.829859    -1.060980e-01     0.941394   \n",
       "438   293819    0.514190      1.464702     9.942265e-01     2.589329   \n",
       "439   270872    0.309085      3.283153    -1.112691e-01     2.369712   \n",
       "442   886396    1.649499     -0.210209     1.519809e+00     1.071894   \n",
       "443   623558    1.000000      2.000163    -1.953420e-08     3.484576   \n",
       "\n",
       "     num_ratings  \n",
       "0             63  \n",
       "1            610  \n",
       "2            358  \n",
       "4            107  \n",
       "5            319  \n",
       "..           ...  \n",
       "437          424  \n",
       "438          308  \n",
       "439           47  \n",
       "442          599  \n",
       "443           26  \n",
       "\n",
       "[281 rows x 6 columns]"
      ]
     },
     "execution_count": 27,
     "metadata": {},
     "output_type": "execute_result"
    }
   ],
   "source": [
    "# Calculating the percentiles for MSE and num_ratings\n",
    "mse_75_q = results_df['MSE_testset'].quantile(0.75)\n",
    "num_ratings_25_q = results_df['num_ratings'].quantile(0.25)\n",
    "\n",
    "# Filter the data based on these percentiles\n",
    "filtered_users = results_df[(results_df['MSE_testset'] <= mse_75_q) & \n",
    "                             (results_df['num_ratings'] >= num_ratings_25_q)]\n",
    "filtered_users"
   ]
  },
  {
   "cell_type": "markdown",
   "id": "ea7a6012-914c-4d54-9988-4ecc28018e70",
   "metadata": {},
   "source": [
    "We will use these 281 users to determine a foundational framework for our recommendation system."
   ]
  },
  {
   "cell_type": "code",
   "execution_count": 28,
   "id": "83aed9c4-ba06-4fc2-ac36-bd6d251008f0",
   "metadata": {
    "tags": []
   },
   "outputs": [
    {
     "data": {
      "image/png": "[encoded data removed]",
      "text/plain": [
       "<Figure size 800x1200 with 3 Axes>"
      ]
     },
     "metadata": {},
     "output_type": "display_data"
    }
   ],
   "source": [
    "# Creating a figure and 3 subplots\n",
    "fig, (ax1, ax2, ax3) = plt.subplots(1, 3, figsize=(8, 12))\n",
    "\n",
    "# Plotting tags weight\n",
    "ax1.boxplot(filtered_users['weight_tag'])\n",
    "ax1.set_title('Boxplot of Tags Weight')\n",
    "ax1.set_ylabel('Wight Value')\n",
    "\n",
    "# Plotting actors weight\n",
    "ax2.boxplot(filtered_users['weight_actor'])\n",
    "ax2.set_title('Boxplot of Actors Weight')\n",
    "ax2.set_ylabel('Wight Value')\n",
    "\n",
    "# Plotting director weight\n",
    "ax3.boxplot(filtered_users['weight_director'])\n",
    "ax3.set_title('Boxplot of Director Weight')\n",
    "ax3.set_ylabel('Weight Value')\n",
    "\n",
    "\n",
    "plt.tight_layout()\n",
    "plt.show()"
   ]
  },
  {
   "cell_type": "markdown",
   "id": "4b116af5-db2e-4535-8178-19d4055c2e01",
   "metadata": {},
   "source": [
    "All three weights have some extreme values. We will use IQR method to detect and remove these outliers."
   ]
  },
  {
   "cell_type": "code",
   "execution_count": 29,
   "id": "2f178baf-3357-4c93-bc48-e335e7c6afde",
   "metadata": {
    "tags": []
   },
   "outputs": [
    {
     "data": {
      "text/html": [
       "<div>\n",
       "<style scoped>\n",
       "    .dataframe tbody tr th:only-of-type {\n",
       "        vertical-align: middle;\n",
       "    }\n",
       "\n",
       "    .dataframe tbody tr th {\n",
       "        vertical-align: top;\n",
       "    }\n",
       "\n",
       "    .dataframe thead th {\n",
       "        text-align: right;\n",
       "    }\n",
       "</style>\n",
       "<table border=\"1\" class=\"dataframe\">\n",
       "  <thead>\n",
       "    <tr style=\"text-align: right;\">\n",
       "      <th></th>\n",
       "      <th>user_id</th>\n",
       "      <th>weight_tag</th>\n",
       "      <th>weight_actor</th>\n",
       "      <th>weight_director</th>\n",
       "      <th>MSE_testset</th>\n",
       "      <th>num_ratings</th>\n",
       "    </tr>\n",
       "  </thead>\n",
       "  <tbody>\n",
       "    <tr>\n",
       "      <th>0</th>\n",
       "      <td>854937</td>\n",
       "      <td>0.186555</td>\n",
       "      <td>1.803129</td>\n",
       "      <td>1.000000e+00</td>\n",
       "      <td>3.536994</td>\n",
       "      <td>63</td>\n",
       "    </tr>\n",
       "    <tr>\n",
       "      <th>1</th>\n",
       "      <td>440422</td>\n",
       "      <td>0.741529</td>\n",
       "      <td>1.030073</td>\n",
       "      <td>1.224605e+00</td>\n",
       "      <td>1.432668</td>\n",
       "      <td>610</td>\n",
       "    </tr>\n",
       "    <tr>\n",
       "      <th>2</th>\n",
       "      <td>97794</td>\n",
       "      <td>1.009243</td>\n",
       "      <td>2.110078</td>\n",
       "      <td>-1.212663e-01</td>\n",
       "      <td>1.088749</td>\n",
       "      <td>358</td>\n",
       "    </tr>\n",
       "    <tr>\n",
       "      <th>4</th>\n",
       "      <td>603025</td>\n",
       "      <td>0.450318</td>\n",
       "      <td>2.960164</td>\n",
       "      <td>-4.244185e-01</td>\n",
       "      <td>4.011973</td>\n",
       "      <td>107</td>\n",
       "    </tr>\n",
       "    <tr>\n",
       "      <th>5</th>\n",
       "      <td>964494</td>\n",
       "      <td>1.091777</td>\n",
       "      <td>1.499974</td>\n",
       "      <td>3.927511e-01</td>\n",
       "      <td>1.819399</td>\n",
       "      <td>319</td>\n",
       "    </tr>\n",
       "    <tr>\n",
       "      <th>...</th>\n",
       "      <td>...</td>\n",
       "      <td>...</td>\n",
       "      <td>...</td>\n",
       "      <td>...</td>\n",
       "      <td>...</td>\n",
       "      <td>...</td>\n",
       "    </tr>\n",
       "    <tr>\n",
       "      <th>437</th>\n",
       "      <td>524093</td>\n",
       "      <td>1.271877</td>\n",
       "      <td>1.829859</td>\n",
       "      <td>-1.060980e-01</td>\n",
       "      <td>0.941394</td>\n",
       "      <td>424</td>\n",
       "    </tr>\n",
       "    <tr>\n",
       "      <th>438</th>\n",
       "      <td>293819</td>\n",
       "      <td>0.514190</td>\n",
       "      <td>1.464702</td>\n",
       "      <td>9.942265e-01</td>\n",
       "      <td>2.589329</td>\n",
       "      <td>308</td>\n",
       "    </tr>\n",
       "    <tr>\n",
       "      <th>439</th>\n",
       "      <td>270872</td>\n",
       "      <td>0.309085</td>\n",
       "      <td>3.283153</td>\n",
       "      <td>-1.112691e-01</td>\n",
       "      <td>2.369712</td>\n",
       "      <td>47</td>\n",
       "    </tr>\n",
       "    <tr>\n",
       "      <th>442</th>\n",
       "      <td>886396</td>\n",
       "      <td>1.649499</td>\n",
       "      <td>-0.210209</td>\n",
       "      <td>1.519809e+00</td>\n",
       "      <td>1.071894</td>\n",
       "      <td>599</td>\n",
       "    </tr>\n",
       "    <tr>\n",
       "      <th>443</th>\n",
       "      <td>623558</td>\n",
       "      <td>1.000000</td>\n",
       "      <td>2.000163</td>\n",
       "      <td>-1.953420e-08</td>\n",
       "      <td>3.484576</td>\n",
       "      <td>26</td>\n",
       "    </tr>\n",
       "  </tbody>\n",
       "</table>\n",
       "<p>221 rows × 6 columns</p>\n",
       "</div>"
      ],
      "text/plain": [
       "     user_id  weight_tag  weight_actor  weight_director  MSE_testset  \\\n",
       "0     854937    0.186555      1.803129     1.000000e+00     3.536994   \n",
       "1     440422    0.741529      1.030073     1.224605e+00     1.432668   \n",
       "2      97794    1.009243      2.110078    -1.212663e-01     1.088749   \n",
       "4     603025    0.450318      2.960164    -4.244185e-01     4.011973   \n",
       "5     964494    1.091777      1.499974     3.927511e-01     1.819399   \n",
       "..       ...         ...           ...              ...          ...   \n",
       "437   524093    1.271877      1.829859    -1.060980e-01     0.941394   \n",
       "438   293819    0.514190      1.464702     9.942265e-01     2.589329   \n",
       "439   270872    0.309085      3.283153    -1.112691e-01     2.369712   \n",
       "442   886396    1.649499     -0.210209     1.519809e+00     1.071894   \n",
       "443   623558    1.000000      2.000163    -1.953420e-08     3.484576   \n",
       "\n",
       "     num_ratings  \n",
       "0             63  \n",
       "1            610  \n",
       "2            358  \n",
       "4            107  \n",
       "5            319  \n",
       "..           ...  \n",
       "437          424  \n",
       "438          308  \n",
       "439           47  \n",
       "442          599  \n",
       "443           26  \n",
       "\n",
       "[221 rows x 6 columns]"
      ]
     },
     "execution_count": 29,
     "metadata": {},
     "output_type": "execute_result"
    }
   ],
   "source": [
    "# Calculating IQR for each weight\n",
    "Q1 = filtered_users[['weight_tag', 'weight_actor', 'weight_director']].quantile(0.25)\n",
    "Q3 = filtered_users[['weight_tag', 'weight_actor', 'weight_director']].quantile(0.75)\n",
    "IQR = Q3 - Q1\n",
    "\n",
    "# Filtering out the outliers specifically for the weight columns\n",
    "condition = ((filtered_users[['weight_tag', 'weight_actor', 'weight_director']] < (Q1 - 1.5 * IQR)) | \n",
    "             (filtered_users[['weight_tag', 'weight_actor', 'weight_director']] > (Q3 + 1.5 * IQR)))\n",
    "\n",
    "# Inverting the condition and filtering the data\n",
    "data_no_outliers = filtered_users[~condition.any(axis=1)]\n",
    "\n",
    "data_no_outliers"
   ]
  },
  {
   "cell_type": "code",
   "execution_count": 30,
   "id": "c7ffa3ef-41e5-4c55-9f11-b429619fe506",
   "metadata": {
    "tags": []
   },
   "outputs": [
    {
     "name": "stdout",
     "output_type": "stream",
     "text": [
      "Mean value of weight_tag:  0.8586474291771057\n",
      "Mean value of weight_actor:  1.7129111233836225\n",
      "Mean value of weight_director:  0.4217511307740195\n",
      "Median value of weight_tag:  0.771862211261677\n",
      "Median value of weight_actor:  1.8031290856557807\n",
      "Median value of weight_director:  0.25900859890012035\n"
     ]
    }
   ],
   "source": [
    "print(\"Mean value of weight_tag: \", np.mean(data_no_outliers[\"weight_tag\"]))\n",
    "print(\"Mean value of weight_actor: \", np.mean(data_no_outliers[\"weight_actor\"]))\n",
    "print(\"Mean value of weight_director: \", np.mean(data_no_outliers[\"weight_director\"]))\n",
    "print(\"Median value of weight_tag: \", np.median(data_no_outliers[\"weight_tag\"]))\n",
    "print(\"Median value of weight_actor: \", np.median(data_no_outliers[\"weight_actor\"]))\n",
    "print(\"Median value of weight_director: \", np.median(data_no_outliers[\"weight_director\"]))"
   ]
  },
  {
   "cell_type": "markdown",
   "id": "eb804a9b-7981-4e5a-9929-67c8d508c5d6",
   "metadata": {},
   "source": [
    "Then we will compare the result of mean_weights and median_weights to the previous 500 randomly selected users."
   ]
  },
  {
   "cell_type": "code",
   "execution_count": 31,
   "id": "647484e3-d2c1-491a-a92b-0a694b3e922c",
   "metadata": {
    "tags": []
   },
   "outputs": [],
   "source": [
    "mean_weights = [np.mean(data_no_outliers[\"weight_tag\"]), np.mean(data_no_outliers[\"weight_actor\"]), np.mean(data_no_outliers[\"weight_director\"])]\n",
    "median_weights = [np.median(data_no_outliers[\"weight_tag\"]), np.median(data_no_outliers[\"weight_actor\"]), np.median(data_no_outliers[\"weight_director\"])]"
   ]
  },
  {
   "cell_type": "code",
   "execution_count": 32,
   "id": "8c5c9b9d-cb87-40bb-9de0-a3580776e68b",
   "metadata": {
    "tags": []
   },
   "outputs": [],
   "source": [
    "# Function to calculate the average MSE of many users.\n",
    "def calculate_average_mse(users, weights):\n",
    "    mse_list = []\n",
    "\n",
    "    for user_id in users:\n",
    "        user_ratings = ratings[ratings[\"user_id\"] == user_id]\n",
    "\n",
    "        if len(user_ratings) >= 10:\n",
    "            baseline_set, temp_set = train_test_split(user_ratings, test_size=0.4, random_state=42)\n",
    "            _, test_set = train_test_split(temp_set, test_size=0.5, random_state=42)\n",
    "\n",
    "            mse = objective_function(weights, baseline_set, test_set)\n",
    "            mse_list.append(mse)\n",
    "\n",
    "    return np.mean(mse_list) if mse_list else 0"
   ]
  },
  {
   "cell_type": "code",
   "execution_count": 33,
   "id": "c3182dfc-c466-4144-b438-2014e1b2db69",
   "metadata": {
    "tags": []
   },
   "outputs": [
    {
     "name": "stdout",
     "output_type": "stream",
     "text": [
      "Average MSE with mean weights:  4.760391638474657\n"
     ]
    }
   ],
   "source": [
    "average_mse_mean_weights = calculate_average_mse(random_selected_users, mean_weights)\n",
    "print(\"Average MSE with mean weights: \", average_mse_mean_weights)"
   ]
  },
  {
   "cell_type": "code",
   "execution_count": 34,
   "id": "f6a16634-46db-466b-bb3e-716d88ea15df",
   "metadata": {
    "tags": []
   },
   "outputs": [
    {
     "name": "stdout",
     "output_type": "stream",
     "text": [
      "Average MSE with median weights:  4.759347015922955\n"
     ]
    }
   ],
   "source": [
    "average_mse_median_weights = calculate_average_mse(random_selected_users, median_weights)\n",
    "print(\"Average MSE with median weights: \", average_mse_median_weights)"
   ]
  },
  {
   "cell_type": "markdown",
   "id": "0e8db3f9-d951-4c3e-aa93-7cad401de04c",
   "metadata": {},
   "source": [
    "Then compare the outliers-removed users' average MSE results."
   ]
  },
  {
   "cell_type": "code",
   "execution_count": 35,
   "id": "bfc95831-7d55-48cc-8e3d-6fe86d501385",
   "metadata": {
    "tags": []
   },
   "outputs": [],
   "source": [
    "users_no_outliers = data_no_outliers['user_id'].unique()"
   ]
  },
  {
   "cell_type": "code",
   "execution_count": 36,
   "id": "f4b28c69-fcc4-4c6f-9db6-e58eef5944f4",
   "metadata": {
    "tags": []
   },
   "outputs": [
    {
     "data": {
      "text/plain": [
       "221"
      ]
     },
     "execution_count": 36,
     "metadata": {},
     "output_type": "execute_result"
    }
   ],
   "source": [
    "len(users_no_outliers)"
   ]
  },
  {
   "cell_type": "code",
   "execution_count": 37,
   "id": "6c30eefe-3fa3-407b-a0c3-aeeef20150ee",
   "metadata": {
    "tags": []
   },
   "outputs": [
    {
     "name": "stdout",
     "output_type": "stream",
     "text": [
      "Average MSE with mean weights (without outlier):  2.4040308529681202\n"
     ]
    }
   ],
   "source": [
    "average_mse_mean_weights_no_outliers = calculate_average_mse(users_no_outliers, mean_weights)\n",
    "print(\"Average MSE with mean weights (without outlier): \", average_mse_mean_weights_no_outliers)"
   ]
  },
  {
   "cell_type": "code",
   "execution_count": 38,
   "id": "4639165e-0bd8-475a-ac79-cdcfbbf62db3",
   "metadata": {
    "tags": []
   },
   "outputs": [
    {
     "name": "stdout",
     "output_type": "stream",
     "text": [
      "Average MSE with median weights (without outlier):  2.402900510919594\n"
     ]
    }
   ],
   "source": [
    "average_mse_median_weights_no_outliers = calculate_average_mse(users_no_outliers, median_weights)\n",
    "print(\"Average MSE with median weights (without outlier): \", average_mse_median_weights_no_outliers)"
   ]
  },
  {
   "cell_type": "markdown",
   "id": "f58ff9bf-84ac-4686-9dfa-684b472583c9",
   "metadata": {},
   "source": [
    "Both results from mean_weights and median_weights are quite closed. We will choose median_weights as our inital weights for the recommendation system."
   ]
  },
  {
   "cell_type": "markdown",
   "id": "a7182f27-7dbf-45d9-a8ca-2fdcc56f6d73",
   "metadata": {
    "tags": []
   },
   "source": [
    "<h3>An Example for the Recommendation System</h3>"
   ]
  },
  {
   "cell_type": "markdown",
   "id": "0aca1030-151b-4b84-94d6-d64c33f5e013",
   "metadata": {},
   "source": [
    "Here is the outline for our item-based recommendation system:\n",
    "1. For each movie that the user have rated:\n",
    "- filter out movies that share director with this movie.\n",
    "- filter out movies that have record in similar_movies_actors with this movie.\n",
    "- filter out movies that have record in similar_movies_tags with this movie.\n",
    "- Combine all filtered movies to a new set - possible_recommended_movies.\n",
    "2. Determine the set of user rated movies.\n",
    "- For each movie in possible_recommended_movies i and in rated_movies j, calculate sim(i, j) using the previous calculated weights.\n",
    "- Calculate the weighted rating for each possible_recommended_movies i and compare weighted ratings."
   ]
  },
  {
   "cell_type": "code",
   "execution_count": 39,
   "id": "c08034d9-1bc6-4da7-ab82-6f73e58e8a7e",
   "metadata": {
    "tags": []
   },
   "outputs": [],
   "source": [
    "def item_based_recommendation(input_df, weights):\n",
    "    \n",
    "    # Threshold to restrict the possible recommendations pool to improve the performance\n",
    "    COSINE_SIMILARITY_THRESHOLD = 0.35\n",
    "    JACCARD_SIMILARITY_THRESHOLD = 0.15\n",
    "    \n",
    "    # Determine the set of movies rated by the user\n",
    "    rated_movies = set(input_df[\"item_id\"])\n",
    "\n",
    "    # Initialize a set for potential recommended movies\n",
    "    possible_recommended_movies = set()\n",
    "\n",
    "    # Iterate through each movie rated by the user\n",
    "    for movie_id in rated_movies:\n",
    "        # Filter out movies sharing the same director\n",
    "        movies_with_same_director = set(similarity_data_director.get(movie_id, []))\n",
    "        # Filter out movies with record in terms of actors\n",
    "        movies_with_similar_actors = {other_movie_id for other_movie_id, jac_sim in similarity_data_actors.get(movie_id, {}).items() if jac_sim > JACCARD_SIMILARITY_THRESHOLD}\n",
    "        # Filter out movies with record in terms of tags\n",
    "        movies_with_similar_tags = {other_movie_id for other_movie_id, cos_sim in similarity_data_tags.get(movie_id, {}).items() if cos_sim > COSINE_SIMILARITY_THRESHOLD}\n",
    "\n",
    "        # Combine all filtered movies to the possible recommendations pool\n",
    "        possible_recommended_movies.update(movies_with_same_director)\n",
    "        possible_recommended_movies.update(movies_with_similar_actors)\n",
    "        possible_recommended_movies.update(movies_with_similar_tags)\n",
    "\n",
    "    # Remove movies already rated by the user\n",
    "    possible_recommended_movies.difference_update(rated_movies)\n",
    "    \n",
    "    # Calculate the weighted rating for each potentially recommended movie\n",
    "    movie_scores = {}\n",
    "    for movie_id in possible_recommended_movies:\n",
    "        predicted_score = predicted_rating(movie_id, input_df, weights)\n",
    "        # Filter out the extreme situation: only one 5 score movie have similarities with this movie\n",
    "        if predicted_score <= 4.99:\n",
    "            movie_scores[movie_id] = predicted_score\n",
    "\n",
    "    movie_recommended_df = pd.DataFrame(list(movie_scores.items()), columns=['item_id', 'pred_rating'])\n",
    "    movie_recommended_df = movie_recommended_df.sort_values(by='pred_rating', ascending=False)\n",
    "\n",
    "    return movie_recommended_df"
   ]
  },
  {
   "cell_type": "code",
   "execution_count": 42,
   "id": "f8f659b8-a3db-4048-a494-48de729565ea",
   "metadata": {
    "tags": []
   },
   "outputs": [],
   "source": [
    "metadata = pd.read_json(r'F:\\DS_Dataset\\genome_2021\\movie_dataset_public_final\\raw\\metadata.json', lines=True)"
   ]
  },
  {
   "cell_type": "code",
   "execution_count": 43,
   "id": "4aa14140-51fb-4d96-8cfc-ca6b7fc54c7f",
   "metadata": {
    "tags": []
   },
   "outputs": [
    {
     "data": {
      "text/html": [
       "<div>\n",
       "<style scoped>\n",
       "    .dataframe tbody tr th:only-of-type {\n",
       "        vertical-align: middle;\n",
       "    }\n",
       "\n",
       "    .dataframe tbody tr th {\n",
       "        vertical-align: top;\n",
       "    }\n",
       "\n",
       "    .dataframe thead th {\n",
       "        text-align: right;\n",
       "    }\n",
       "</style>\n",
       "<table border=\"1\" class=\"dataframe\">\n",
       "  <thead>\n",
       "    <tr style=\"text-align: right;\">\n",
       "      <th></th>\n",
       "      <th>item_id</th>\n",
       "      <th>pred_rating</th>\n",
       "      <th>title</th>\n",
       "    </tr>\n",
       "  </thead>\n",
       "  <tbody>\n",
       "    <tr>\n",
       "      <th>0</th>\n",
       "      <td>128360.0</td>\n",
       "      <td>4.900846</td>\n",
       "      <td>The Hateful Eight (2015)</td>\n",
       "    </tr>\n",
       "    <tr>\n",
       "      <th>1</th>\n",
       "      <td>31467.0</td>\n",
       "      <td>4.850789</td>\n",
       "      <td>Great White Hope, The (1970)</td>\n",
       "    </tr>\n",
       "    <tr>\n",
       "      <th>2</th>\n",
       "      <td>8688.0</td>\n",
       "      <td>4.849192</td>\n",
       "      <td>Shalako (1968)</td>\n",
       "    </tr>\n",
       "    <tr>\n",
       "      <th>3</th>\n",
       "      <td>74820.0</td>\n",
       "      <td>4.824047</td>\n",
       "      <td>Fall of the Roman Empire, The (1964)</td>\n",
       "    </tr>\n",
       "    <tr>\n",
       "      <th>4</th>\n",
       "      <td>33790.0</td>\n",
       "      <td>4.818942</td>\n",
       "      <td>Captain's Paradise, The (1953)</td>\n",
       "    </tr>\n",
       "    <tr>\n",
       "      <th>...</th>\n",
       "      <td>...</td>\n",
       "      <td>...</td>\n",
       "      <td>...</td>\n",
       "    </tr>\n",
       "    <tr>\n",
       "      <th>6805</th>\n",
       "      <td>110136.0</td>\n",
       "      <td>1.000000</td>\n",
       "      <td>Amazonia (2013)</td>\n",
       "    </tr>\n",
       "    <tr>\n",
       "      <th>6806</th>\n",
       "      <td>142374.0</td>\n",
       "      <td>1.000000</td>\n",
       "      <td>Attack on Titan: End of the World (2015)</td>\n",
       "    </tr>\n",
       "    <tr>\n",
       "      <th>6807</th>\n",
       "      <td>167616.0</td>\n",
       "      <td>1.000000</td>\n",
       "      <td>The Aftermath (1982)</td>\n",
       "    </tr>\n",
       "    <tr>\n",
       "      <th>6808</th>\n",
       "      <td>159542.0</td>\n",
       "      <td>1.000000</td>\n",
       "      <td>Endgame (1983)</td>\n",
       "    </tr>\n",
       "    <tr>\n",
       "      <th>6809</th>\n",
       "      <td>152055.0</td>\n",
       "      <td>1.000000</td>\n",
       "      <td>Pandemic (2016)</td>\n",
       "    </tr>\n",
       "  </tbody>\n",
       "</table>\n",
       "<p>6810 rows × 3 columns</p>\n",
       "</div>"
      ],
      "text/plain": [
       "       item_id  pred_rating                                     title\n",
       "0     128360.0     4.900846                  The Hateful Eight (2015)\n",
       "1      31467.0     4.850789              Great White Hope, The (1970)\n",
       "2       8688.0     4.849192                            Shalako (1968)\n",
       "3      74820.0     4.824047      Fall of the Roman Empire, The (1964)\n",
       "4      33790.0     4.818942            Captain's Paradise, The (1953)\n",
       "...        ...          ...                                       ...\n",
       "6805  110136.0     1.000000                           Amazonia (2013)\n",
       "6806  142374.0     1.000000  Attack on Titan: End of the World (2015)\n",
       "6807  167616.0     1.000000                      The Aftermath (1982)\n",
       "6808  159542.0     1.000000                            Endgame (1983)\n",
       "6809  152055.0     1.000000                           Pandemic (2016)\n",
       "\n",
       "[6810 rows x 3 columns]"
      ]
     },
     "execution_count": 43,
     "metadata": {},
     "output_type": "execute_result"
    }
   ],
   "source": [
    "item_based_recommendation(user_example, median_weights).merge(metadata[['item_id', 'title']], on='item_id', how='left')"
   ]
  },
  {
   "cell_type": "markdown",
   "id": "da090e09-9e1e-4d98-bf41-6e12376e9d93",
   "metadata": {},
   "source": [
    "For user 19, these movies will be recommended. Looks like this user has a taste of historical, classic and deep movies."
   ]
  },
  {
   "cell_type": "markdown",
   "id": "3accb0e1-07f9-4f6c-90fd-5ca45acdf562",
   "metadata": {},
   "source": [
    "The following funtion will be used for our recommendatin system, with several important changes aimed at improving performance and accuracy. A key adjustment addresses a specific scenario: when both sim_director and sim_tags values are zero for a given movie. In such cases, movies with only a minimal overlap in actors could previously receive disproportionately high scores. To counter this, we've implemented an additional restrict — movies in this situation must now have a sim_actors value exceeding 0.3 to qualify as a recommendation. "
   ]
  },
  {
   "cell_type": "code",
   "execution_count": 1,
   "id": "f930abdd-e4f6-4606-8b67-2b2eec61d28e",
   "metadata": {
    "tags": []
   },
   "outputs": [],
   "source": [
    "def item_based_recommendation(input_df, weights):\n",
    "    \n",
    "    # Threshold to restrict the possible recommendations pool to improve the performance\n",
    "    COSINE_SIMILARITY_THRESHOLD = 0.35\n",
    "    JACCARD_SIMILARITY_THRESHOLD = 0.15\n",
    "    \n",
    "    # Determine the set of movies rated by the user\n",
    "    rated_movies = set(input_df[\"item_id\"])\n",
    "    \n",
    "    # Initialize a set for potential recommended movies\n",
    "    possible_recommended_movies = set()\n",
    "    \n",
    "    # Iterate through each movie rated by the user\n",
    "    for movie_id in rated_movies:\n",
    "        # Filter out movies sharing the same director, actors, and tags\n",
    "        movies_with_same_director = set(similarity_data_director.get(movie_id, []))\n",
    "        movies_with_similar_actors = {other_movie_id for other_movie_id, jac_sim in similarity_data_actors.get(movie_id, {}).items() if jac_sim > JACCARD_SIMILARITY_THRESHOLD}\n",
    "        movies_with_similar_tags = {other_movie_id for other_movie_id, cos_sim in similarity_data_tags.get(movie_id, {}).items() if cos_sim > COSINE_SIMILARITY_THRESHOLD}\n",
    "        \n",
    "        # Combine all filtered movies\n",
    "        possible_recommended_movies.update(movies_with_same_director, movies_with_similar_actors, movies_with_similar_tags)\n",
    "    \n",
    "    # Remove movies already rated by the user\n",
    "    possible_recommended_movies.difference_update(rated_movies)\n",
    "    \n",
    "    # Calculate the weighted rating for each potentially recommended movie\n",
    "    movie_scores = {}\n",
    "    for movie_id in possible_recommended_movies:\n",
    "        total_similarity = 0\n",
    "        weighted_ratings_sum = 0\n",
    "        \n",
    "        # Iterate through each movie in the baseline set (input_df)\n",
    "        for _, row in input_df.iterrows():\n",
    "            baseline_movie_id = row['item_id']\n",
    "            user_rating = row['rating']\n",
    "            \n",
    "            # Calculate similarities\n",
    "            sim_tags = similarity_data_tags.get(baseline_movie_id, {}).get(movie_id, 0)\n",
    "            sim_actors = similarity_data_actors.get(baseline_movie_id, {}).get(movie_id, 0)\n",
    "            sim_director = 1 if baseline_movie_id in similarity_data_director.get(movie_id, []) else 0\n",
    "            \n",
    "            # Conditional restrict for sim_actors\n",
    "            if sim_tags == 0 and sim_director == 0 and sim_actors <= 0.3:\n",
    "                continue\n",
    "            \n",
    "            # Combine similarities\n",
    "            sim_combine = (weights[0] * sim_tags + weights[1] * sim_actors + weights[2] * sim_director)\n",
    "            \n",
    "            # Calculate weighted sum\n",
    "            weighted_ratings_sum += sim_combine * user_rating\n",
    "            total_similarity += sim_combine\n",
    "        \n",
    "        # Calculate predicted rating\n",
    "        predicted_score = weighted_ratings_sum / total_similarity if total_similarity != 0 else 0\n",
    "        movie_scores[movie_id] = predicted_score\n",
    "    \n",
    "    # Create a DataFrame for recommended movies\n",
    "    movie_recommended_df = pd.DataFrame(list(movie_scores.items()), columns=['item_id', 'pred_rating'])\n",
    "    movie_recommended_df = movie_recommended_df.sort_values(by='pred_rating', ascending=False)\n",
    "    \n",
    "    return movie_recommended_df"
   ]
  }
 ],
 "metadata": {
  "kernelspec": {
   "display_name": "Python 3 (ipykernel)",
   "language": "python",
   "name": "python3"
  },
  "language_info": {
   "codemirror_mode": {
    "name": "ipython",
    "version": 3
   },
   "file_extension": ".py",
   "mimetype": "text/x-python",
   "name": "python",
   "nbconvert_exporter": "python",
   "pygments_lexer": "ipython3",
   "version": "3.11.5"
  }
 },
 "nbformat": 4,
 "nbformat_minor": 5
}
