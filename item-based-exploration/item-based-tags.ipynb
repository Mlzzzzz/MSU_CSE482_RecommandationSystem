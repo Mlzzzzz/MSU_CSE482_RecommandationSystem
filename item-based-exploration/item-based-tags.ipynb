{
 "cells": [
  {
   "cell_type": "markdown",
   "id": "c370d71b-2f43-4dca-8c44-17c98987e87b",
   "metadata": {},
   "source": [
    "<h1>Collaborative Filtering Movie Recommendation - Item Based - Tags</h1>"
   ]
  },
  {
   "cell_type": "markdown",
   "id": "678ae2ab-07ea-4d90-93c9-2279f0445342",
   "metadata": {},
   "source": [
    "In this notebook, we focus on determining the similarity between movies based on their tags. To analyze movie tags, we will utilize two data files: tag_count.json and survey_answers.json. \n",
    "\n",
    "tag_count.json contains 212,704 entries, detailing the number of times MovieLens users have attached a particular tag to a movie. \n",
    "\n",
    "survey_answers.json includes 58,903 entries, showing the ratings that MovieLens users have given to movie-tag pairs. The users were asked to indicate the degree, to which a tag applies to a movie on a 5-point scale from the tag not applying at all (1 point) to applying very strongly (5 points). Users could also indicate that they are not sure about the degree (the -1 value).\n",
    "\n",
    "After preprocessing these two datasets, we will construct a movie-tags matrix, indicating whether a movie contains a particular tag. In this matrix, \"0\" denotes the absence of a tag, while \"1\" signifies its presence. Finally, we will employ cosine similarity to assess the similarity of movies in terms of their tags."
   ]
  },
  {
   "cell_type": "markdown",
   "id": "16e32b15-b275-4b54-b11a-6d7abcebaf29",
   "metadata": {
    "tags": []
   },
   "source": [
    "<h3>import data</h3>"
   ]
  },
  {
   "cell_type": "code",
   "execution_count": 1,
   "id": "fab458aa-8a44-448f-909f-8b7601445382",
   "metadata": {
    "tags": []
   },
   "outputs": [],
   "source": [
    "import pandas as pd\n",
    "import numpy as np"
   ]
  },
  {
   "cell_type": "code",
   "execution_count": 2,
   "id": "62bb888d-bb94-4cb1-bdfa-c30aefddc81d",
   "metadata": {
    "tags": []
   },
   "outputs": [
    {
     "name": "stdout",
     "output_type": "stream",
     "text": [
      "(212704, 3)\n"
     ]
    },
    {
     "data": {
      "text/html": [
       "<div>\n",
       "<style scoped>\n",
       "    .dataframe tbody tr th:only-of-type {\n",
       "        vertical-align: middle;\n",
       "    }\n",
       "\n",
       "    .dataframe tbody tr th {\n",
       "        vertical-align: top;\n",
       "    }\n",
       "\n",
       "    .dataframe thead th {\n",
       "        text-align: right;\n",
       "    }\n",
       "</style>\n",
       "<table border=\"1\" class=\"dataframe\">\n",
       "  <thead>\n",
       "    <tr style=\"text-align: right;\">\n",
       "      <th></th>\n",
       "      <th>item_id</th>\n",
       "      <th>tag_id</th>\n",
       "      <th>num</th>\n",
       "    </tr>\n",
       "  </thead>\n",
       "  <tbody>\n",
       "    <tr>\n",
       "      <th>0</th>\n",
       "      <td>1</td>\n",
       "      <td>86963</td>\n",
       "      <td>4</td>\n",
       "    </tr>\n",
       "    <tr>\n",
       "      <th>1</th>\n",
       "      <td>1</td>\n",
       "      <td>42940</td>\n",
       "      <td>1</td>\n",
       "    </tr>\n",
       "    <tr>\n",
       "      <th>2</th>\n",
       "      <td>1</td>\n",
       "      <td>37116</td>\n",
       "      <td>26</td>\n",
       "    </tr>\n",
       "    <tr>\n",
       "      <th>3</th>\n",
       "      <td>1</td>\n",
       "      <td>52206</td>\n",
       "      <td>1</td>\n",
       "    </tr>\n",
       "    <tr>\n",
       "      <th>4</th>\n",
       "      <td>1</td>\n",
       "      <td>34442</td>\n",
       "      <td>21</td>\n",
       "    </tr>\n",
       "  </tbody>\n",
       "</table>\n",
       "</div>"
      ],
      "text/plain": [
       "   item_id  tag_id  num\n",
       "0        1   86963    4\n",
       "1        1   42940    1\n",
       "2        1   37116   26\n",
       "3        1   52206    1\n",
       "4        1   34442   21"
      ]
     },
     "execution_count": 2,
     "metadata": {},
     "output_type": "execute_result"
    }
   ],
   "source": [
    "# import tags.json\n",
    "tag_count = pd.read_json(r'F:\\DS_Dataset\\genome_2021\\movie_dataset_public_final\\raw\\tag_count.json', lines=True)\n",
    "print(tag_count.shape)\n",
    "tag_count.head()"
   ]
  },
  {
   "cell_type": "code",
   "execution_count": 3,
   "id": "ad8ce153-d2a3-4e48-aaf9-125e7883611a",
   "metadata": {
    "tags": []
   },
   "outputs": [
    {
     "name": "stdout",
     "output_type": "stream",
     "text": [
      "Empty DataFrame\n",
      "Columns: [item_id, tag_id, num]\n",
      "Index: []\n"
     ]
    }
   ],
   "source": [
    "# examine dublicated data of tag_count\n",
    "tag_count_duplicates = tag_count.duplicated()\n",
    "print(tag_count[tag_count_duplicates])"
   ]
  },
  {
   "cell_type": "code",
   "execution_count": 4,
   "id": "0b0691b8-9975-49c6-857e-d341b604bd9c",
   "metadata": {
    "tags": []
   },
   "outputs": [
    {
     "name": "stdout",
     "output_type": "stream",
     "text": [
      "(58903, 4)\n"
     ]
    },
    {
     "data": {
      "text/html": [
       "<div>\n",
       "<style scoped>\n",
       "    .dataframe tbody tr th:only-of-type {\n",
       "        vertical-align: middle;\n",
       "    }\n",
       "\n",
       "    .dataframe tbody tr th {\n",
       "        vertical-align: top;\n",
       "    }\n",
       "\n",
       "    .dataframe thead th {\n",
       "        text-align: right;\n",
       "    }\n",
       "</style>\n",
       "<table border=\"1\" class=\"dataframe\">\n",
       "  <thead>\n",
       "    <tr style=\"text-align: right;\">\n",
       "      <th></th>\n",
       "      <th>user_id</th>\n",
       "      <th>item_id</th>\n",
       "      <th>tag_id</th>\n",
       "      <th>score</th>\n",
       "    </tr>\n",
       "  </thead>\n",
       "  <tbody>\n",
       "    <tr>\n",
       "      <th>0</th>\n",
       "      <td>978707</td>\n",
       "      <td>3108</td>\n",
       "      <td>50126</td>\n",
       "      <td>3</td>\n",
       "    </tr>\n",
       "    <tr>\n",
       "      <th>1</th>\n",
       "      <td>978707</td>\n",
       "      <td>2858</td>\n",
       "      <td>50126</td>\n",
       "      <td>1</td>\n",
       "    </tr>\n",
       "    <tr>\n",
       "      <th>2</th>\n",
       "      <td>978707</td>\n",
       "      <td>1269</td>\n",
       "      <td>50126</td>\n",
       "      <td>1</td>\n",
       "    </tr>\n",
       "    <tr>\n",
       "      <th>3</th>\n",
       "      <td>978707</td>\n",
       "      <td>1136</td>\n",
       "      <td>50126</td>\n",
       "      <td>1</td>\n",
       "    </tr>\n",
       "    <tr>\n",
       "      <th>4</th>\n",
       "      <td>978707</td>\n",
       "      <td>1220</td>\n",
       "      <td>50126</td>\n",
       "      <td>1</td>\n",
       "    </tr>\n",
       "  </tbody>\n",
       "</table>\n",
       "</div>"
      ],
      "text/plain": [
       "   user_id  item_id  tag_id  score\n",
       "0   978707     3108   50126      3\n",
       "1   978707     2858   50126      1\n",
       "2   978707     1269   50126      1\n",
       "3   978707     1136   50126      1\n",
       "4   978707     1220   50126      1"
      ]
     },
     "execution_count": 4,
     "metadata": {},
     "output_type": "execute_result"
    }
   ],
   "source": [
    "# survey_answers.json\n",
    "survey_answers = pd.read_json(r'F:\\DS_Dataset\\genome_2021\\movie_dataset_public_final\\raw\\survey_answers.json', lines=True)\n",
    "print(survey_answers.shape)\n",
    "survey_answers.head()"
   ]
  },
  {
   "cell_type": "code",
   "execution_count": 5,
   "id": "5942d43b-a783-4b6e-a9a7-b65613abdc2d",
   "metadata": {
    "tags": []
   },
   "outputs": [
    {
     "name": "stdout",
     "output_type": "stream",
     "text": [
      "Empty DataFrame\n",
      "Columns: [user_id, item_id, tag_id, score]\n",
      "Index: []\n"
     ]
    }
   ],
   "source": [
    "# examine dublicated data of survey_answers\n",
    "survey_answers_duplicates = survey_answers.duplicated()\n",
    "print(survey_answers[survey_answers_duplicates])"
   ]
  },
  {
   "cell_type": "markdown",
   "id": "064778e4-2a89-4d95-aa37-8efb1a3f4702",
   "metadata": {
    "tags": []
   },
   "source": [
    "<h3>create a movie-tag matrix to calculate the cosine similarity</h3>"
   ]
  },
  {
   "cell_type": "code",
   "execution_count": 6,
   "id": "10ebb3bd-2ebb-4506-9025-7df97931296d",
   "metadata": {
    "tags": []
   },
   "outputs": [
    {
     "data": {
      "text/html": [
       "<div>\n",
       "<style scoped>\n",
       "    .dataframe tbody tr th:only-of-type {\n",
       "        vertical-align: middle;\n",
       "    }\n",
       "\n",
       "    .dataframe tbody tr th {\n",
       "        vertical-align: top;\n",
       "    }\n",
       "\n",
       "    .dataframe thead th {\n",
       "        text-align: right;\n",
       "    }\n",
       "</style>\n",
       "<table border=\"1\" class=\"dataframe\">\n",
       "  <thead>\n",
       "    <tr style=\"text-align: right;\">\n",
       "      <th></th>\n",
       "      <th>item_id</th>\n",
       "      <th>tag_id</th>\n",
       "      <th>num</th>\n",
       "      <th>user_id</th>\n",
       "      <th>score</th>\n",
       "    </tr>\n",
       "  </thead>\n",
       "  <tbody>\n",
       "    <tr>\n",
       "      <th>0</th>\n",
       "      <td>1</td>\n",
       "      <td>86963</td>\n",
       "      <td>4.0</td>\n",
       "      <td>820082.0</td>\n",
       "      <td>1.0</td>\n",
       "    </tr>\n",
       "    <tr>\n",
       "      <th>1</th>\n",
       "      <td>1</td>\n",
       "      <td>86963</td>\n",
       "      <td>4.0</td>\n",
       "      <td>423144.0</td>\n",
       "      <td>2.0</td>\n",
       "    </tr>\n",
       "    <tr>\n",
       "      <th>2</th>\n",
       "      <td>1</td>\n",
       "      <td>86963</td>\n",
       "      <td>4.0</td>\n",
       "      <td>745878.0</td>\n",
       "      <td>1.0</td>\n",
       "    </tr>\n",
       "    <tr>\n",
       "      <th>3</th>\n",
       "      <td>1</td>\n",
       "      <td>86963</td>\n",
       "      <td>4.0</td>\n",
       "      <td>997388.0</td>\n",
       "      <td>1.0</td>\n",
       "    </tr>\n",
       "    <tr>\n",
       "      <th>4</th>\n",
       "      <td>1</td>\n",
       "      <td>86963</td>\n",
       "      <td>4.0</td>\n",
       "      <td>976135.0</td>\n",
       "      <td>5.0</td>\n",
       "    </tr>\n",
       "  </tbody>\n",
       "</table>\n",
       "</div>"
      ],
      "text/plain": [
       "   item_id  tag_id  num   user_id  score\n",
       "0        1   86963  4.0  820082.0    1.0\n",
       "1        1   86963  4.0  423144.0    2.0\n",
       "2        1   86963  4.0  745878.0    1.0\n",
       "3        1   86963  4.0  997388.0    1.0\n",
       "4        1   86963  4.0  976135.0    5.0"
      ]
     },
     "execution_count": 6,
     "metadata": {},
     "output_type": "execute_result"
    }
   ],
   "source": [
    "# merge tag_count and survey_answers\n",
    "movie_tags = pd.merge(tag_count, survey_answers, on=['item_id', 'tag_id'], how='outer')\n",
    "movie_tags.head()"
   ]
  },
  {
   "cell_type": "code",
   "execution_count": 7,
   "id": "9176adb1-6f98-4928-88a2-3ebc112a84d1",
   "metadata": {
    "tags": []
   },
   "outputs": [],
   "source": [
    "# Build an empty movie_tag_matrix\n",
    "unique_items = movie_tags['item_id'].unique()\n",
    "unique_tags = movie_tags['tag_id'].unique()\n",
    "zeros_matrix = np.zeros((len(unique_items), len(unique_tags)))\n",
    "movie_tag_matrix = pd.DataFrame(zeros_matrix, index=unique_items, columns=unique_tags)\n",
    "movie_tag_matrix.index.name = 'item_id'\n",
    "movie_tag_matrix.columns.name = 'tag_id'\n",
    "movie_tag_matrix.sort_index(axis=0, inplace=True)\n",
    "movie_tag_matrix.sort_index(axis=1, inplace=True)"
   ]
  },
  {
   "cell_type": "code",
   "execution_count": 8,
   "id": "c14c4ff4-1b61-4cb7-ae6a-dc2dcf343e07",
   "metadata": {
    "tags": []
   },
   "outputs": [
    {
     "name": "stdout",
     "output_type": "stream",
     "text": [
      "(259931, 5)\n"
     ]
    },
    {
     "data": {
      "text/html": [
       "<div>\n",
       "<style scoped>\n",
       "    .dataframe tbody tr th:only-of-type {\n",
       "        vertical-align: middle;\n",
       "    }\n",
       "\n",
       "    .dataframe tbody tr th {\n",
       "        vertical-align: top;\n",
       "    }\n",
       "\n",
       "    .dataframe thead th {\n",
       "        text-align: right;\n",
       "    }\n",
       "</style>\n",
       "<table border=\"1\" class=\"dataframe\">\n",
       "  <thead>\n",
       "    <tr style=\"text-align: right;\">\n",
       "      <th></th>\n",
       "      <th>item_id</th>\n",
       "      <th>tag_id</th>\n",
       "      <th>num</th>\n",
       "      <th>user_id</th>\n",
       "      <th>score</th>\n",
       "    </tr>\n",
       "  </thead>\n",
       "  <tbody>\n",
       "    <tr>\n",
       "      <th>15</th>\n",
       "      <td>1</td>\n",
       "      <td>37116</td>\n",
       "      <td>26.0</td>\n",
       "      <td>NaN</td>\n",
       "      <td>NaN</td>\n",
       "    </tr>\n",
       "    <tr>\n",
       "      <th>16</th>\n",
       "      <td>1</td>\n",
       "      <td>52206</td>\n",
       "      <td>1.0</td>\n",
       "      <td>NaN</td>\n",
       "      <td>NaN</td>\n",
       "    </tr>\n",
       "    <tr>\n",
       "      <th>17</th>\n",
       "      <td>1</td>\n",
       "      <td>34442</td>\n",
       "      <td>21.0</td>\n",
       "      <td>NaN</td>\n",
       "      <td>NaN</td>\n",
       "    </tr>\n",
       "    <tr>\n",
       "      <th>25</th>\n",
       "      <td>1</td>\n",
       "      <td>104090</td>\n",
       "      <td>1.0</td>\n",
       "      <td>NaN</td>\n",
       "      <td>NaN</td>\n",
       "    </tr>\n",
       "    <tr>\n",
       "      <th>26</th>\n",
       "      <td>1</td>\n",
       "      <td>55743</td>\n",
       "      <td>10.0</td>\n",
       "      <td>NaN</td>\n",
       "      <td>NaN</td>\n",
       "    </tr>\n",
       "    <tr>\n",
       "      <th>...</th>\n",
       "      <td>...</td>\n",
       "      <td>...</td>\n",
       "      <td>...</td>\n",
       "      <td>...</td>\n",
       "      <td>...</td>\n",
       "    </tr>\n",
       "    <tr>\n",
       "      <th>259926</th>\n",
       "      <td>5010</td>\n",
       "      <td>60807</td>\n",
       "      <td>NaN</td>\n",
       "      <td>705354.0</td>\n",
       "      <td>-1.0</td>\n",
       "    </tr>\n",
       "    <tr>\n",
       "      <th>259927</th>\n",
       "      <td>55245</td>\n",
       "      <td>91482</td>\n",
       "      <td>NaN</td>\n",
       "      <td>705354.0</td>\n",
       "      <td>1.0</td>\n",
       "    </tr>\n",
       "    <tr>\n",
       "      <th>259928</th>\n",
       "      <td>56949</td>\n",
       "      <td>91482</td>\n",
       "      <td>NaN</td>\n",
       "      <td>705354.0</td>\n",
       "      <td>1.0</td>\n",
       "    </tr>\n",
       "    <tr>\n",
       "      <th>259929</th>\n",
       "      <td>7255</td>\n",
       "      <td>91482</td>\n",
       "      <td>NaN</td>\n",
       "      <td>705354.0</td>\n",
       "      <td>2.0</td>\n",
       "    </tr>\n",
       "    <tr>\n",
       "      <th>259930</th>\n",
       "      <td>55267</td>\n",
       "      <td>91482</td>\n",
       "      <td>NaN</td>\n",
       "      <td>705354.0</td>\n",
       "      <td>2.0</td>\n",
       "    </tr>\n",
       "  </tbody>\n",
       "</table>\n",
       "<p>239538 rows × 5 columns</p>\n",
       "</div>"
      ],
      "text/plain": [
       "        item_id  tag_id   num   user_id  score\n",
       "15            1   37116  26.0       NaN    NaN\n",
       "16            1   52206   1.0       NaN    NaN\n",
       "17            1   34442  21.0       NaN    NaN\n",
       "25            1  104090   1.0       NaN    NaN\n",
       "26            1   55743  10.0       NaN    NaN\n",
       "...         ...     ...   ...       ...    ...\n",
       "259926     5010   60807   NaN  705354.0   -1.0\n",
       "259927    55245   91482   NaN  705354.0    1.0\n",
       "259928    56949   91482   NaN  705354.0    1.0\n",
       "259929     7255   91482   NaN  705354.0    2.0\n",
       "259930    55267   91482   NaN  705354.0    2.0\n",
       "\n",
       "[239538 rows x 5 columns]"
      ]
     },
     "execution_count": 8,
     "metadata": {},
     "output_type": "execute_result"
    }
   ],
   "source": [
    "print(movie_tags.shape)\n",
    "\n",
    "# find any of the missing values in the merged dataframe.\n",
    "movie_tags[movie_tags.isna().any(axis=1)]"
   ]
  },
  {
   "cell_type": "markdown",
   "id": "198ac663-2724-4249-ac57-efefd7152b53",
   "metadata": {},
   "source": [
    "Most movies don't have a complete movie-tags information. We will analyse the tag_count and survey_answers seperately."
   ]
  },
  {
   "cell_type": "markdown",
   "id": "be73dbd0-f207-43cd-bc9f-d0fc8c6a8a09",
   "metadata": {},
   "source": [
    "- Analysis of tag_count"
   ]
  },
  {
   "cell_type": "code",
   "execution_count": 9,
   "id": "f83d7fdc-3d4a-4afe-9856-f44f34642b63",
   "metadata": {
    "tags": []
   },
   "outputs": [
    {
     "name": "stdout",
     "output_type": "stream",
     "text": [
      "5.529023895655787\n",
      "1.0\n"
     ]
    }
   ],
   "source": [
    "# calculate mean and median value of the number of tags attached in \"tag_count.json\"\n",
    "mean_num = movie_tags['num'].mean()\n",
    "print(mean_num)\n",
    "median_num = movie_tags['num'].median()\n",
    "print(median_num)"
   ]
  },
  {
   "cell_type": "code",
   "execution_count": 10,
   "id": "ac113e20-fd4c-48e7-909c-a69881583127",
   "metadata": {
    "tags": []
   },
   "outputs": [
    {
     "data": {
      "text/plain": [
       "num\n",
       "1.0      141183\n",
       "2.0       26220\n",
       "3.0       10782\n",
       "4.0        6155\n",
       "5.0        4118\n",
       "          ...  \n",
       "165.0         1\n",
       "191.0         1\n",
       "497.0         1\n",
       "249.0         1\n",
       "200.0         1\n",
       "Name: count, Length: 258, dtype: int64"
      ]
     },
     "execution_count": 10,
     "metadata": {},
     "output_type": "execute_result"
    }
   ],
   "source": [
    "# summarizes numbers of a movie received tags\n",
    "movie_tags['num'].value_counts()"
   ]
  },
  {
   "cell_type": "markdown",
   "id": "eb6a1668-dd67-4aa6-b605-960fcfc5385a",
   "metadata": {},
   "source": [
    "In the \"tag_count.json\" dataset, we observe that most tags have been attached to a movie only once, which could likely be due to random selection. To ensure more robust results, we will set a threshold of 2: a movie is considered to have a particular tag only if that tag has been attached to it more than once."
   ]
  },
  {
   "cell_type": "code",
   "execution_count": 11,
   "id": "272d6fb7-c87d-4a66-8930-efbf90d6af04",
   "metadata": {
    "tags": []
   },
   "outputs": [],
   "source": [
    "# label the movie_tag_matrix by tag_count > 1\n",
    "for index, row in movie_tags[movie_tags['num'] > 1].iterrows():\n",
    "    if row['item_id'] in movie_tag_matrix.index and row['tag_id'] in movie_tag_matrix.columns:\n",
    "        movie_tag_matrix.at[row['item_id'], row['tag_id']] = 1"
   ]
  },
  {
   "cell_type": "markdown",
   "id": "2f23ea68-4bdc-4b27-a816-f98898dd49b5",
   "metadata": {
    "tags": []
   },
   "source": [
    "- Analysis of survey_answers"
   ]
  },
  {
   "cell_type": "code",
   "execution_count": 12,
   "id": "f306f41b-52d3-4032-8c6f-f3a3d79d360d",
   "metadata": {
    "tags": []
   },
   "outputs": [
    {
     "data": {
      "text/html": [
       "<div>\n",
       "<style scoped>\n",
       "    .dataframe tbody tr th:only-of-type {\n",
       "        vertical-align: middle;\n",
       "    }\n",
       "\n",
       "    .dataframe tbody tr th {\n",
       "        vertical-align: top;\n",
       "    }\n",
       "\n",
       "    .dataframe thead th {\n",
       "        text-align: right;\n",
       "    }\n",
       "</style>\n",
       "<table border=\"1\" class=\"dataframe\">\n",
       "  <thead>\n",
       "    <tr style=\"text-align: right;\">\n",
       "      <th></th>\n",
       "      <th>score_count</th>\n",
       "    </tr>\n",
       "    <tr>\n",
       "      <th>score</th>\n",
       "      <th></th>\n",
       "    </tr>\n",
       "  </thead>\n",
       "  <tbody>\n",
       "    <tr>\n",
       "      <th>-1.0</th>\n",
       "      <td>7740</td>\n",
       "    </tr>\n",
       "    <tr>\n",
       "      <th>1.0</th>\n",
       "      <td>17208</td>\n",
       "    </tr>\n",
       "    <tr>\n",
       "      <th>2.0</th>\n",
       "      <td>6296</td>\n",
       "    </tr>\n",
       "    <tr>\n",
       "      <th>3.0</th>\n",
       "      <td>7013</td>\n",
       "    </tr>\n",
       "    <tr>\n",
       "      <th>4.0</th>\n",
       "      <td>8215</td>\n",
       "    </tr>\n",
       "    <tr>\n",
       "      <th>5.0</th>\n",
       "      <td>12431</td>\n",
       "    </tr>\n",
       "    <tr>\n",
       "      <th>NaN</th>\n",
       "      <td>201028</td>\n",
       "    </tr>\n",
       "  </tbody>\n",
       "</table>\n",
       "</div>"
      ],
      "text/plain": [
       "       score_count\n",
       "score             \n",
       "-1.0          7740\n",
       " 1.0         17208\n",
       " 2.0          6296\n",
       " 3.0          7013\n",
       " 4.0          8215\n",
       " 5.0         12431\n",
       " NaN        201028"
      ]
     },
     "execution_count": 12,
     "metadata": {},
     "output_type": "execute_result"
    }
   ],
   "source": [
    "# determine numbers of survey_answers\n",
    "columns = [-1, 1, 2, 3, 4, 5, np.NaN]  \n",
    "rows = [\n",
    "    (movie_tags['score'] == -1).sum(),\n",
    "    (movie_tags['score'] == 1).sum(),\n",
    "    (movie_tags['score'] == 2).sum(),\n",
    "    (movie_tags['score'] == 3).sum(),\n",
    "    (movie_tags['score'] == 4).sum(),\n",
    "    (movie_tags['score'] == 5).sum(),\n",
    "    pd.isna(movie_tags['score']).sum()  \n",
    "]\n",
    "df_num_score = pd.DataFrame(data={'score_count': rows}, index=columns)\n",
    "df_num_score.index.name = 'score'\n",
    "df_num_score"
   ]
  },
  {
   "cell_type": "markdown",
   "id": "8d072250-0432-4b19-9410-6b9f1699e557",
   "metadata": {},
   "source": [
    "Regarding the \"survey_answers.json\", we will determine that a movie possesses a specific tag if it has received a rating of 4.0 or 5.0 for that tag."
   ]
  },
  {
   "cell_type": "code",
   "execution_count": 13,
   "id": "8b7d6173-bcb3-47a7-9e98-2d1947645c5d",
   "metadata": {
    "tags": []
   },
   "outputs": [],
   "source": [
    "# label the movie_tag_matrix by rating with 4 or 5\n",
    "for index, row in movie_tags[(movie_tags['score'] == 4) | (movie_tags['score'] == 5)].iterrows():\n",
    "    if row['item_id'] in movie_tag_matrix.index and row['tag_id'] in movie_tag_matrix.columns:\n",
    "        movie_tag_matrix.at[row['item_id'], row['tag_id']] = 1"
   ]
  },
  {
   "cell_type": "code",
   "execution_count": 14,
   "id": "dc527694-35d9-4bf3-b26f-8acb97684518",
   "metadata": {
    "tags": []
   },
   "outputs": [
    {
     "data": {
      "text/plain": [
       "24770"
      ]
     },
     "execution_count": 14,
     "metadata": {},
     "output_type": "execute_result"
    }
   ],
   "source": [
    "# find the movie that doesn't have any label\n",
    "num_zero_rows = ((movie_tag_matrix == 0).all(axis=1)).sum()\n",
    "num_zero_rows"
   ]
  },
  {
   "cell_type": "code",
   "execution_count": 15,
   "id": "bd48bea8-37dd-4d65-9a4c-4a9fc7431c84",
   "metadata": {
    "tags": []
   },
   "outputs": [
    {
     "data": {
      "text/plain": [
       "0"
      ]
     },
     "execution_count": 15,
     "metadata": {},
     "output_type": "execute_result"
    }
   ],
   "source": [
    "# find the label that doesn't be attached to any movie\n",
    "num_zero_columns = ((movie_tag_matrix == 0).all(axis=0)).sum()\n",
    "num_zero_columns"
   ]
  },
  {
   "cell_type": "markdown",
   "id": "9fffea5c-bc8f-4371-b5bc-4135464ae34f",
   "metadata": {},
   "source": [
    "Out of the 39,809 movies in our dataset, there are 24,770 movies for which we cannot confidently assign any tags. Conversely, for each of the 1,094 tags, we can confidently identify at least one movie associated with it."
   ]
  },
  {
   "cell_type": "markdown",
   "id": "774fb509-f5f6-4734-9b21-c89413cd9f74",
   "metadata": {},
   "source": [
    "- An example of movie-tags"
   ]
  },
  {
   "cell_type": "markdown",
   "id": "e222d947-df2e-4e02-ad7c-d94a5fa74914",
   "metadata": {},
   "source": [
    "We will use an example, Titanic (1997) (movie id: 1721) to check if this movie-tag map matrix makes sense."
   ]
  },
  {
   "cell_type": "code",
   "execution_count": 16,
   "id": "6fc2563e-e284-4d0a-b042-99adf2023a47",
   "metadata": {
    "tags": []
   },
   "outputs": [],
   "source": [
    "tags = pd.read_json(r'F:\\DS_Dataset\\genome_2021\\movie_dataset_public_final\\raw\\tags.json', lines=True)"
   ]
  },
  {
   "cell_type": "code",
   "execution_count": 17,
   "id": "dad4a11e-6c74-40c0-b983-0c41baa3c76e",
   "metadata": {
    "tags": []
   },
   "outputs": [
    {
     "data": {
      "text/plain": [
       "['historical',\n",
       " 'nostalgic',\n",
       " 'tear jerker',\n",
       " 'girlie movie',\n",
       " 'predictable',\n",
       " 'music',\n",
       " 'atmospheric',\n",
       " 'history',\n",
       " 'overrated',\n",
       " 'oscar (best directing)',\n",
       " 'realistic',\n",
       " 'long',\n",
       " 'nudity (topless)',\n",
       " 'excellent',\n",
       " 'catastrophe',\n",
       " 'romance',\n",
       " 'big budget',\n",
       " 'ocean',\n",
       " 'romantic',\n",
       " 'scenic',\n",
       " 'sentimental',\n",
       " 'action',\n",
       " 'disaster',\n",
       " 'oscar winner',\n",
       " 'based on true story',\n",
       " 'epic',\n",
       " 'love story',\n",
       " 'oscar (best picture)',\n",
       " 'boring',\n",
       " 'love',\n",
       " 'classic',\n",
       " 'stylized',\n",
       " 'pg-13',\n",
       " 'based on a true story',\n",
       " 'sex',\n",
       " 'chick flick',\n",
       " 'true story',\n",
       " 'bittersweet',\n",
       " '70mm',\n",
       " 'good acting',\n",
       " 'drama',\n",
       " 'time travel',\n",
       " 'sacrifice',\n",
       " 'period piece',\n",
       " 'natural disaster',\n",
       " 'nudity (topless - notable)',\n",
       " 'too long',\n",
       " 'survival',\n",
       " 'oscar (best cinematography)']"
      ]
     },
     "execution_count": 17,
     "metadata": {},
     "output_type": "execute_result"
    }
   ],
   "source": [
    "# Extract tags from movie_tag_matrix for movie Titanic (1997) (movie id: 1721)\n",
    "columns_with_value_1 = movie_tag_matrix.columns[movie_tag_matrix.loc[1721] == 1].tolist()\n",
    "matching_tags = tags[tags['id'].isin(columns_with_value_1)]['tag'].tolist()\n",
    "matching_tags"
   ]
  },
  {
   "cell_type": "markdown",
   "id": "8f516ee1-2bcf-4106-accb-523aa206676c",
   "metadata": {},
   "source": [
    "The result seems to be promising. This movie-tags matrix works well for selecting features of movie-tags."
   ]
  },
  {
   "cell_type": "markdown",
   "id": "99a7a2e0-d4bb-4f57-b34e-9fff93af7b1c",
   "metadata": {},
   "source": [
    "<h3>calculate the cosine similarity in movie-tags matrix</h3>"
   ]
  },
  {
   "cell_type": "code",
   "execution_count": 20,
   "id": "fac6bb45-e955-4950-ac49-a1cf14800ebc",
   "metadata": {
    "tags": []
   },
   "outputs": [],
   "source": [
    "from scipy.sparse import csr_matrix\n",
    "from sklearn.metrics.pairwise import cosine_similarity"
   ]
  },
  {
   "cell_type": "markdown",
   "id": "4434d95b-6531-44f2-b82e-0b4aa660c0bb",
   "metadata": {},
   "source": [
    "To find the similarest movies in terms of tags, for a movie, we first filtered out other movies that share the same tags with this movie, then calculate their cosine similarities. The result will be stored in a .csv file."
   ]
  },
  {
   "cell_type": "code",
   "execution_count": 23,
   "id": "2e718071-1bb5-461a-bc92-9fed8bc954ef",
   "metadata": {
    "tags": []
   },
   "outputs": [],
   "source": [
    "sparse_matrix = csr_matrix(movie_tag_matrix)\n",
    "\n",
    "# Create a mapping between movie IDs and matrix row indices\n",
    "movie_id_to_index = {movie_id: idx for idx, movie_id in enumerate(movie_tag_matrix.index)}\n",
    "\n",
    "# Function to find and calculate similarity for movies with shared tags\n",
    "def find_similar_movies(movie_id, top_n=100):\n",
    "    if movie_id not in movie_id_to_index:\n",
    "        raise ValueError(f\"Movie ID {movie_id} not found in the dataset.\")\n",
    "\n",
    "    movie_index = movie_id_to_index[movie_id]\n",
    "    shared_tags = movie_tag_matrix.columns[movie_tag_matrix.loc[movie_id] > 0]\n",
    "    filtered_movie_ids = movie_tag_matrix.index[movie_tag_matrix[shared_tags].sum(axis=1) > 0].tolist()\n",
    "\n",
    "    # Remove the current movie from the list\n",
    "    filtered_movie_ids.remove(movie_id)\n",
    "\n",
    "    # Calculate cosine similarity\n",
    "    sim_scores = {}\n",
    "    for other_movie_id in filtered_movie_ids:\n",
    "        other_movie_index = movie_id_to_index[other_movie_id]\n",
    "        sim_score = cosine_similarity(sparse_matrix[movie_index:movie_index+1], sparse_matrix[other_movie_index:other_movie_index+1])[0, 0]\n",
    "        sim_scores[other_movie_id] = sim_score\n",
    "\n",
    "    # Sort by similarity and select top N\n",
    "    top_similar = sorted(sim_scores.items(), key=lambda x: x[1], reverse=True)[:top_n]\n",
    "\n",
    "    # Create a DataFrame for the result\n",
    "    result_df = pd.DataFrame(top_similar, columns=['similar_movie', 'cos_sim'])\n",
    "    result_df.insert(0, 'item_id', movie_id)\n",
    "\n",
    "    return result_df"
   ]
  },
  {
   "cell_type": "code",
   "execution_count": 27,
   "id": "8201d5e9-508b-4adc-96a7-733950723038",
   "metadata": {
    "tags": []
   },
   "outputs": [
    {
     "data": {
      "text/html": [
       "<div>\n",
       "<style scoped>\n",
       "    .dataframe tbody tr th:only-of-type {\n",
       "        vertical-align: middle;\n",
       "    }\n",
       "\n",
       "    .dataframe tbody tr th {\n",
       "        vertical-align: top;\n",
       "    }\n",
       "\n",
       "    .dataframe thead th {\n",
       "        text-align: right;\n",
       "    }\n",
       "</style>\n",
       "<table border=\"1\" class=\"dataframe\">\n",
       "  <thead>\n",
       "    <tr style=\"text-align: right;\">\n",
       "      <th></th>\n",
       "      <th>item_id</th>\n",
       "      <th>similar_movie</th>\n",
       "      <th>cos_sim</th>\n",
       "      <th>title</th>\n",
       "    </tr>\n",
       "  </thead>\n",
       "  <tbody>\n",
       "    <tr>\n",
       "      <th>0</th>\n",
       "      <td>1721</td>\n",
       "      <td>110</td>\n",
       "      <td>0.407543</td>\n",
       "      <td>Braveheart (1995)</td>\n",
       "    </tr>\n",
       "    <tr>\n",
       "      <th>1</th>\n",
       "      <td>1721</td>\n",
       "      <td>920</td>\n",
       "      <td>0.404962</td>\n",
       "      <td>Gone with the Wind (1939)</td>\n",
       "    </tr>\n",
       "    <tr>\n",
       "      <th>2</th>\n",
       "      <td>1721</td>\n",
       "      <td>4310</td>\n",
       "      <td>0.384900</td>\n",
       "      <td>Pearl Harbor (2001)</td>\n",
       "    </tr>\n",
       "    <tr>\n",
       "      <th>3</th>\n",
       "      <td>1721</td>\n",
       "      <td>8533</td>\n",
       "      <td>0.370389</td>\n",
       "      <td>Notebook, The (2004)</td>\n",
       "    </tr>\n",
       "    <tr>\n",
       "      <th>4</th>\n",
       "      <td>1721</td>\n",
       "      <td>6947</td>\n",
       "      <td>0.346479</td>\n",
       "      <td>Master and Commander: The Far Side of the Worl...</td>\n",
       "    </tr>\n",
       "    <tr>\n",
       "      <th>...</th>\n",
       "      <td>...</td>\n",
       "      <td>...</td>\n",
       "      <td>...</td>\n",
       "      <td>...</td>\n",
       "    </tr>\n",
       "    <tr>\n",
       "      <th>95</th>\n",
       "      <td>1721</td>\n",
       "      <td>260</td>\n",
       "      <td>0.224667</td>\n",
       "      <td>Star Wars: Episode IV - A New Hope (1977)</td>\n",
       "    </tr>\n",
       "    <tr>\n",
       "      <th>96</th>\n",
       "      <td>1721</td>\n",
       "      <td>88163</td>\n",
       "      <td>0.224133</td>\n",
       "      <td>Crazy, Stupid, Love. (2011)</td>\n",
       "    </tr>\n",
       "    <tr>\n",
       "      <th>97</th>\n",
       "      <td>1721</td>\n",
       "      <td>2932</td>\n",
       "      <td>0.223607</td>\n",
       "      <td>Days of Heaven (1978)</td>\n",
       "    </tr>\n",
       "    <tr>\n",
       "      <th>98</th>\n",
       "      <td>1721</td>\n",
       "      <td>64957</td>\n",
       "      <td>0.223105</td>\n",
       "      <td>Curious Case of Benjamin Button, The (2008)</td>\n",
       "    </tr>\n",
       "    <tr>\n",
       "      <th>99</th>\n",
       "      <td>1721</td>\n",
       "      <td>1408</td>\n",
       "      <td>0.221313</td>\n",
       "      <td>Last of the Mohicans, The (1992)</td>\n",
       "    </tr>\n",
       "  </tbody>\n",
       "</table>\n",
       "<p>100 rows × 4 columns</p>\n",
       "</div>"
      ],
      "text/plain": [
       "    item_id  similar_movie   cos_sim  \\\n",
       "0      1721            110  0.407543   \n",
       "1      1721            920  0.404962   \n",
       "2      1721           4310  0.384900   \n",
       "3      1721           8533  0.370389   \n",
       "4      1721           6947  0.346479   \n",
       "..      ...            ...       ...   \n",
       "95     1721            260  0.224667   \n",
       "96     1721          88163  0.224133   \n",
       "97     1721           2932  0.223607   \n",
       "98     1721          64957  0.223105   \n",
       "99     1721           1408  0.221313   \n",
       "\n",
       "                                                title  \n",
       "0                                   Braveheart (1995)  \n",
       "1                           Gone with the Wind (1939)  \n",
       "2                                 Pearl Harbor (2001)  \n",
       "3                                Notebook, The (2004)  \n",
       "4   Master and Commander: The Far Side of the Worl...  \n",
       "..                                                ...  \n",
       "95          Star Wars: Episode IV - A New Hope (1977)  \n",
       "96                        Crazy, Stupid, Love. (2011)  \n",
       "97                              Days of Heaven (1978)  \n",
       "98        Curious Case of Benjamin Button, The (2008)  \n",
       "99                   Last of the Mohicans, The (1992)  \n",
       "\n",
       "[100 rows x 4 columns]"
      ]
     },
     "execution_count": 27,
     "metadata": {},
     "output_type": "execute_result"
    }
   ],
   "source": [
    "# using Titanic (1997) (movie id: 1721) as an example to test the result\n",
    "metadata = pd.read_json(r'F:\\DS_Dataset\\genome_2021\\movie_dataset_public_final\\raw\\metadata.json', lines=True)\n",
    "similar_movie_example = find_similar_movies(1721, top_n=100)\n",
    "metadata_renamed = metadata.rename(columns={'item_id': 'similar_movie'})\n",
    "similar_movie_example = similar_movie_example.merge(metadata_renamed[['similar_movie', 'title']], on='similar_movie', how='left')\n",
    "similar_movie_example"
   ]
  },
  {
   "cell_type": "markdown",
   "id": "a9a5767d-9f4d-4494-91ae-0d9268b94692",
   "metadata": {},
   "source": [
    "Braveheart (1995), Gone with the Wind (1939) and Pearl Harbor (2001) are actually simialar movie to Titanic (1997) in terms of tags. The result is promising."
   ]
  },
  {
   "cell_type": "code",
   "execution_count": 28,
   "id": "2eb06c50-f8a6-4aa7-a377-9fecdfc6c7ba",
   "metadata": {
    "tags": []
   },
   "outputs": [],
   "source": [
    "# Initialize an empty DataFrame to store the results\n",
    "all_similar_movies_df = pd.DataFrame()\n",
    "\n",
    "# Check each movie one by one; if the movie has tags, calculate similarity and merge the results\n",
    "for movie_id in movie_tag_matrix.index:\n",
    "    # Check if the movie has any tags (non-zero row)\n",
    "    if movie_tag_matrix.loc[movie_id].sum() > 0:\n",
    "        similar_movies = find_similar_movies(movie_id)\n",
    "        all_similar_movies_df = pd.concat([all_similar_movies_df, similar_movies])\n",
    "\n",
    "# Export to a CSV file\n",
    "all_similar_movies_df.to_csv('similar_movies_tags.csv', index=False)"
   ]
  }
 ],
 "metadata": {
  "kernelspec": {
   "display_name": "Python 3 (ipykernel)",
   "language": "python",
   "name": "python3"
  },
  "language_info": {
   "codemirror_mode": {
    "name": "ipython",
    "version": 3
   },
   "file_extension": ".py",
   "mimetype": "text/x-python",
   "name": "python",
   "nbconvert_exporter": "python",
   "pygments_lexer": "ipython3",
   "version": "3.11.5"
  }
 },
 "nbformat": 4,
 "nbformat_minor": 5
}
