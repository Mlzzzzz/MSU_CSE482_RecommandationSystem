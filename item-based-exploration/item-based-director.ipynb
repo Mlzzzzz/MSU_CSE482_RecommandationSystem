{
 "cells": [
  {
   "cell_type": "markdown",
   "id": "c062f5a5-8df1-4b3c-987f-0bb8d672ddf4",
   "metadata": {},
   "source": [
    "<h1>Collaborative Filtering Movie Recommendation - Item Based - Directors</h1>"
   ]
  },
  {
   "cell_type": "markdown",
   "id": "bbf8b76e-3c1f-4c01-af64-5331434a6c69",
   "metadata": {},
   "source": [
    "In this notebook, we focus on determining the similarity between movies based on their tags. To analyze movie tags, we will utilize one data files: metadata.json. "
   ]
  },
  {
   "cell_type": "markdown",
   "id": "41aaa8ee-8342-4ad6-bb25-2d73d70f40fd",
   "metadata": {},
   "source": [
    "metadata.json contains 84,661 lines of movie information from MovieLens - movie title, directors, actors, date that the movie was added to MovieLens, average rating, movie id on IMDB, movie identification id."
   ]
  },
  {
   "cell_type": "markdown",
   "id": "18318583-6e10-4f6f-a393-16308023575e",
   "metadata": {},
   "source": [
    "After preprocessing the datasets, we will generate a .csv file with three columns: movie id; director; and other movies that share the same director with this movie."
   ]
  },
  {
   "cell_type": "markdown",
   "id": "4ffcd515-7149-48e7-aeb5-0c268798da00",
   "metadata": {
    "tags": []
   },
   "source": [
    "<h3>import data</h3>"
   ]
  },
  {
   "cell_type": "code",
   "execution_count": 1,
   "id": "25a5956f-e8e3-4eab-bcb5-0b20cc1be83a",
   "metadata": {
    "tags": []
   },
   "outputs": [],
   "source": [
    "import pandas as pd\n",
    "import numpy as np"
   ]
  },
  {
   "cell_type": "code",
   "execution_count": 2,
   "id": "a63871db-826d-4795-be17-bc58e5fe19fc",
   "metadata": {
    "tags": []
   },
   "outputs": [
    {
     "data": {
      "text/html": [
       "<div>\n",
       "<style scoped>\n",
       "    .dataframe tbody tr th:only-of-type {\n",
       "        vertical-align: middle;\n",
       "    }\n",
       "\n",
       "    .dataframe tbody tr th {\n",
       "        vertical-align: top;\n",
       "    }\n",
       "\n",
       "    .dataframe thead th {\n",
       "        text-align: right;\n",
       "    }\n",
       "</style>\n",
       "<table border=\"1\" class=\"dataframe\">\n",
       "  <thead>\n",
       "    <tr style=\"text-align: right;\">\n",
       "      <th></th>\n",
       "      <th>title</th>\n",
       "      <th>directedBy</th>\n",
       "      <th>starring</th>\n",
       "      <th>dateAdded</th>\n",
       "      <th>avgRating</th>\n",
       "      <th>imdbId</th>\n",
       "      <th>item_id</th>\n",
       "    </tr>\n",
       "  </thead>\n",
       "  <tbody>\n",
       "    <tr>\n",
       "      <th>0</th>\n",
       "      <td>Toy Story (1995)</td>\n",
       "      <td>John Lasseter</td>\n",
       "      <td>Tim Allen, Tom Hanks, Don Rickles, Jim Varney,...</td>\n",
       "      <td>None</td>\n",
       "      <td>3.89146</td>\n",
       "      <td>114709</td>\n",
       "      <td>1</td>\n",
       "    </tr>\n",
       "    <tr>\n",
       "      <th>1</th>\n",
       "      <td>Jumanji (1995)</td>\n",
       "      <td>Joe Johnston</td>\n",
       "      <td>Jonathan Hyde, Bradley Pierce, Robin Williams,...</td>\n",
       "      <td>None</td>\n",
       "      <td>3.26605</td>\n",
       "      <td>113497</td>\n",
       "      <td>2</td>\n",
       "    </tr>\n",
       "    <tr>\n",
       "      <th>2</th>\n",
       "      <td>Grumpier Old Men (1995)</td>\n",
       "      <td>Howard Deutch</td>\n",
       "      <td>Jack Lemmon, Walter Matthau, Ann-Margret , Sop...</td>\n",
       "      <td>None</td>\n",
       "      <td>3.17146</td>\n",
       "      <td>113228</td>\n",
       "      <td>3</td>\n",
       "    </tr>\n",
       "    <tr>\n",
       "      <th>3</th>\n",
       "      <td>Waiting to Exhale (1995)</td>\n",
       "      <td>Forest Whitaker</td>\n",
       "      <td>Angela Bassett, Loretta Devine, Whitney Housto...</td>\n",
       "      <td>None</td>\n",
       "      <td>2.86824</td>\n",
       "      <td>114885</td>\n",
       "      <td>4</td>\n",
       "    </tr>\n",
       "    <tr>\n",
       "      <th>4</th>\n",
       "      <td>Father of the Bride Part II (1995)</td>\n",
       "      <td>Charles Shyer</td>\n",
       "      <td>Steve Martin, Martin Short, Diane Keaton, Kimb...</td>\n",
       "      <td>None</td>\n",
       "      <td>3.07620</td>\n",
       "      <td>113041</td>\n",
       "      <td>5</td>\n",
       "    </tr>\n",
       "  </tbody>\n",
       "</table>\n",
       "</div>"
      ],
      "text/plain": [
       "                                title       directedBy  \\\n",
       "0                    Toy Story (1995)    John Lasseter   \n",
       "1                      Jumanji (1995)     Joe Johnston   \n",
       "2             Grumpier Old Men (1995)    Howard Deutch   \n",
       "3            Waiting to Exhale (1995)  Forest Whitaker   \n",
       "4  Father of the Bride Part II (1995)    Charles Shyer   \n",
       "\n",
       "                                            starring dateAdded  avgRating  \\\n",
       "0  Tim Allen, Tom Hanks, Don Rickles, Jim Varney,...      None    3.89146   \n",
       "1  Jonathan Hyde, Bradley Pierce, Robin Williams,...      None    3.26605   \n",
       "2  Jack Lemmon, Walter Matthau, Ann-Margret , Sop...      None    3.17146   \n",
       "3  Angela Bassett, Loretta Devine, Whitney Housto...      None    2.86824   \n",
       "4  Steve Martin, Martin Short, Diane Keaton, Kimb...      None    3.07620   \n",
       "\n",
       "   imdbId  item_id  \n",
       "0  114709        1  \n",
       "1  113497        2  \n",
       "2  113228        3  \n",
       "3  114885        4  \n",
       "4  113041        5  "
      ]
     },
     "execution_count": 2,
     "metadata": {},
     "output_type": "execute_result"
    }
   ],
   "source": [
    "# Importing matadata.json\n",
    "metadata = pd.read_json(r'F:\\DS_Dataset\\genome_2021\\movie_dataset_public_final\\raw\\metadata.json', lines=True)\n",
    "metadata.head()"
   ]
  },
  {
   "cell_type": "code",
   "execution_count": 3,
   "id": "ded4e2d9-6800-454c-b7f3-8532b8652435",
   "metadata": {
    "tags": []
   },
   "outputs": [
    {
     "name": "stdout",
     "output_type": "stream",
     "text": [
      "Empty DataFrame\n",
      "Columns: [title, directedBy, starring, dateAdded, avgRating, imdbId, item_id]\n",
      "Index: []\n"
     ]
    }
   ],
   "source": [
    "# Examining dublicated data of metadata\n",
    "metadata_duplicates = metadata.duplicated()\n",
    "print(metadata[metadata_duplicates])"
   ]
  },
  {
   "cell_type": "code",
   "execution_count": 4,
   "id": "d065dcad-8890-4a2d-a741-b9e8e5062ef2",
   "metadata": {
    "tags": []
   },
   "outputs": [],
   "source": [
    "# Create a dictionary to map directors to movies\n",
    "director_to_movies = {}\n",
    "for index, row in metadata.iterrows():\n",
    "    director = row['directedBy']\n",
    "    movie_id = row['item_id']\n",
    "    if director not in director_to_movies:\n",
    "        director_to_movies[director] = []\n",
    "    director_to_movies[director].append(movie_id)"
   ]
  },
  {
   "cell_type": "code",
   "execution_count": 5,
   "id": "297f5edf-2870-4376-a964-a5f655f09da1",
   "metadata": {
    "tags": []
   },
   "outputs": [],
   "source": [
    "# Generate a new DataFrame for the CSV file\n",
    "csv_data = []\n",
    "for index, row in metadata.iterrows():\n",
    "    movie_id = row['item_id']\n",
    "    director = row['directedBy']\n",
    "    # Filter out the current movie to only list other movies\n",
    "    other_movies = [m for m in director_to_movies[director] if m != movie_id]\n",
    "    csv_data.append([movie_id, director, other_movies])"
   ]
  },
  {
   "cell_type": "code",
   "execution_count": 6,
   "id": "6d6eec7d-bd1e-404d-af15-b034aaff9472",
   "metadata": {
    "tags": []
   },
   "outputs": [],
   "source": [
    "csv_df = pd.DataFrame(csv_data, columns=['movie_id', 'director', 'other_movies'])"
   ]
  },
  {
   "cell_type": "code",
   "execution_count": 7,
   "id": "9e3b10f0-2de7-4e2c-b99e-b19ede9b48f9",
   "metadata": {
    "tags": []
   },
   "outputs": [
    {
     "data": {
      "text/html": [
       "<div>\n",
       "<style scoped>\n",
       "    .dataframe tbody tr th:only-of-type {\n",
       "        vertical-align: middle;\n",
       "    }\n",
       "\n",
       "    .dataframe tbody tr th {\n",
       "        vertical-align: top;\n",
       "    }\n",
       "\n",
       "    .dataframe thead th {\n",
       "        text-align: right;\n",
       "    }\n",
       "</style>\n",
       "<table border=\"1\" class=\"dataframe\">\n",
       "  <thead>\n",
       "    <tr style=\"text-align: right;\">\n",
       "      <th></th>\n",
       "      <th>movie_id</th>\n",
       "      <th>director</th>\n",
       "      <th>other_movies</th>\n",
       "    </tr>\n",
       "  </thead>\n",
       "  <tbody>\n",
       "    <tr>\n",
       "      <th>0</th>\n",
       "      <td>1</td>\n",
       "      <td>John Lasseter</td>\n",
       "      <td>[2355, 42191, 45517, 95446, 95628, 95856, 2139...</td>\n",
       "    </tr>\n",
       "    <tr>\n",
       "      <th>1</th>\n",
       "      <td>2</td>\n",
       "      <td>Joe Johnston</td>\n",
       "      <td>[2054, 2094, 2501, 4638, 7324, 74452, 88140, 1...</td>\n",
       "    </tr>\n",
       "    <tr>\n",
       "      <th>2</th>\n",
       "      <td>3</td>\n",
       "      <td>Howard Deutch</td>\n",
       "      <td>[460, 1290, 1837, 2145, 3861, 4509, 6841, 7381...</td>\n",
       "    </tr>\n",
       "    <tr>\n",
       "      <th>3</th>\n",
       "      <td>4</td>\n",
       "      <td>Forest Whitaker</td>\n",
       "      <td>[1888, 8869, 88761]</td>\n",
       "    </tr>\n",
       "    <tr>\n",
       "      <th>4</th>\n",
       "      <td>5</td>\n",
       "      <td>Charles Shyer</td>\n",
       "      <td>[360, 4080, 4959, 6944, 8948, 26514]</td>\n",
       "    </tr>\n",
       "  </tbody>\n",
       "</table>\n",
       "</div>"
      ],
      "text/plain": [
       "   movie_id         director  \\\n",
       "0         1    John Lasseter   \n",
       "1         2     Joe Johnston   \n",
       "2         3    Howard Deutch   \n",
       "3         4  Forest Whitaker   \n",
       "4         5    Charles Shyer   \n",
       "\n",
       "                                        other_movies  \n",
       "0  [2355, 42191, 45517, 95446, 95628, 95856, 2139...  \n",
       "1  [2054, 2094, 2501, 4638, 7324, 74452, 88140, 1...  \n",
       "2  [460, 1290, 1837, 2145, 3861, 4509, 6841, 7381...  \n",
       "3                                [1888, 8869, 88761]  \n",
       "4               [360, 4080, 4959, 6944, 8948, 26514]  "
      ]
     },
     "execution_count": 7,
     "metadata": {},
     "output_type": "execute_result"
    }
   ],
   "source": [
    "csv_df.head()"
   ]
  },
  {
   "cell_type": "code",
   "execution_count": 8,
   "id": "d9da93b8-d6e9-4b2e-b9de-ea365dea2700",
   "metadata": {
    "tags": []
   },
   "outputs": [],
   "source": [
    "# Export to CSV\n",
    "csv_df.to_csv('similar_movies_director.csv', index=False)"
   ]
  }
 ],
 "metadata": {
  "kernelspec": {
   "display_name": "Python 3 (ipykernel)",
   "language": "python",
   "name": "python3"
  },
  "language_info": {
   "codemirror_mode": {
    "name": "ipython",
    "version": 3
   },
   "file_extension": ".py",
   "mimetype": "text/x-python",
   "name": "python",
   "nbconvert_exporter": "python",
   "pygments_lexer": "ipython3",
   "version": "3.11.5"
  }
 },
 "nbformat": 4,
 "nbformat_minor": 5
}
