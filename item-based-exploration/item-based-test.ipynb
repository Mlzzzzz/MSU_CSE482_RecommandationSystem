{
 "cells": [
  {
   "cell_type": "code",
   "execution_count": 1,
   "id": "b0066930-8e0a-4018-b321-a93b77a3215a",
   "metadata": {},
   "outputs": [],
   "source": [
    "import pandas as pd\n",
    "import json"
   ]
  },
  {
   "cell_type": "markdown",
   "metadata": {},
   "source": [
    "Some tests of the item-based collaboration filtering algorithm to help debugging and optimising."
   ]
  },
  {
   "cell_type": "code",
   "execution_count": 2,
   "id": "4f7bba25-7069-4f53-985b-57be24a14fb6",
   "metadata": {},
   "outputs": [],
   "source": [
    "metadata = pd.read_json(r'F:\\DS_Dataset\\genome_2021\\movie_dataset_public_final\\raw\\metadata.json', lines=True)"
   ]
  },
  {
   "cell_type": "code",
   "execution_count": 3,
   "id": "fa6e5857-2fe7-406c-8036-cd2baa9a4c50",
   "metadata": {
    "tags": []
   },
   "outputs": [],
   "source": [
    "with open(r'F:\\DS_Dataset\\final\\item-based\\similarity_data_tags.json', 'r') as file:\n",
    "    similarity_data_tags = json.load(file)"
   ]
  },
  {
   "cell_type": "code",
   "execution_count": 4,
   "id": "f4bbbc60-728b-4159-8ce4-d7053fdbe76e",
   "metadata": {},
   "outputs": [],
   "source": [
    "similarity_data_tags = {\n",
    "    int(float(key)): {int(float(nested_key)): value for nested_key, value in nested_dict.items()}\n",
    "    for key, nested_dict in similarity_data_tags.items()\n",
    "}"
   ]
  },
  {
   "cell_type": "code",
   "execution_count": 5,
   "id": "8ba1bd67-e54b-4f40-9b01-93b87b2e406f",
   "metadata": {
    "tags": []
   },
   "outputs": [],
   "source": [
    "with open(r'F:\\DS_Dataset\\final\\item-based\\similarity_data_actors.json', 'r') as file:\n",
    "    similarity_data_actors = json.load(file)"
   ]
  },
  {
   "cell_type": "code",
   "execution_count": 6,
   "id": "1cdbe8ea-f99a-417a-b58f-46b045bf5366",
   "metadata": {
    "tags": []
   },
   "outputs": [],
   "source": [
    "similarity_data_actors = {\n",
    "    int(float(key)): {int(float(nested_key)): value for nested_key, value in nested_dict.items()}\n",
    "    for key, nested_dict in similarity_data_actors.items()\n",
    "}"
   ]
  },
  {
   "cell_type": "code",
   "execution_count": 7,
   "id": "696f5bab-7f75-410e-a5aa-2f91e5ae8fa7",
   "metadata": {
    "tags": []
   },
   "outputs": [],
   "source": [
    "with open(r'F:\\DS_Dataset\\final\\item-based\\similarity_data_director.json', 'r') as file:\n",
    "    similarity_data_director = json.load(file)"
   ]
  },
  {
   "cell_type": "code",
   "execution_count": 8,
   "id": "ce120b2a-9f36-44d6-bd65-26224fd4744a",
   "metadata": {
    "tags": []
   },
   "outputs": [],
   "source": [
    "similarity_data_director = {int(key): value for key, value in similarity_data_director.items()}"
   ]
  },
  {
   "cell_type": "code",
   "execution_count": 9,
   "id": "25aef4ee-1925-4271-819b-0735773012ae",
   "metadata": {
    "tags": []
   },
   "outputs": [],
   "source": [
    "def item_based_recommendation(input_df, weights):\n",
    "    COSINE_SIMILARITY_THRESHOLD = 0.35\n",
    "    JACCARD_SIMILARITY_THRESHOLD = 0.15\n",
    "    \n",
    "    # Determine the set of movies rated by the user\n",
    "    rated_movies = set(input_df[\"item_id\"])\n",
    "    \n",
    "    # Initialize a set for potential recommended movies\n",
    "    possible_recommended_movies = set()\n",
    "    \n",
    "    # Iterate through each movie rated by the user\n",
    "    for movie_id in rated_movies:\n",
    "        # Filter out movies sharing the same director, actors, and tags\n",
    "        movies_with_same_director = set(similarity_data_director.get(movie_id, []))\n",
    "        movies_with_similar_actors = {other_movie_id for other_movie_id, jac_sim in similarity_data_actors.get(movie_id, {}).items() if jac_sim > JACCARD_SIMILARITY_THRESHOLD}\n",
    "        movies_with_similar_tags = {other_movie_id for other_movie_id, cos_sim in similarity_data_tags.get(movie_id, {}).items() if cos_sim > COSINE_SIMILARITY_THRESHOLD}\n",
    "        \n",
    "        # Combine all filtered movies\n",
    "        possible_recommended_movies.update(movies_with_same_director, movies_with_similar_actors, movies_with_similar_tags)\n",
    "    \n",
    "    # Remove movies already rated by the user\n",
    "    possible_recommended_movies.difference_update(rated_movies)\n",
    "    \n",
    "    # Calculate the weighted rating for each potentially recommended movie\n",
    "    movie_scores = {}\n",
    "    for movie_id in possible_recommended_movies:\n",
    "        total_similarity = 0\n",
    "        weighted_ratings_sum = 0\n",
    "        \n",
    "        # Iterate through each movie in the baseline set (input_df)\n",
    "        for _, row in input_df.iterrows():\n",
    "            baseline_movie_id = row['item_id']\n",
    "            user_rating = row['rating']\n",
    "            \n",
    "            # Calculate similarities\n",
    "            sim_tags = similarity_data_tags.get(baseline_movie_id, {}).get(movie_id, 0)\n",
    "            sim_actors = similarity_data_actors.get(baseline_movie_id, {}).get(movie_id, 0)\n",
    "            sim_director = 1 if baseline_movie_id in similarity_data_director.get(movie_id, []) else 0\n",
    "            \n",
    "            # Conditional restrict for sim_actors\n",
    "            if sim_tags == 0 and sim_director == 0 and sim_actors <= 0.3:\n",
    "                continue\n",
    "            \n",
    "            # Combine similarities\n",
    "            sim_combine = (weights[0] * sim_tags + weights[1] * sim_actors + weights[2] * sim_director)\n",
    "            \n",
    "            # Calculate weighted sum\n",
    "            weighted_ratings_sum += sim_combine * user_rating\n",
    "            total_similarity += sim_combine\n",
    "        \n",
    "        # Calculate predicted rating\n",
    "        predicted_score = weighted_ratings_sum / total_similarity if total_similarity != 0 else 0\n",
    "        movie_scores[movie_id] = predicted_score\n",
    "    \n",
    "    # Create a DataFrame for recommended movies\n",
    "    movie_recommended_df = pd.DataFrame(list(movie_scores.items()), columns=['item_id', 'pred_rating'])\n",
    "    movie_recommended_df = movie_recommended_df.sort_values(by='pred_rating', ascending=False)\n",
    "    \n",
    "    return movie_recommended_df"
   ]
  },
  {
   "cell_type": "code",
   "execution_count": 10,
   "id": "7106cc70-e878-469c-89d9-db5d65f3b1fd",
   "metadata": {
    "tags": []
   },
   "outputs": [],
   "source": [
    "weights = [0.77186, 1.80313, 0.25901]"
   ]
  },
  {
   "cell_type": "markdown",
   "id": "ce1a34f3-e234-41ed-821a-3f02aa9c9190",
   "metadata": {},
   "source": [
    "## Example one: super hero fan"
   ]
  },
  {
   "cell_type": "code",
   "execution_count": 11,
   "id": "81b6feb8-6d9f-468e-9086-ae0dfa6a3187",
   "metadata": {
    "tags": []
   },
   "outputs": [
    {
     "data": {
      "text/html": [
       "<div>\n",
       "<style scoped>\n",
       "    .dataframe tbody tr th:only-of-type {\n",
       "        vertical-align: middle;\n",
       "    }\n",
       "\n",
       "    .dataframe tbody tr th {\n",
       "        vertical-align: top;\n",
       "    }\n",
       "\n",
       "    .dataframe thead th {\n",
       "        text-align: right;\n",
       "    }\n",
       "</style>\n",
       "<table border=\"1\" class=\"dataframe\">\n",
       "  <thead>\n",
       "    <tr style=\"text-align: right;\">\n",
       "      <th></th>\n",
       "      <th>item_id</th>\n",
       "      <th>rating</th>\n",
       "      <th>title</th>\n",
       "    </tr>\n",
       "  </thead>\n",
       "  <tbody>\n",
       "    <tr>\n",
       "      <th>0</th>\n",
       "      <td>58559</td>\n",
       "      <td>4</td>\n",
       "      <td>Dark Knight, The (2008)</td>\n",
       "    </tr>\n",
       "    <tr>\n",
       "      <th>1</th>\n",
       "      <td>122912</td>\n",
       "      <td>5</td>\n",
       "      <td>Avengers: Infinity War - Part I (2018)</td>\n",
       "    </tr>\n",
       "    <tr>\n",
       "      <th>2</th>\n",
       "      <td>5349</td>\n",
       "      <td>5</td>\n",
       "      <td>Spider-Man (2002)</td>\n",
       "    </tr>\n",
       "    <tr>\n",
       "      <th>3</th>\n",
       "      <td>46530</td>\n",
       "      <td>3</td>\n",
       "      <td>Superman Returns (2006)</td>\n",
       "    </tr>\n",
       "    <tr>\n",
       "      <th>4</th>\n",
       "      <td>59315</td>\n",
       "      <td>5</td>\n",
       "      <td>Iron Man (2008)</td>\n",
       "    </tr>\n",
       "  </tbody>\n",
       "</table>\n",
       "</div>"
      ],
      "text/plain": [
       "   item_id  rating                                   title\n",
       "0    58559       4                 Dark Knight, The (2008)\n",
       "1   122912       5  Avengers: Infinity War - Part I (2018)\n",
       "2     5349       5                       Spider-Man (2002)\n",
       "3    46530       3                 Superman Returns (2006)\n",
       "4    59315       5                         Iron Man (2008)"
      ]
     },
     "execution_count": 11,
     "metadata": {},
     "output_type": "execute_result"
    }
   ],
   "source": [
    "data = [\n",
    "  {'item_id': 58559, 'rating': 4},\n",
    "  {'item_id': 122912, 'rating': 5},\n",
    "  {'item_id': 5349, 'rating': 5},\n",
    "  {'item_id': 46530, 'rating': 3},\n",
    "  {'item_id': 59315, 'rating': 5}\n",
    "]\n",
    "input_example1 = pd.DataFrame(data)\n",
    "input_example1.merge(metadata[['item_id', 'title']], on='item_id', how='left')"
   ]
  },
  {
   "cell_type": "code",
   "execution_count": 12,
   "id": "7cc058d4-e60a-4bc8-9906-a3bbc4e943b3",
   "metadata": {
    "tags": []
   },
   "outputs": [],
   "source": [
    "recommended_example1 = item_based_recommendation(input_example1, weights)"
   ]
  },
  {
   "cell_type": "code",
   "execution_count": 13,
   "id": "809f24df-b465-4634-85ac-5100da718fd3",
   "metadata": {
    "tags": []
   },
   "outputs": [
    {
     "data": {
      "text/html": [
       "<div>\n",
       "<style scoped>\n",
       "    .dataframe tbody tr th:only-of-type {\n",
       "        vertical-align: middle;\n",
       "    }\n",
       "\n",
       "    .dataframe tbody tr th {\n",
       "        vertical-align: top;\n",
       "    }\n",
       "\n",
       "    .dataframe thead th {\n",
       "        text-align: right;\n",
       "    }\n",
       "</style>\n",
       "<table border=\"1\" class=\"dataframe\">\n",
       "  <thead>\n",
       "    <tr style=\"text-align: right;\">\n",
       "      <th></th>\n",
       "      <th>item_id</th>\n",
       "      <th>pred_rating</th>\n",
       "      <th>title</th>\n",
       "    </tr>\n",
       "  </thead>\n",
       "  <tbody>\n",
       "    <tr>\n",
       "      <th>0</th>\n",
       "      <td>89745</td>\n",
       "      <td>5.0</td>\n",
       "      <td>Avengers, The (2012)</td>\n",
       "    </tr>\n",
       "    <tr>\n",
       "      <th>1</th>\n",
       "      <td>200822</td>\n",
       "      <td>5.0</td>\n",
       "      <td>Dark Phoenix (2019)</td>\n",
       "    </tr>\n",
       "    <tr>\n",
       "      <th>2</th>\n",
       "      <td>6804</td>\n",
       "      <td>5.0</td>\n",
       "      <td>Crimewave (1985)</td>\n",
       "    </tr>\n",
       "    <tr>\n",
       "      <th>3</th>\n",
       "      <td>1261</td>\n",
       "      <td>5.0</td>\n",
       "      <td>Evil Dead II (Dead by Dawn) (1987)</td>\n",
       "    </tr>\n",
       "    <tr>\n",
       "      <th>4</th>\n",
       "      <td>34150</td>\n",
       "      <td>5.0</td>\n",
       "      <td>Fantastic Four (2005)</td>\n",
       "    </tr>\n",
       "    <tr>\n",
       "      <th>...</th>\n",
       "      <td>...</td>\n",
       "      <td>...</td>\n",
       "      <td>...</td>\n",
       "    </tr>\n",
       "    <tr>\n",
       "      <th>3235</th>\n",
       "      <td>69134</td>\n",
       "      <td>0.0</td>\n",
       "      <td>Antichrist (2009)</td>\n",
       "    </tr>\n",
       "    <tr>\n",
       "      <th>3236</th>\n",
       "      <td>207754</td>\n",
       "      <td>0.0</td>\n",
       "      <td>Into the Deep: America, Whaling &amp; The World (2...</td>\n",
       "    </tr>\n",
       "    <tr>\n",
       "      <th>3237</th>\n",
       "      <td>135041</td>\n",
       "      <td>0.0</td>\n",
       "      <td>Eames: The Architect &amp; The Painter (2011)</td>\n",
       "    </tr>\n",
       "    <tr>\n",
       "      <th>3238</th>\n",
       "      <td>83986</td>\n",
       "      <td>0.0</td>\n",
       "      <td>Good Time Max (2007)</td>\n",
       "    </tr>\n",
       "    <tr>\n",
       "      <th>3239</th>\n",
       "      <td>155760</td>\n",
       "      <td>0.0</td>\n",
       "      <td>Love's Routine (2013)</td>\n",
       "    </tr>\n",
       "  </tbody>\n",
       "</table>\n",
       "<p>3240 rows × 3 columns</p>\n",
       "</div>"
      ],
      "text/plain": [
       "      item_id  pred_rating                                              title\n",
       "0       89745          5.0                               Avengers, The (2012)\n",
       "1      200822          5.0                                Dark Phoenix (2019)\n",
       "2        6804          5.0                                   Crimewave (1985)\n",
       "3        1261          5.0                 Evil Dead II (Dead by Dawn) (1987)\n",
       "4       34150          5.0                              Fantastic Four (2005)\n",
       "...       ...          ...                                                ...\n",
       "3235    69134          0.0                                  Antichrist (2009)\n",
       "3236   207754          0.0  Into the Deep: America, Whaling & The World (2...\n",
       "3237   135041          0.0          Eames: The Architect & The Painter (2011)\n",
       "3238    83986          0.0                               Good Time Max (2007)\n",
       "3239   155760          0.0                              Love's Routine (2013)\n",
       "\n",
       "[3240 rows x 3 columns]"
      ]
     },
     "execution_count": 13,
     "metadata": {},
     "output_type": "execute_result"
    }
   ],
   "source": [
    "recommended_example1.merge(metadata[['item_id', 'title']], on='item_id', how='left')"
   ]
  },
  {
   "cell_type": "markdown",
   "id": "cba8761c-bd06-463d-9bbb-fefb80776dcd",
   "metadata": {},
   "source": [
    "## Example one: kungfu fan"
   ]
  },
  {
   "cell_type": "code",
   "execution_count": 14,
   "id": "fd62d93d-69fb-432e-b45b-7d01890265d2",
   "metadata": {
    "tags": []
   },
   "outputs": [
    {
     "data": {
      "text/html": [
       "<div>\n",
       "<style scoped>\n",
       "    .dataframe tbody tr th:only-of-type {\n",
       "        vertical-align: middle;\n",
       "    }\n",
       "\n",
       "    .dataframe tbody tr th {\n",
       "        vertical-align: top;\n",
       "    }\n",
       "\n",
       "    .dataframe thead th {\n",
       "        text-align: right;\n",
       "    }\n",
       "</style>\n",
       "<table border=\"1\" class=\"dataframe\">\n",
       "  <thead>\n",
       "    <tr style=\"text-align: right;\">\n",
       "      <th></th>\n",
       "      <th>item_id</th>\n",
       "      <th>rating</th>\n",
       "      <th>title</th>\n",
       "    </tr>\n",
       "  </thead>\n",
       "  <tbody>\n",
       "    <tr>\n",
       "      <th>0</th>\n",
       "      <td>102088</td>\n",
       "      <td>4</td>\n",
       "      <td>Grandmaster, The (Yi dai zong shi) (2013)</td>\n",
       "    </tr>\n",
       "    <tr>\n",
       "      <th>1</th>\n",
       "      <td>26865</td>\n",
       "      <td>4</td>\n",
       "      <td>Fist of Legend (Jing wu ying xiong) (1994)</td>\n",
       "    </tr>\n",
       "    <tr>\n",
       "      <th>2</th>\n",
       "      <td>4444</td>\n",
       "      <td>5</td>\n",
       "      <td>Way of the Dragon, The (a.k.a. Return of the D...</td>\n",
       "    </tr>\n",
       "    <tr>\n",
       "      <th>3</th>\n",
       "      <td>6618</td>\n",
       "      <td>4</td>\n",
       "      <td>Shaolin Soccer (Siu lam juk kau) (2001)</td>\n",
       "    </tr>\n",
       "    <tr>\n",
       "      <th>4</th>\n",
       "      <td>31878</td>\n",
       "      <td>5</td>\n",
       "      <td>Kung Fu Hustle (Gong fu) (2004)</td>\n",
       "    </tr>\n",
       "    <tr>\n",
       "      <th>5</th>\n",
       "      <td>1</td>\n",
       "      <td>2</td>\n",
       "      <td>Toy Story (1995)</td>\n",
       "    </tr>\n",
       "  </tbody>\n",
       "</table>\n",
       "</div>"
      ],
      "text/plain": [
       "   item_id  rating                                              title\n",
       "0   102088       4          Grandmaster, The (Yi dai zong shi) (2013)\n",
       "1    26865       4         Fist of Legend (Jing wu ying xiong) (1994)\n",
       "2     4444       5  Way of the Dragon, The (a.k.a. Return of the D...\n",
       "3     6618       4            Shaolin Soccer (Siu lam juk kau) (2001)\n",
       "4    31878       5                    Kung Fu Hustle (Gong fu) (2004)\n",
       "5        1       2                                   Toy Story (1995)"
      ]
     },
     "execution_count": 14,
     "metadata": {},
     "output_type": "execute_result"
    }
   ],
   "source": [
    "data = [\n",
    "  {'item_id': 102088, 'rating': 4},\n",
    "  {'item_id': 26865, 'rating': 4},\n",
    "  {'item_id': 4444, 'rating': 5},\n",
    "  {'item_id': 6618, 'rating': 4},\n",
    "  {'item_id': 31878, 'rating': 5},\n",
    "  {'item_id': 1, 'rating': 2}\n",
    "]\n",
    "input_example2 = pd.DataFrame(data)\n",
    "input_example2.merge(metadata[['item_id', 'title']], on='item_id', how='left')"
   ]
  },
  {
   "cell_type": "code",
   "execution_count": 15,
   "id": "f160b0db-b17f-4bc7-908b-54b91d6a21ba",
   "metadata": {
    "tags": []
   },
   "outputs": [],
   "source": [
    "recommended_example2 = item_based_recommendation(input_example2, weights)"
   ]
  },
  {
   "cell_type": "code",
   "execution_count": 16,
   "id": "6537eba6-9d8a-43e3-8566-83a8b87abd72",
   "metadata": {
    "tags": []
   },
   "outputs": [
    {
     "data": {
      "text/html": [
       "<div>\n",
       "<style scoped>\n",
       "    .dataframe tbody tr th:only-of-type {\n",
       "        vertical-align: middle;\n",
       "    }\n",
       "\n",
       "    .dataframe tbody tr th {\n",
       "        vertical-align: top;\n",
       "    }\n",
       "\n",
       "    .dataframe thead th {\n",
       "        text-align: right;\n",
       "    }\n",
       "</style>\n",
       "<table border=\"1\" class=\"dataframe\">\n",
       "  <thead>\n",
       "    <tr style=\"text-align: right;\">\n",
       "      <th></th>\n",
       "      <th>item_id</th>\n",
       "      <th>pred_rating</th>\n",
       "      <th>title</th>\n",
       "    </tr>\n",
       "  </thead>\n",
       "  <tbody>\n",
       "    <tr>\n",
       "      <th>0</th>\n",
       "      <td>3996</td>\n",
       "      <td>5.000000</td>\n",
       "      <td>Crouching Tiger, Hidden Dragon (Wo hu cang lon...</td>\n",
       "    </tr>\n",
       "    <tr>\n",
       "      <th>1</th>\n",
       "      <td>4438</td>\n",
       "      <td>4.750177</td>\n",
       "      <td>Fist of Fury (Chinese Connection, The) (Jing w...</td>\n",
       "    </tr>\n",
       "    <tr>\n",
       "      <th>2</th>\n",
       "      <td>79224</td>\n",
       "      <td>4.701548</td>\n",
       "      <td>Karate Kid, The (2010)</td>\n",
       "    </tr>\n",
       "    <tr>\n",
       "      <th>3</th>\n",
       "      <td>27132</td>\n",
       "      <td>4.668815</td>\n",
       "      <td>Bodyguard, The (Karate Kiba) (1976)</td>\n",
       "    </tr>\n",
       "    <tr>\n",
       "      <th>4</th>\n",
       "      <td>96252</td>\n",
       "      <td>4.650416</td>\n",
       "      <td>I Am Bruce Lee (2011)</td>\n",
       "    </tr>\n",
       "    <tr>\n",
       "      <th>...</th>\n",
       "      <td>...</td>\n",
       "      <td>...</td>\n",
       "      <td>...</td>\n",
       "    </tr>\n",
       "    <tr>\n",
       "      <th>226</th>\n",
       "      <td>26911</td>\n",
       "      <td>0.000000</td>\n",
       "      <td>Meltdown (Shu dan long wei) (1995)</td>\n",
       "    </tr>\n",
       "    <tr>\n",
       "      <th>227</th>\n",
       "      <td>90903</td>\n",
       "      <td>0.000000</td>\n",
       "      <td>Mahjong (Ma jiang) (1996)</td>\n",
       "    </tr>\n",
       "    <tr>\n",
       "      <th>228</th>\n",
       "      <td>31664</td>\n",
       "      <td>0.000000</td>\n",
       "      <td>Gorgeous (Boh lee chun) (1999)</td>\n",
       "    </tr>\n",
       "    <tr>\n",
       "      <th>229</th>\n",
       "      <td>7090</td>\n",
       "      <td>0.000000</td>\n",
       "      <td>Hero (Ying xiong) (2002)</td>\n",
       "    </tr>\n",
       "    <tr>\n",
       "      <th>230</th>\n",
       "      <td>26546</td>\n",
       "      <td>0.000000</td>\n",
       "      <td>Mr. Vampire (Geung si sin sang) (1985)</td>\n",
       "    </tr>\n",
       "  </tbody>\n",
       "</table>\n",
       "<p>231 rows × 3 columns</p>\n",
       "</div>"
      ],
      "text/plain": [
       "     item_id  pred_rating                                              title\n",
       "0       3996     5.000000  Crouching Tiger, Hidden Dragon (Wo hu cang lon...\n",
       "1       4438     4.750177  Fist of Fury (Chinese Connection, The) (Jing w...\n",
       "2      79224     4.701548                             Karate Kid, The (2010)\n",
       "3      27132     4.668815                Bodyguard, The (Karate Kiba) (1976)\n",
       "4      96252     4.650416                              I Am Bruce Lee (2011)\n",
       "..       ...          ...                                                ...\n",
       "226    26911     0.000000                 Meltdown (Shu dan long wei) (1995)\n",
       "227    90903     0.000000                          Mahjong (Ma jiang) (1996)\n",
       "228    31664     0.000000                     Gorgeous (Boh lee chun) (1999)\n",
       "229     7090     0.000000                           Hero (Ying xiong) (2002)\n",
       "230    26546     0.000000             Mr. Vampire (Geung si sin sang) (1985)\n",
       "\n",
       "[231 rows x 3 columns]"
      ]
     },
     "execution_count": 16,
     "metadata": {},
     "output_type": "execute_result"
    }
   ],
   "source": [
    "recommended_example2.merge(metadata[['item_id', 'title']], on='item_id', how='left')"
   ]
  },
  {
   "cell_type": "markdown",
   "id": "e8f03e44-a018-4d7e-8ca4-ec43bd1b9492",
   "metadata": {},
   "source": [
    "## Example one: fans of Quentin Tarantino"
   ]
  },
  {
   "cell_type": "code",
   "execution_count": 17,
   "id": "f56ec9d1-34b0-432d-8754-40edeb2380b1",
   "metadata": {
    "tags": []
   },
   "outputs": [
    {
     "data": {
      "text/html": [
       "<div>\n",
       "<style scoped>\n",
       "    .dataframe tbody tr th:only-of-type {\n",
       "        vertical-align: middle;\n",
       "    }\n",
       "\n",
       "    .dataframe tbody tr th {\n",
       "        vertical-align: top;\n",
       "    }\n",
       "\n",
       "    .dataframe thead th {\n",
       "        text-align: right;\n",
       "    }\n",
       "</style>\n",
       "<table border=\"1\" class=\"dataframe\">\n",
       "  <thead>\n",
       "    <tr style=\"text-align: right;\">\n",
       "      <th></th>\n",
       "      <th>item_id</th>\n",
       "      <th>rating</th>\n",
       "      <th>title</th>\n",
       "    </tr>\n",
       "  </thead>\n",
       "  <tbody>\n",
       "    <tr>\n",
       "      <th>0</th>\n",
       "      <td>202429</td>\n",
       "      <td>4</td>\n",
       "      <td>Once Upon a Time in Hollywood (2019)</td>\n",
       "    </tr>\n",
       "    <tr>\n",
       "      <th>1</th>\n",
       "      <td>6874</td>\n",
       "      <td>5</td>\n",
       "      <td>Kill Bill: Vol. 1 (2003)</td>\n",
       "    </tr>\n",
       "    <tr>\n",
       "      <th>2</th>\n",
       "      <td>99114</td>\n",
       "      <td>3</td>\n",
       "      <td>Django Unchained (2012)</td>\n",
       "    </tr>\n",
       "    <tr>\n",
       "      <th>3</th>\n",
       "      <td>296</td>\n",
       "      <td>5</td>\n",
       "      <td>Pulp Fiction (1994)</td>\n",
       "    </tr>\n",
       "    <tr>\n",
       "      <th>4</th>\n",
       "      <td>6618</td>\n",
       "      <td>2</td>\n",
       "      <td>Shaolin Soccer (Siu lam juk kau) (2001)</td>\n",
       "    </tr>\n",
       "    <tr>\n",
       "      <th>5</th>\n",
       "      <td>1</td>\n",
       "      <td>1</td>\n",
       "      <td>Toy Story (1995)</td>\n",
       "    </tr>\n",
       "  </tbody>\n",
       "</table>\n",
       "</div>"
      ],
      "text/plain": [
       "   item_id  rating                                    title\n",
       "0   202429       4     Once Upon a Time in Hollywood (2019)\n",
       "1     6874       5                 Kill Bill: Vol. 1 (2003)\n",
       "2    99114       3                  Django Unchained (2012)\n",
       "3      296       5                      Pulp Fiction (1994)\n",
       "4     6618       2  Shaolin Soccer (Siu lam juk kau) (2001)\n",
       "5        1       1                         Toy Story (1995)"
      ]
     },
     "execution_count": 17,
     "metadata": {},
     "output_type": "execute_result"
    }
   ],
   "source": [
    "data = [\n",
    "  {'item_id': 202429, 'rating': 4},\n",
    "  {'item_id': 6874, 'rating': 5},\n",
    "  {'item_id': 99114, 'rating': 3},\n",
    "  {'item_id': 296, 'rating': 5},\n",
    "  {'item_id': 6618, 'rating': 2},\n",
    "  {'item_id': 1, 'rating': 1}\n",
    "]\n",
    "input_example3 = pd.DataFrame(data)\n",
    "input_example3.merge(metadata[['item_id', 'title']], on='item_id', how='left')"
   ]
  },
  {
   "cell_type": "code",
   "execution_count": 18,
   "id": "972d1648-d477-4000-999f-c43705534886",
   "metadata": {
    "tags": []
   },
   "outputs": [],
   "source": [
    "recommended_example3 = item_based_recommendation(input_example3, weights)"
   ]
  },
  {
   "cell_type": "code",
   "execution_count": 19,
   "id": "47d7b97f-d31f-4c07-a059-76a6795d1ee3",
   "metadata": {
    "tags": []
   },
   "outputs": [
    {
     "data": {
      "text/html": [
       "<div>\n",
       "<style scoped>\n",
       "    .dataframe tbody tr th:only-of-type {\n",
       "        vertical-align: middle;\n",
       "    }\n",
       "\n",
       "    .dataframe tbody tr th {\n",
       "        vertical-align: top;\n",
       "    }\n",
       "\n",
       "    .dataframe thead th {\n",
       "        text-align: right;\n",
       "    }\n",
       "</style>\n",
       "<table border=\"1\" class=\"dataframe\">\n",
       "  <thead>\n",
       "    <tr style=\"text-align: right;\">\n",
       "      <th></th>\n",
       "      <th>item_id</th>\n",
       "      <th>pred_rating</th>\n",
       "      <th>title</th>\n",
       "    </tr>\n",
       "  </thead>\n",
       "  <tbody>\n",
       "    <tr>\n",
       "      <th>0</th>\n",
       "      <td>4262</td>\n",
       "      <td>5.0</td>\n",
       "      <td>Scarface (1983)</td>\n",
       "    </tr>\n",
       "    <tr>\n",
       "      <th>1</th>\n",
       "      <td>2542</td>\n",
       "      <td>5.0</td>\n",
       "      <td>Lock, Stock &amp; Two Smoking Barrels (1998)</td>\n",
       "    </tr>\n",
       "    <tr>\n",
       "      <th>2</th>\n",
       "      <td>32587</td>\n",
       "      <td>5.0</td>\n",
       "      <td>Sin City (2005)</td>\n",
       "    </tr>\n",
       "    <tr>\n",
       "      <th>3</th>\n",
       "      <td>2959</td>\n",
       "      <td>5.0</td>\n",
       "      <td>Fight Club (1999)</td>\n",
       "    </tr>\n",
       "    <tr>\n",
       "      <th>4</th>\n",
       "      <td>57669</td>\n",
       "      <td>5.0</td>\n",
       "      <td>In Bruges (2008)</td>\n",
       "    </tr>\n",
       "    <tr>\n",
       "      <th>...</th>\n",
       "      <td>...</td>\n",
       "      <td>...</td>\n",
       "      <td>...</td>\n",
       "    </tr>\n",
       "    <tr>\n",
       "      <th>97</th>\n",
       "      <td>8961</td>\n",
       "      <td>1.0</td>\n",
       "      <td>Incredibles, The (2004)</td>\n",
       "    </tr>\n",
       "    <tr>\n",
       "      <th>98</th>\n",
       "      <td>6714</td>\n",
       "      <td>0.0</td>\n",
       "      <td>So Close (Chik Yeung Tin Sai) (2002)</td>\n",
       "    </tr>\n",
       "    <tr>\n",
       "      <th>99</th>\n",
       "      <td>86635</td>\n",
       "      <td>0.0</td>\n",
       "      <td>Vice (2008)</td>\n",
       "    </tr>\n",
       "    <tr>\n",
       "      <th>100</th>\n",
       "      <td>26934</td>\n",
       "      <td>0.0</td>\n",
       "      <td>God of Cookery (Sik san) (1996)</td>\n",
       "    </tr>\n",
       "    <tr>\n",
       "      <th>101</th>\n",
       "      <td>106022</td>\n",
       "      <td>0.0</td>\n",
       "      <td>Toy Story of Terror (2013)</td>\n",
       "    </tr>\n",
       "  </tbody>\n",
       "</table>\n",
       "<p>102 rows × 3 columns</p>\n",
       "</div>"
      ],
      "text/plain": [
       "     item_id  pred_rating                                     title\n",
       "0       4262          5.0                           Scarface (1983)\n",
       "1       2542          5.0  Lock, Stock & Two Smoking Barrels (1998)\n",
       "2      32587          5.0                           Sin City (2005)\n",
       "3       2959          5.0                         Fight Club (1999)\n",
       "4      57669          5.0                          In Bruges (2008)\n",
       "..       ...          ...                                       ...\n",
       "97      8961          1.0                   Incredibles, The (2004)\n",
       "98      6714          0.0      So Close (Chik Yeung Tin Sai) (2002)\n",
       "99     86635          0.0                               Vice (2008)\n",
       "100    26934          0.0           God of Cookery (Sik san) (1996)\n",
       "101   106022          0.0                Toy Story of Terror (2013)\n",
       "\n",
       "[102 rows x 3 columns]"
      ]
     },
     "execution_count": 19,
     "metadata": {},
     "output_type": "execute_result"
    }
   ],
   "source": [
    "recommended_example3.merge(metadata[['item_id', 'title']], on='item_id', how='left')"
   ]
  },
  {
   "cell_type": "code",
   "execution_count": 20,
   "id": "10098039-9e48-46b3-8f61-f0264d585a0e",
   "metadata": {
    "tags": []
   },
   "outputs": [],
   "source": [
    "# Function to calculate the predicted rating for a movie based on other similar movies\n",
    "def predicted_rating_test(movie_id, baseline, weights):\n",
    "    total_similarity = 0\n",
    "    weighted_ratings_sum = 0\n",
    "\n",
    "    # iterate each movie in the baseline set\n",
    "    for _, row in baseline.iterrows():\n",
    "        baseline_movie_id = row['item_id']\n",
    "        user_rating = row['rating']\n",
    "        \n",
    "        # get the sim_tags\n",
    "        sim_tags = similarity_data_tags.get(baseline_movie_id, {}).get(movie_id , 0)\n",
    "        print(\"sim_tags\", sim_tags)\n",
    "        # get the sim_actors\n",
    "        sim_actors = similarity_data_actors.get(baseline_movie_id, {}).get(movie_id, 0)\n",
    "        print(\"sim_actors\", sim_actors)\n",
    "        # get the sim_director\n",
    "        if baseline_movie_id in similarity_data_director.get(movie_id, []):\n",
    "            sim_director = 1\n",
    "        else:\n",
    "            sim_director = 0\n",
    "        print(\"sim_director\", sim_director)\n",
    "\n",
    "        sim_combine = (weights[0] * sim_tags + weights[1] * sim_actors + weights[2] * sim_director)\n",
    "\n",
    "        weighted_ratings_sum += sim_combine * user_rating\n",
    "        total_similarity += sim_combine\n",
    "\n",
    "    if total_similarity == 0:\n",
    "        return 0\n",
    "\n",
    "    return weighted_ratings_sum / total_similarity"
   ]
  }
 ],
 "metadata": {
  "kernelspec": {
   "display_name": "Python 3 (ipykernel)",
   "language": "python",
   "name": "python3"
  },
  "language_info": {
   "codemirror_mode": {
    "name": "ipython",
    "version": 3
   },
   "file_extension": ".py",
   "mimetype": "text/x-python",
   "name": "python",
   "nbconvert_exporter": "python",
   "pygments_lexer": "ipython3",
   "version": "3.11.5"
  }
 },
 "nbformat": 4,
 "nbformat_minor": 5
}
