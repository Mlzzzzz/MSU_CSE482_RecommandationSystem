{
 "cells": [
  {
   "cell_type": "markdown",
   "id": "9926532f-91f4-49c9-85a2-6b713394ba92",
   "metadata": {},
   "source": [
    "<h1>Collaborative Filtering Movie Recommendation - Item Based - Actors</h1>"
   ]
  },
  {
   "cell_type": "markdown",
   "id": "96c34b3c-85d0-46b7-8110-28388ccf26b8",
   "metadata": {},
   "source": [
    "In this notebook, we focus on determining the similarity between movies based on their actors. To analyze movie tags, we will utilize one data files: metadata.json. "
   ]
  },
  {
   "cell_type": "markdown",
   "id": "a1d02a1d-cbe7-42f5-a2b7-c9b6016e7301",
   "metadata": {},
   "source": [
    "metadata.json contains 84,661 lines of movie information from MovieLens - movie title, directors, actors, date that the movie was added to MovieLens, average rating, movie id on IMDB, movie identification id."
   ]
  },
  {
   "cell_type": "markdown",
   "id": "03ed2063-dfb7-49c0-891d-e91708794d25",
   "metadata": {},
   "source": [
    "To determine similarity between two movies, we will use Jaccard Similarity:\n",
    "Let $x$ and $y$ be a pair of binary 0/1 vectors.\n",
    "\n",
    "|       | $y_i = 1$ | $y_i = 0$ |\n",
    "|-------|-----------|-----------|\n",
    "| $x_i = 1$ | $M_{11}$  | $M_{10}$  |\n",
    "| $x_i = 0$ | $M_{01}$  | $M_{00}$  |\n",
    "\n",
    "- $M_{ij}$: number of elements in which $x = i$ and $y = j$.\n",
    "- Jaccard$(x, y)$ = $M_{11}$/$({M_{01} + M_{10} + M_{11}})$"
   ]
  },
  {
   "cell_type": "markdown",
   "id": "151cfa27-12ef-4ecd-a865-272b1c4d19c3",
   "metadata": {},
   "source": [
    "After preprocessing the datasets, we will generate a .csv file with three columns: movie_id; similar_movie; jac_sim."
   ]
  },
  {
   "cell_type": "markdown",
   "id": "54535cfd-d930-4095-8eb9-56389ab34c67",
   "metadata": {},
   "source": [
    "<h3>import data</h3>"
   ]
  },
  {
   "cell_type": "code",
   "execution_count": 1,
   "id": "71c35f7d-80be-4d83-a776-a1cf079d42d0",
   "metadata": {
    "tags": []
   },
   "outputs": [],
   "source": [
    "import pandas as pd\n",
    "import numpy as np"
   ]
  },
  {
   "cell_type": "code",
   "execution_count": 2,
   "id": "d7f67667-2a01-42b1-819e-3a81dc9cdbdd",
   "metadata": {
    "tags": []
   },
   "outputs": [
    {
     "data": {
      "text/html": [
       "<div>\n",
       "<style scoped>\n",
       "    .dataframe tbody tr th:only-of-type {\n",
       "        vertical-align: middle;\n",
       "    }\n",
       "\n",
       "    .dataframe tbody tr th {\n",
       "        vertical-align: top;\n",
       "    }\n",
       "\n",
       "    .dataframe thead th {\n",
       "        text-align: right;\n",
       "    }\n",
       "</style>\n",
       "<table border=\"1\" class=\"dataframe\">\n",
       "  <thead>\n",
       "    <tr style=\"text-align: right;\">\n",
       "      <th></th>\n",
       "      <th>title</th>\n",
       "      <th>directedBy</th>\n",
       "      <th>starring</th>\n",
       "      <th>dateAdded</th>\n",
       "      <th>avgRating</th>\n",
       "      <th>imdbId</th>\n",
       "      <th>item_id</th>\n",
       "    </tr>\n",
       "  </thead>\n",
       "  <tbody>\n",
       "    <tr>\n",
       "      <th>0</th>\n",
       "      <td>Toy Story (1995)</td>\n",
       "      <td>John Lasseter</td>\n",
       "      <td>Tim Allen, Tom Hanks, Don Rickles, Jim Varney,...</td>\n",
       "      <td>None</td>\n",
       "      <td>3.89146</td>\n",
       "      <td>114709</td>\n",
       "      <td>1</td>\n",
       "    </tr>\n",
       "    <tr>\n",
       "      <th>1</th>\n",
       "      <td>Jumanji (1995)</td>\n",
       "      <td>Joe Johnston</td>\n",
       "      <td>Jonathan Hyde, Bradley Pierce, Robin Williams,...</td>\n",
       "      <td>None</td>\n",
       "      <td>3.26605</td>\n",
       "      <td>113497</td>\n",
       "      <td>2</td>\n",
       "    </tr>\n",
       "    <tr>\n",
       "      <th>2</th>\n",
       "      <td>Grumpier Old Men (1995)</td>\n",
       "      <td>Howard Deutch</td>\n",
       "      <td>Jack Lemmon, Walter Matthau, Ann-Margret , Sop...</td>\n",
       "      <td>None</td>\n",
       "      <td>3.17146</td>\n",
       "      <td>113228</td>\n",
       "      <td>3</td>\n",
       "    </tr>\n",
       "    <tr>\n",
       "      <th>3</th>\n",
       "      <td>Waiting to Exhale (1995)</td>\n",
       "      <td>Forest Whitaker</td>\n",
       "      <td>Angela Bassett, Loretta Devine, Whitney Housto...</td>\n",
       "      <td>None</td>\n",
       "      <td>2.86824</td>\n",
       "      <td>114885</td>\n",
       "      <td>4</td>\n",
       "    </tr>\n",
       "    <tr>\n",
       "      <th>4</th>\n",
       "      <td>Father of the Bride Part II (1995)</td>\n",
       "      <td>Charles Shyer</td>\n",
       "      <td>Steve Martin, Martin Short, Diane Keaton, Kimb...</td>\n",
       "      <td>None</td>\n",
       "      <td>3.07620</td>\n",
       "      <td>113041</td>\n",
       "      <td>5</td>\n",
       "    </tr>\n",
       "  </tbody>\n",
       "</table>\n",
       "</div>"
      ],
      "text/plain": [
       "                                title       directedBy  \\\n",
       "0                    Toy Story (1995)    John Lasseter   \n",
       "1                      Jumanji (1995)     Joe Johnston   \n",
       "2             Grumpier Old Men (1995)    Howard Deutch   \n",
       "3            Waiting to Exhale (1995)  Forest Whitaker   \n",
       "4  Father of the Bride Part II (1995)    Charles Shyer   \n",
       "\n",
       "                                            starring dateAdded  avgRating  \\\n",
       "0  Tim Allen, Tom Hanks, Don Rickles, Jim Varney,...      None    3.89146   \n",
       "1  Jonathan Hyde, Bradley Pierce, Robin Williams,...      None    3.26605   \n",
       "2  Jack Lemmon, Walter Matthau, Ann-Margret , Sop...      None    3.17146   \n",
       "3  Angela Bassett, Loretta Devine, Whitney Housto...      None    2.86824   \n",
       "4  Steve Martin, Martin Short, Diane Keaton, Kimb...      None    3.07620   \n",
       "\n",
       "   imdbId  item_id  \n",
       "0  114709        1  \n",
       "1  113497        2  \n",
       "2  113228        3  \n",
       "3  114885        4  \n",
       "4  113041        5  "
      ]
     },
     "execution_count": 2,
     "metadata": {},
     "output_type": "execute_result"
    }
   ],
   "source": [
    "# Importing matadata.json\n",
    "metadata = pd.read_json(r'F:\\DS_Dataset\\genome_2021\\movie_dataset_public_final\\raw\\metadata.json', lines=True)\n",
    "metadata.head()"
   ]
  },
  {
   "cell_type": "code",
   "execution_count": 3,
   "id": "991c50b0-b92d-4c38-a9be-d9a814e11821",
   "metadata": {
    "tags": []
   },
   "outputs": [
    {
     "name": "stdout",
     "output_type": "stream",
     "text": [
      "Empty DataFrame\n",
      "Columns: [title, directedBy, starring, dateAdded, avgRating, imdbId, item_id]\n",
      "Index: []\n"
     ]
    }
   ],
   "source": [
    "# Examining dublicated data of metadata\n",
    "metadata_duplicates = metadata.duplicated()\n",
    "print(metadata[metadata_duplicates])"
   ]
  },
  {
   "cell_type": "code",
   "execution_count": 4,
   "id": "155ed536-faf9-453a-bac5-8301720207a1",
   "metadata": {
    "tags": []
   },
   "outputs": [
    {
     "data": {
      "text/plain": [
       "{1: 61074,\n",
       " 2: 1495,\n",
       " 3: 4646,\n",
       " 4: 7563,\n",
       " 5: 3687,\n",
       " 6: 1806,\n",
       " 7: 1065,\n",
       " 8: 744,\n",
       " 9: 515,\n",
       " 10: 394,\n",
       " 11: 324,\n",
       " 12: 258,\n",
       " 13: 197,\n",
       " 14: 163,\n",
       " 15: 179,\n",
       " 16: 90,\n",
       " 17: 83,\n",
       " 18: 84,\n",
       " 19: 46,\n",
       " 20: 41,\n",
       " 21: 42,\n",
       " 22: 24,\n",
       " 23: 16,\n",
       " 24: 19,\n",
       " 25: 13,\n",
       " 26: 12,\n",
       " 27: 11,\n",
       " 28: 13,\n",
       " 29: 15,\n",
       " 30: 9,\n",
       " 31: 4,\n",
       " 32: 6,\n",
       " 33: 1,\n",
       " 34: 2,\n",
       " 35: 4,\n",
       " 36: 3,\n",
       " 37: 2,\n",
       " 38: 1,\n",
       " 40: 2,\n",
       " 41: 3,\n",
       " 51: 1,\n",
       " 52: 1,\n",
       " 57: 2,\n",
       " 70: 1}"
      ]
     },
     "execution_count": 4,
     "metadata": {},
     "output_type": "execute_result"
    }
   ],
   "source": [
    "# Examining distributions of number of starring in metadata\n",
    "actor_count_distribution = {}\n",
    "\n",
    "for index, row in metadata.iterrows():\n",
    "    starring = row[\"starring\"].split(', ') if pd.notna(row[\"starring\"]) else []\n",
    "    actor_count = len(starring)\n",
    "    \n",
    "\n",
    "    if actor_count in actor_count_distribution:\n",
    "        actor_count_distribution[actor_count] += 1\n",
    "    else:\n",
    "        actor_count_distribution[actor_count] = 1\n",
    "\n",
    "\n",
    "actor_count_distribution_sorted = sorted(actor_count_distribution.items(), key=lambda x: x[0])\n",
    "actor_count_distribution = dict(actor_count_distribution_sorted)\n",
    "actor_count_distribution"
   ]
  },
  {
   "cell_type": "markdown",
   "id": "102ece42-7d71-4758-90c7-f7cbcf97fdb6",
   "metadata": {},
   "source": [
    "Most movies in the database only contains one actors. Due to the sparseness of the data, Jaccard similarity will be a good choice to determine similarity between two movies."
   ]
  },
  {
   "cell_type": "markdown",
   "id": "c9d9f5c4-0dc0-4d73-897e-e80983c8d14c",
   "metadata": {},
   "source": [
    "<h3>calculate the Jaccard similarity</h3>"
   ]
  },
  {
   "cell_type": "code",
   "execution_count": 5,
   "id": "93184f84-6272-44fb-afc5-f33f15fa5d30",
   "metadata": {
    "tags": []
   },
   "outputs": [],
   "source": [
    "# Extract a set of all unique actors\n",
    "all_actors = set()\n",
    "for actors in metadata['starring']:\n",
    "    all_actors.update(actors.split(', '))\n",
    "actor_list = list(all_actors)"
   ]
  },
  {
   "cell_type": "code",
   "execution_count": 6,
   "id": "8158070c-f8d7-414c-847b-14230e5b410b",
   "metadata": {
    "tags": []
   },
   "outputs": [
    {
     "data": {
      "text/plain": [
       "94646"
      ]
     },
     "execution_count": 6,
     "metadata": {},
     "output_type": "execute_result"
    }
   ],
   "source": [
    "len(actor_list)"
   ]
  },
  {
   "cell_type": "markdown",
   "id": "9ac197ed-2ffb-4d09-a79d-a6a678196485",
   "metadata": {},
   "source": [
    "There are 94646 unique actors in total."
   ]
  },
  {
   "cell_type": "code",
   "execution_count": 7,
   "id": "147e8f6e-5480-4395-b8ca-15ddc1370e66",
   "metadata": {
    "tags": []
   },
   "outputs": [],
   "source": [
    "movie_actors_df = pd.DataFrame({\n",
    "    'item_id': metadata['item_id'],\n",
    "    'actors': [actors.split(', ') for actors in metadata['starring']]\n",
    "})"
   ]
  },
  {
   "cell_type": "code",
   "execution_count": 8,
   "id": "67ab5912-eb4b-4430-b6ea-d835b983a344",
   "metadata": {
    "tags": []
   },
   "outputs": [
    {
     "data": {
      "text/html": [
       "<div>\n",
       "<style scoped>\n",
       "    .dataframe tbody tr th:only-of-type {\n",
       "        vertical-align: middle;\n",
       "    }\n",
       "\n",
       "    .dataframe tbody tr th {\n",
       "        vertical-align: top;\n",
       "    }\n",
       "\n",
       "    .dataframe thead th {\n",
       "        text-align: right;\n",
       "    }\n",
       "</style>\n",
       "<table border=\"1\" class=\"dataframe\">\n",
       "  <thead>\n",
       "    <tr style=\"text-align: right;\">\n",
       "      <th></th>\n",
       "      <th>item_id</th>\n",
       "      <th>actors</th>\n",
       "    </tr>\n",
       "  </thead>\n",
       "  <tbody>\n",
       "    <tr>\n",
       "      <th>0</th>\n",
       "      <td>1</td>\n",
       "      <td>[Tim Allen, Tom Hanks, Don Rickles, Jim Varney...</td>\n",
       "    </tr>\n",
       "    <tr>\n",
       "      <th>1</th>\n",
       "      <td>2</td>\n",
       "      <td>[Jonathan Hyde, Bradley Pierce, Robin Williams...</td>\n",
       "    </tr>\n",
       "    <tr>\n",
       "      <th>2</th>\n",
       "      <td>3</td>\n",
       "      <td>[Jack Lemmon, Walter Matthau, Ann-Margret , So...</td>\n",
       "    </tr>\n",
       "    <tr>\n",
       "      <th>3</th>\n",
       "      <td>4</td>\n",
       "      <td>[Angela Bassett, Loretta Devine, Whitney Houst...</td>\n",
       "    </tr>\n",
       "    <tr>\n",
       "      <th>4</th>\n",
       "      <td>5</td>\n",
       "      <td>[Steve Martin, Martin Short, Diane Keaton, Kim...</td>\n",
       "    </tr>\n",
       "    <tr>\n",
       "      <th>...</th>\n",
       "      <td>...</td>\n",
       "      <td>...</td>\n",
       "    </tr>\n",
       "    <tr>\n",
       "      <th>84656</th>\n",
       "      <td>239306</td>\n",
       "      <td>[William Shatner,Lynn Carlin,Ossie Davis,Vivec...</td>\n",
       "    </tr>\n",
       "    <tr>\n",
       "      <th>84657</th>\n",
       "      <td>239308</td>\n",
       "      <td>[Richard Crenna,Patty Duke,Vic Morrow,Arlene G...</td>\n",
       "    </tr>\n",
       "    <tr>\n",
       "      <th>84658</th>\n",
       "      <td>239310</td>\n",
       "      <td>[Chinawut Indracusin,Paisarnkulwong Vachiravit...</td>\n",
       "    </tr>\n",
       "    <tr>\n",
       "      <th>84659</th>\n",
       "      <td>239312</td>\n",
       "      <td>[วชิรวิชญ์ ไพศาลกุลวงศ์,ภูริพรรธน์ เวชวงศาเตชา...</td>\n",
       "    </tr>\n",
       "    <tr>\n",
       "      <th>84660</th>\n",
       "      <td>239314</td>\n",
       "      <td>[Steve Vaccariello,Barbara Zaun,Rob Babik,Brad...</td>\n",
       "    </tr>\n",
       "  </tbody>\n",
       "</table>\n",
       "<p>84661 rows × 2 columns</p>\n",
       "</div>"
      ],
      "text/plain": [
       "       item_id                                             actors\n",
       "0            1  [Tim Allen, Tom Hanks, Don Rickles, Jim Varney...\n",
       "1            2  [Jonathan Hyde, Bradley Pierce, Robin Williams...\n",
       "2            3  [Jack Lemmon, Walter Matthau, Ann-Margret , So...\n",
       "3            4  [Angela Bassett, Loretta Devine, Whitney Houst...\n",
       "4            5  [Steve Martin, Martin Short, Diane Keaton, Kim...\n",
       "...        ...                                                ...\n",
       "84656   239306  [William Shatner,Lynn Carlin,Ossie Davis,Vivec...\n",
       "84657   239308  [Richard Crenna,Patty Duke,Vic Morrow,Arlene G...\n",
       "84658   239310  [Chinawut Indracusin,Paisarnkulwong Vachiravit...\n",
       "84659   239312  [วชิรวิชญ์ ไพศาลกุลวงศ์,ภูริพรรธน์ เวชวงศาเตชา...\n",
       "84660   239314  [Steve Vaccariello,Barbara Zaun,Rob Babik,Brad...\n",
       "\n",
       "[84661 rows x 2 columns]"
      ]
     },
     "execution_count": 8,
     "metadata": {},
     "output_type": "execute_result"
    }
   ],
   "source": [
    "movie_actors_df"
   ]
  },
  {
   "cell_type": "code",
   "execution_count": 9,
   "id": "493b7170-8694-4989-af61-1b43d61a6c9d",
   "metadata": {
    "tags": []
   },
   "outputs": [],
   "source": [
    "# Function to calculate the Jaccard similarity\n",
    "def jaccard_similarity(set1, set2):\n",
    "    intersection = len(set1.intersection(set2))\n",
    "    union = len(set1.union(set2))\n",
    "    return intersection / union if union != 0 else 0"
   ]
  },
  {
   "cell_type": "code",
   "execution_count": 10,
   "id": "a70c0edc-336d-4153-9514-13a579135e66",
   "metadata": {
    "tags": []
   },
   "outputs": [],
   "source": [
    "movie_actors_dict = movie_actors_df.set_index('item_id')['actors'].apply(set).to_dict()"
   ]
  },
  {
   "cell_type": "code",
   "execution_count": 11,
   "id": "78c20ad6-07c1-4d11-89af-fc4a1f020c3a",
   "metadata": {
    "tags": []
   },
   "outputs": [],
   "source": [
    "# Function to find similar movies based on shared actors\n",
    "def find_similar_movies_by_actors(target_id, top_n=100):\n",
    "    # Retrieve the set of actors for the target movie\n",
    "    target_actors = movie_actors_dict[target_id]\n",
    "    similarities = []\n",
    "\n",
    "    # Iterate through each movie and calculate similarity\n",
    "    for movie_id, actors in movie_actors_dict.items():\n",
    "        if movie_id != target_id:\n",
    "            if target_actors.intersection(actors):  # Check for shared actors\n",
    "                jac_sim = jaccard_similarity(target_actors, actors)\n",
    "                similarities.append((movie_id, jac_sim))\n",
    "\n",
    "    # Sort by Jaccard similarity and limit to top_n results\n",
    "    sorted_similarities = sorted(similarities, key=lambda x: x[1], reverse=True)[:top_n]\n",
    "\n",
    "    # Create a DataFrame for the result\n",
    "    result_df = pd.DataFrame(sorted_similarities, columns=['similar_movie', 'jac_sim'])\n",
    "    result_df.insert(0, 'movie_id', target_id)\n",
    "\n",
    "    return result_df"
   ]
  },
  {
   "cell_type": "code",
   "execution_count": 12,
   "id": "63c701cf-3afd-4110-9cc9-3a2e9e1207dd",
   "metadata": {
    "tags": []
   },
   "outputs": [
    {
     "data": {
      "text/html": [
       "<div>\n",
       "<style scoped>\n",
       "    .dataframe tbody tr th:only-of-type {\n",
       "        vertical-align: middle;\n",
       "    }\n",
       "\n",
       "    .dataframe tbody tr th {\n",
       "        vertical-align: top;\n",
       "    }\n",
       "\n",
       "    .dataframe thead th {\n",
       "        text-align: right;\n",
       "    }\n",
       "</style>\n",
       "<table border=\"1\" class=\"dataframe\">\n",
       "  <thead>\n",
       "    <tr style=\"text-align: right;\">\n",
       "      <th></th>\n",
       "      <th>movie_id</th>\n",
       "      <th>similar_movie</th>\n",
       "      <th>jac_sim</th>\n",
       "    </tr>\n",
       "  </thead>\n",
       "  <tbody>\n",
       "    <tr>\n",
       "      <th>0</th>\n",
       "      <td>1</td>\n",
       "      <td>3114</td>\n",
       "      <td>0.476190</td>\n",
       "    </tr>\n",
       "    <tr>\n",
       "      <th>1</th>\n",
       "      <td>1</td>\n",
       "      <td>78499</td>\n",
       "      <td>0.216216</td>\n",
       "    </tr>\n",
       "    <tr>\n",
       "      <th>2</th>\n",
       "      <td>1</td>\n",
       "      <td>106022</td>\n",
       "      <td>0.200000</td>\n",
       "    </tr>\n",
       "    <tr>\n",
       "      <th>3</th>\n",
       "      <td>1</td>\n",
       "      <td>8961</td>\n",
       "      <td>0.105263</td>\n",
       "    </tr>\n",
       "    <tr>\n",
       "      <th>4</th>\n",
       "      <td>1</td>\n",
       "      <td>73469</td>\n",
       "      <td>0.100000</td>\n",
       "    </tr>\n",
       "    <tr>\n",
       "      <th>...</th>\n",
       "      <td>...</td>\n",
       "      <td>...</td>\n",
       "      <td>...</td>\n",
       "    </tr>\n",
       "    <tr>\n",
       "      <th>95</th>\n",
       "      <td>1</td>\n",
       "      <td>48518</td>\n",
       "      <td>0.062500</td>\n",
       "    </tr>\n",
       "    <tr>\n",
       "      <th>96</th>\n",
       "      <td>1</td>\n",
       "      <td>68554</td>\n",
       "      <td>0.062500</td>\n",
       "    </tr>\n",
       "    <tr>\n",
       "      <th>97</th>\n",
       "      <td>1</td>\n",
       "      <td>91325</td>\n",
       "      <td>0.062500</td>\n",
       "    </tr>\n",
       "    <tr>\n",
       "      <th>98</th>\n",
       "      <td>1</td>\n",
       "      <td>105504</td>\n",
       "      <td>0.062500</td>\n",
       "    </tr>\n",
       "    <tr>\n",
       "      <th>99</th>\n",
       "      <td>1</td>\n",
       "      <td>539</td>\n",
       "      <td>0.058824</td>\n",
       "    </tr>\n",
       "  </tbody>\n",
       "</table>\n",
       "<p>100 rows × 3 columns</p>\n",
       "</div>"
      ],
      "text/plain": [
       "    movie_id  similar_movie   jac_sim\n",
       "0          1           3114  0.476190\n",
       "1          1          78499  0.216216\n",
       "2          1         106022  0.200000\n",
       "3          1           8961  0.105263\n",
       "4          1          73469  0.100000\n",
       "..       ...            ...       ...\n",
       "95         1          48518  0.062500\n",
       "96         1          68554  0.062500\n",
       "97         1          91325  0.062500\n",
       "98         1         105504  0.062500\n",
       "99         1            539  0.058824\n",
       "\n",
       "[100 rows x 3 columns]"
      ]
     },
     "execution_count": 12,
     "metadata": {},
     "output_type": "execute_result"
    }
   ],
   "source": [
    "# use movie id \"1\" to test the find_similar_movies_by_actors function\n",
    "find_similar_movies_by_actors(1, top_n=100)"
   ]
  },
  {
   "cell_type": "code",
   "execution_count": 13,
   "id": "86ed6f7e-26c5-4338-8ef0-ff913ddacbcb",
   "metadata": {
    "tags": []
   },
   "outputs": [
    {
     "data": {
      "text/html": [
       "<div>\n",
       "<style scoped>\n",
       "    .dataframe tbody tr th:only-of-type {\n",
       "        vertical-align: middle;\n",
       "    }\n",
       "\n",
       "    .dataframe tbody tr th {\n",
       "        vertical-align: top;\n",
       "    }\n",
       "\n",
       "    .dataframe thead th {\n",
       "        text-align: right;\n",
       "    }\n",
       "</style>\n",
       "<table border=\"1\" class=\"dataframe\">\n",
       "  <thead>\n",
       "    <tr style=\"text-align: right;\">\n",
       "      <th></th>\n",
       "      <th>item_id</th>\n",
       "      <th>actors</th>\n",
       "    </tr>\n",
       "  </thead>\n",
       "  <tbody>\n",
       "    <tr>\n",
       "      <th>0</th>\n",
       "      <td>1</td>\n",
       "      <td>[Tim Allen, Tom Hanks, Don Rickles, Jim Varney...</td>\n",
       "    </tr>\n",
       "    <tr>\n",
       "      <th>3028</th>\n",
       "      <td>3114</td>\n",
       "      <td>[Tom Hanks, Tim Allen, Joan Cusack, Kelsey Gra...</td>\n",
       "    </tr>\n",
       "  </tbody>\n",
       "</table>\n",
       "</div>"
      ],
      "text/plain": [
       "      item_id                                             actors\n",
       "0           1  [Tim Allen, Tom Hanks, Don Rickles, Jim Varney...\n",
       "3028     3114  [Tom Hanks, Tim Allen, Joan Cusack, Kelsey Gra..."
      ]
     },
     "execution_count": 13,
     "metadata": {},
     "output_type": "execute_result"
    }
   ],
   "source": [
    "movie_actors_df[movie_actors_df['item_id'].isin([1, 3114])]"
   ]
  },
  {
   "cell_type": "code",
   "execution_count": 14,
   "id": "0c8ff1c6-59a2-4af9-a7c3-9713e9c1d739",
   "metadata": {
    "tags": []
   },
   "outputs": [],
   "source": [
    "# Initialize an empty DataFrame for aggregated results\n",
    "similar_movie_actors = pd.DataFrame()\n",
    "\n",
    "# Iterate through each movie in the DataFrame\n",
    "for movie_id in movie_actors_df['item_id']:\n",
    "    # Find similar movies for the current movie\n",
    "    similar_movies_df = find_similar_movies_by_actors(movie_id)\n",
    "    \n",
    "    # Append the result to the aggregated DataFrame\n",
    "    similar_movie_actors = pd.concat([similar_movie_actors, similar_movies_df])\n",
    "\n",
    "# Reset index of the final DataFrame\n",
    "similar_movie_actors.reset_index(drop=True, inplace=True)\n",
    "\n",
    "# Export to CSV\n",
    "similar_movie_actors.to_csv('similar_movie_actors.csv', index=False)"
   ]
  }
 ],
 "metadata": {
  "kernelspec": {
   "display_name": "Python 3 (ipykernel)",
   "language": "python",
   "name": "python3"
  },
  "language_info": {
   "codemirror_mode": {
    "name": "ipython",
    "version": 3
   },
   "file_extension": ".py",
   "mimetype": "text/x-python",
   "name": "python",
   "nbconvert_exporter": "python",
   "pygments_lexer": "ipython3",
   "version": "3.11.5"
  }
 },
 "nbformat": 4,
 "nbformat_minor": 5
}
